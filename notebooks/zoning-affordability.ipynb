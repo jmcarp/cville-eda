{
 "cells": [
  {
   "cell_type": "markdown",
   "id": "cce2d18f-fd75-49cd-9da7-35b3a3e69fc1",
   "metadata": {},
   "source": [
    "# Zoning and the cost of living"
   ]
  },
  {
   "cell_type": "code",
   "execution_count": 1,
   "id": "cac9b22d",
   "metadata": {
    "jupyter": {
     "source_hidden": true
    },
    "tags": []
   },
   "outputs": [],
   "source": [
    "%load_ext google.cloud.bigquery"
   ]
  },
  {
   "cell_type": "code",
   "execution_count": 2,
   "id": "dac48c88",
   "metadata": {
    "jupyter": {
     "source_hidden": true
    },
    "tags": []
   },
   "outputs": [],
   "source": [
    "import altair as alt\n",
    "import pandas as pd"
   ]
  },
  {
   "cell_type": "markdown",
   "id": "deba2773",
   "metadata": {},
   "source": [
    "## Housing costs\n",
    "\n",
    "How expensive is housing in the Charlottesville area? Over one in four households in the Charlottesville Metropolitan Statistical Area were cost-burdened in 2018, meaning that they spent more than 30% of their income on housing. Over one in eight households were severly cost-burdened, meaning they spent more than 50% of their income on housing.\n",
    "\n",
    "Even some high-income households are cost-burdened, including over 2000 households above the area median income (AMI). However, the proportion of cost-burdened households is highest for lower-income households. Among households earning 30% of the AMI, about 72% were cost-burdened, and about 60% were severely cost-burdened."
   ]
  },
  {
   "cell_type": "code",
   "execution_count": 3,
   "id": "c5134869",
   "metadata": {
    "collapsed": true,
    "jupyter": {
     "outputs_hidden": true,
     "source_hidden": true
    },
    "tags": []
   },
   "outputs": [
    {
     "name": "stderr",
     "output_type": "stream",
     "text": [
      "/var/folders/k8/zmjmsrr92n18ywxl6hdq1svw0000gn/T/ipykernel_84894/1646634688.py:4: SettingWithCopyWarning: \n",
      "A value is trying to be set on a copy of a slice from a DataFrame.\n",
      "Try using .loc[row_indexer,col_indexer] = value instead\n",
      "\n",
      "See the caveats in the documentation: https://pandas.pydata.org/pandas-docs/stable/user_guide/indexing.html#returning-a-view-versus-a-copy\n",
      "  chas_data[\"name\"] = chas_data[\"name\"].str.replace(\" city\", \" City\").str.replace(\", Virginia\", \"\")\n"
     ]
    }
   ],
   "source": [
    "chas_datadict = pd.read_excel(\"/Users/josh.carp/Downloads/050/CHAS data dictionary 14-18.xlsx\", sheet_name=\"Table 8\")\n",
    "chas_data = df = pd.read_csv('/Users/josh.carp/Downloads/050/Table8.csv', encoding='latin-1')\n",
    "chas_data = chas_data[chas_data[\"name\"].str.endswith(\", Virginia\")]\n",
    "chas_data[\"name\"] = chas_data[\"name\"].str.replace(\" city\", \" City\").str.replace(\", Virginia\", \"\")"
   ]
  },
  {
   "cell_type": "code",
   "execution_count": 4,
   "id": "f0a86eba",
   "metadata": {
    "jupyter": {
     "source_hidden": true
    },
    "tags": []
   },
   "outputs": [],
   "source": [
    "incomes = {\n",
    "    \"0-30%\": \"less than or equal to 30% of HAMFI\",\n",
    "    \"30-50%\": \"greater than 30% but less than or equal to 50% of HAMFI\",\n",
    "    \"50-80%\": \"greater than 50% but less than or equal to 80% of HAMFI\",\n",
    "    \"80-100%\": \"greater than 80% but less than or equal to 100% of HAMFI\",\n",
    "    \">100%\": \"greater than 100% of HAMFI\",\n",
    "}\n",
    "cost_burdens = {\n",
    "    \"30%\": (\"greater than 30% but less than or equal to 50%\", \"greater than 50%\"),\n",
    "    \"50%\": (\"greater than 50%\",),\n",
    "    \n",
    "}\n",
    "cville_msa_counties = {\n",
    "    \"Albemarle County\",\n",
    "    \"Charlottesville City\",\n",
    "    \"Fluvanna County\",\n",
    "    \"Greene County\",\n",
    "    \"Nelson County\",\n",
    "}\n",
    "\n",
    "base_conditions = (chas_datadict['Tenure'].isin(['Renter occupied', 'Owner occupied'])) & (chas_datadict['Facilities'] == 'All')\n",
    "frames = []\n",
    "for income_label, income_value in incomes.items():\n",
    "    for burden_label, burden_values in cost_burdens.items():\n",
    "        burden_columns = chas_datadict['Column Name'][base_conditions & (chas_datadict['Household income'] == income_value) & (chas_datadict['Cost burden'].isin(burden_values))]\n",
    "        all_columns = chas_datadict['Column Name'][base_conditions & (chas_datadict['Household income'] == income_value) & (chas_datadict['Cost burden'].isin((\"All\",)))]\n",
    "        burden_count = chas_data[burden_columns].sum(axis=1)\n",
    "        total_count = chas_data[all_columns].sum(axis=1)\n",
    "        frame = pd.DataFrame({\"name\": chas_data[\"name\"], \"income_level\": income_label, \"burden_level\": burden_label, \"burden_count\": burden_count, \"total_count\": total_count})\n",
    "        frames.append(frame)\n",
    "summary_long = pd.concat(frames)"
   ]
  },
  {
   "cell_type": "code",
   "execution_count": 5,
   "id": "97ee5337-619c-402d-afa7-00356a8bcc3c",
   "metadata": {
    "jupyter": {
     "source_hidden": true
    },
    "tags": []
   },
   "outputs": [
    {
     "data": {
      "text/html": [
       "<div>\n",
       "<style scoped>\n",
       "    .dataframe tbody tr th:only-of-type {\n",
       "        vertical-align: middle;\n",
       "    }\n",
       "\n",
       "    .dataframe tbody tr th {\n",
       "        vertical-align: top;\n",
       "    }\n",
       "\n",
       "    .dataframe thead th {\n",
       "        text-align: right;\n",
       "    }\n",
       "</style>\n",
       "<table border=\"1\" class=\"dataframe\">\n",
       "  <thead>\n",
       "    <tr style=\"text-align: right;\">\n",
       "      <th></th>\n",
       "      <th>burden_level</th>\n",
       "      <th>burden_count</th>\n",
       "      <th>total_count</th>\n",
       "      <th>burden_prop</th>\n",
       "    </tr>\n",
       "  </thead>\n",
       "  <tbody>\n",
       "    <tr>\n",
       "      <th>0</th>\n",
       "      <td>30%</td>\n",
       "      <td>21918</td>\n",
       "      <td>82885</td>\n",
       "      <td>0.264439</td>\n",
       "    </tr>\n",
       "    <tr>\n",
       "      <th>1</th>\n",
       "      <td>50%</td>\n",
       "      <td>10748</td>\n",
       "      <td>82885</td>\n",
       "      <td>0.129674</td>\n",
       "    </tr>\n",
       "  </tbody>\n",
       "</table>\n",
       "</div>"
      ],
      "text/plain": [
       "  burden_level  burden_count  total_count  burden_prop\n",
       "0          30%         21918        82885     0.264439\n",
       "1          50%         10748        82885     0.129674"
      ]
     },
     "execution_count": 5,
     "metadata": {},
     "output_type": "execute_result"
    }
   ],
   "source": [
    "summary_agg_burden = summary_long[summary_long[\"name\"].isin(cville_msa_counties)].groupby([\"burden_level\"]).sum().reset_index()\n",
    "summary_agg_burden[\"burden_prop\"] = summary_agg_burden[\"burden_count\"] / summary_agg_burden[\"total_count\"]\n",
    "summary_agg_burden"
   ]
  },
  {
   "cell_type": "code",
   "execution_count": 6,
   "id": "555224b5-a30c-4f99-9c69-4f90d695c8fc",
   "metadata": {
    "jupyter": {
     "source_hidden": true
    },
    "tags": []
   },
   "outputs": [],
   "source": [
    "summary_agg_burden_income = summary_long[summary_long[\"name\"].isin(cville_msa_counties)].groupby([\"burden_level\", \"income_level\"]).sum().reset_index()\n",
    "summary_agg_burden_income[\"burden_prop\"] = summary_agg_burden_income[\"burden_count\"] / summary_agg_burden_income[\"total_count\"]"
   ]
  },
  {
   "cell_type": "code",
   "execution_count": 7,
   "id": "0bfb545e",
   "metadata": {
    "jupyter": {
     "source_hidden": true
    },
    "tags": []
   },
   "outputs": [
    {
     "data": {
      "text/html": [
       "\n",
       "<div id=\"altair-viz-283a5d2207b940a99f6579ab52e69bc0\"></div>\n",
       "<script type=\"text/javascript\">\n",
       "  var VEGA_DEBUG = (typeof VEGA_DEBUG == \"undefined\") ? {} : VEGA_DEBUG;\n",
       "  (function(spec, embedOpt){\n",
       "    let outputDiv = document.currentScript.previousElementSibling;\n",
       "    if (outputDiv.id !== \"altair-viz-283a5d2207b940a99f6579ab52e69bc0\") {\n",
       "      outputDiv = document.getElementById(\"altair-viz-283a5d2207b940a99f6579ab52e69bc0\");\n",
       "    }\n",
       "    const paths = {\n",
       "      \"vega\": \"https://cdn.jsdelivr.net/npm//vega@5?noext\",\n",
       "      \"vega-lib\": \"https://cdn.jsdelivr.net/npm//vega-lib?noext\",\n",
       "      \"vega-lite\": \"https://cdn.jsdelivr.net/npm//vega-lite@4.17.0?noext\",\n",
       "      \"vega-embed\": \"https://cdn.jsdelivr.net/npm//vega-embed@6?noext\",\n",
       "    };\n",
       "\n",
       "    function maybeLoadScript(lib, version) {\n",
       "      var key = `${lib.replace(\"-\", \"\")}_version`;\n",
       "      return (VEGA_DEBUG[key] == version) ?\n",
       "        Promise.resolve(paths[lib]) :\n",
       "        new Promise(function(resolve, reject) {\n",
       "          var s = document.createElement('script');\n",
       "          document.getElementsByTagName(\"head\")[0].appendChild(s);\n",
       "          s.async = true;\n",
       "          s.onload = () => {\n",
       "            VEGA_DEBUG[key] = version;\n",
       "            return resolve(paths[lib]);\n",
       "          };\n",
       "          s.onerror = () => reject(`Error loading script: ${paths[lib]}`);\n",
       "          s.src = paths[lib];\n",
       "        });\n",
       "    }\n",
       "\n",
       "    function showError(err) {\n",
       "      outputDiv.innerHTML = `<div class=\"error\" style=\"color:red;\">${err}</div>`;\n",
       "      throw err;\n",
       "    }\n",
       "\n",
       "    function displayChart(vegaEmbed) {\n",
       "      vegaEmbed(outputDiv, spec, embedOpt)\n",
       "        .catch(err => showError(`Javascript Error: ${err.message}<br>This usually means there's a typo in your chart specification. See the javascript console for the full traceback.`));\n",
       "    }\n",
       "\n",
       "    if(typeof define === \"function\" && define.amd) {\n",
       "      requirejs.config({paths});\n",
       "      require([\"vega-embed\"], displayChart, err => showError(`Error loading script: ${err.message}`));\n",
       "    } else {\n",
       "      maybeLoadScript(\"vega\", \"5\")\n",
       "        .then(() => maybeLoadScript(\"vega-lite\", \"4.17.0\"))\n",
       "        .then(() => maybeLoadScript(\"vega-embed\", \"6\"))\n",
       "        .catch(showError)\n",
       "        .then(() => displayChart(vegaEmbed));\n",
       "    }\n",
       "  })({\"config\": {\"view\": {\"continuousWidth\": 400, \"continuousHeight\": 300}}, \"data\": {\"name\": \"data-10291e80fc8028e05f45fa0a0e18b07a\"}, \"mark\": \"bar\", \"encoding\": {\"color\": {\"field\": \"income_level\", \"type\": \"nominal\"}, \"column\": {\"field\": \"burden_level\", \"type\": \"nominal\"}, \"tooltip\": {\"field\": \"burden_count\", \"type\": \"quantitative\"}, \"x\": {\"field\": \"burden_count\", \"type\": \"quantitative\"}, \"y\": {\"field\": \"income_level\", \"sort\": \"y\", \"type\": \"nominal\"}}, \"title\": \"Count of cost-burdened households in the Charlottesville MSA\", \"$schema\": \"https://vega.github.io/schema/vega-lite/v4.17.0.json\", \"datasets\": {\"data-10291e80fc8028e05f45fa0a0e18b07a\": [{\"burden_level\": \"30%\", \"income_level\": \"0-30%\", \"burden_count\": 7425, \"total_count\": 10340, \"burden_prop\": 0.7180851063829787}, {\"burden_level\": \"30%\", \"income_level\": \"30-50%\", \"burden_count\": 5145, \"total_count\": 8260, \"burden_prop\": 0.6228813559322034}, {\"burden_level\": \"30%\", \"income_level\": \"50-80%\", \"burden_count\": 5370, \"total_count\": 13110, \"burden_prop\": 0.4096109839816934}, {\"burden_level\": \"30%\", \"income_level\": \"80-100%\", \"burden_count\": 1794, \"total_count\": 8390, \"burden_prop\": 0.21382598331346842}, {\"burden_level\": \"30%\", \"income_level\": \">100%\", \"burden_count\": 2184, \"total_count\": 42785, \"burden_prop\": 0.051045927310973474}, {\"burden_level\": \"50%\", \"income_level\": \"0-30%\", \"burden_count\": 6185, \"total_count\": 10340, \"burden_prop\": 0.5981624758220503}, {\"burden_level\": \"50%\", \"income_level\": \"30-50%\", \"burden_count\": 2805, \"total_count\": 8260, \"burden_prop\": 0.33958837772397094}, {\"burden_level\": \"50%\", \"income_level\": \"50-80%\", \"burden_count\": 1330, \"total_count\": 13110, \"burden_prop\": 0.10144927536231885}, {\"burden_level\": \"50%\", \"income_level\": \"80-100%\", \"burden_count\": 209, \"total_count\": 8390, \"burden_prop\": 0.02491060786650775}, {\"burden_level\": \"50%\", \"income_level\": \">100%\", \"burden_count\": 219, \"total_count\": 42785, \"burden_prop\": 0.005118616337501461}]}}, {\"mode\": \"vega-lite\"});\n",
       "</script>"
      ],
      "text/plain": [
       "alt.Chart(...)"
      ]
     },
     "execution_count": 7,
     "metadata": {},
     "output_type": "execute_result"
    }
   ],
   "source": [
    "alt.Chart(summary_agg_burden_income).mark_bar().encode(\n",
    "    y=alt.X(\"income_level:N\", sort=\"y\"),\n",
    "    x=alt.Y(\"burden_count:Q\"),\n",
    "    color=\"income_level:N\",\n",
    "    tooltip=\"burden_count:Q\",\n",
    "    column=\"burden_level\",\n",
    ").properties(\n",
    "    title=\"Count of cost-burdened households in the Charlottesville MSA\",\n",
    ")"
   ]
  },
  {
   "cell_type": "code",
   "execution_count": 8,
   "id": "2f46a519",
   "metadata": {
    "jupyter": {
     "source_hidden": true
    },
    "tags": []
   },
   "outputs": [
    {
     "data": {
      "text/html": [
       "\n",
       "<div id=\"altair-viz-2b93b3895e71432dbf9ed17bcffd975d\"></div>\n",
       "<script type=\"text/javascript\">\n",
       "  var VEGA_DEBUG = (typeof VEGA_DEBUG == \"undefined\") ? {} : VEGA_DEBUG;\n",
       "  (function(spec, embedOpt){\n",
       "    let outputDiv = document.currentScript.previousElementSibling;\n",
       "    if (outputDiv.id !== \"altair-viz-2b93b3895e71432dbf9ed17bcffd975d\") {\n",
       "      outputDiv = document.getElementById(\"altair-viz-2b93b3895e71432dbf9ed17bcffd975d\");\n",
       "    }\n",
       "    const paths = {\n",
       "      \"vega\": \"https://cdn.jsdelivr.net/npm//vega@5?noext\",\n",
       "      \"vega-lib\": \"https://cdn.jsdelivr.net/npm//vega-lib?noext\",\n",
       "      \"vega-lite\": \"https://cdn.jsdelivr.net/npm//vega-lite@4.17.0?noext\",\n",
       "      \"vega-embed\": \"https://cdn.jsdelivr.net/npm//vega-embed@6?noext\",\n",
       "    };\n",
       "\n",
       "    function maybeLoadScript(lib, version) {\n",
       "      var key = `${lib.replace(\"-\", \"\")}_version`;\n",
       "      return (VEGA_DEBUG[key] == version) ?\n",
       "        Promise.resolve(paths[lib]) :\n",
       "        new Promise(function(resolve, reject) {\n",
       "          var s = document.createElement('script');\n",
       "          document.getElementsByTagName(\"head\")[0].appendChild(s);\n",
       "          s.async = true;\n",
       "          s.onload = () => {\n",
       "            VEGA_DEBUG[key] = version;\n",
       "            return resolve(paths[lib]);\n",
       "          };\n",
       "          s.onerror = () => reject(`Error loading script: ${paths[lib]}`);\n",
       "          s.src = paths[lib];\n",
       "        });\n",
       "    }\n",
       "\n",
       "    function showError(err) {\n",
       "      outputDiv.innerHTML = `<div class=\"error\" style=\"color:red;\">${err}</div>`;\n",
       "      throw err;\n",
       "    }\n",
       "\n",
       "    function displayChart(vegaEmbed) {\n",
       "      vegaEmbed(outputDiv, spec, embedOpt)\n",
       "        .catch(err => showError(`Javascript Error: ${err.message}<br>This usually means there's a typo in your chart specification. See the javascript console for the full traceback.`));\n",
       "    }\n",
       "\n",
       "    if(typeof define === \"function\" && define.amd) {\n",
       "      requirejs.config({paths});\n",
       "      require([\"vega-embed\"], displayChart, err => showError(`Error loading script: ${err.message}`));\n",
       "    } else {\n",
       "      maybeLoadScript(\"vega\", \"5\")\n",
       "        .then(() => maybeLoadScript(\"vega-lite\", \"4.17.0\"))\n",
       "        .then(() => maybeLoadScript(\"vega-embed\", \"6\"))\n",
       "        .catch(showError)\n",
       "        .then(() => displayChart(vegaEmbed));\n",
       "    }\n",
       "  })({\"config\": {\"view\": {\"continuousWidth\": 400, \"continuousHeight\": 300}}, \"data\": {\"name\": \"data-10291e80fc8028e05f45fa0a0e18b07a\"}, \"mark\": \"bar\", \"encoding\": {\"color\": {\"field\": \"income_level\", \"type\": \"nominal\"}, \"column\": {\"field\": \"burden_level\", \"type\": \"nominal\"}, \"tooltip\": {\"field\": \"burden_prop\", \"type\": \"quantitative\"}, \"x\": {\"field\": \"burden_prop\", \"type\": \"quantitative\"}, \"y\": {\"field\": \"income_level\", \"sort\": \"y\", \"type\": \"nominal\"}}, \"title\": \"Proportion of cost-burdened households in the Charlottesville MSA\", \"$schema\": \"https://vega.github.io/schema/vega-lite/v4.17.0.json\", \"datasets\": {\"data-10291e80fc8028e05f45fa0a0e18b07a\": [{\"burden_level\": \"30%\", \"income_level\": \"0-30%\", \"burden_count\": 7425, \"total_count\": 10340, \"burden_prop\": 0.7180851063829787}, {\"burden_level\": \"30%\", \"income_level\": \"30-50%\", \"burden_count\": 5145, \"total_count\": 8260, \"burden_prop\": 0.6228813559322034}, {\"burden_level\": \"30%\", \"income_level\": \"50-80%\", \"burden_count\": 5370, \"total_count\": 13110, \"burden_prop\": 0.4096109839816934}, {\"burden_level\": \"30%\", \"income_level\": \"80-100%\", \"burden_count\": 1794, \"total_count\": 8390, \"burden_prop\": 0.21382598331346842}, {\"burden_level\": \"30%\", \"income_level\": \">100%\", \"burden_count\": 2184, \"total_count\": 42785, \"burden_prop\": 0.051045927310973474}, {\"burden_level\": \"50%\", \"income_level\": \"0-30%\", \"burden_count\": 6185, \"total_count\": 10340, \"burden_prop\": 0.5981624758220503}, {\"burden_level\": \"50%\", \"income_level\": \"30-50%\", \"burden_count\": 2805, \"total_count\": 8260, \"burden_prop\": 0.33958837772397094}, {\"burden_level\": \"50%\", \"income_level\": \"50-80%\", \"burden_count\": 1330, \"total_count\": 13110, \"burden_prop\": 0.10144927536231885}, {\"burden_level\": \"50%\", \"income_level\": \"80-100%\", \"burden_count\": 209, \"total_count\": 8390, \"burden_prop\": 0.02491060786650775}, {\"burden_level\": \"50%\", \"income_level\": \">100%\", \"burden_count\": 219, \"total_count\": 42785, \"burden_prop\": 0.005118616337501461}]}}, {\"mode\": \"vega-lite\"});\n",
       "</script>"
      ],
      "text/plain": [
       "alt.Chart(...)"
      ]
     },
     "execution_count": 8,
     "metadata": {},
     "output_type": "execute_result"
    }
   ],
   "source": [
    "alt.Chart(summary_agg_burden_income).mark_bar().encode(\n",
    "    y=alt.X(\"income_level:N\", sort=\"y\"),\n",
    "    x=alt.Y(\"burden_prop:Q\"),\n",
    "    color=\"income_level:N\",\n",
    "    tooltip=\"burden_prop:Q\",\n",
    "    column=\"burden_level\",\n",
    ").properties(\n",
    "    title=\"Proportion of cost-burdened households in the Charlottesville MSA\",\n",
    ")"
   ]
  },
  {
   "cell_type": "markdown",
   "id": "82bf365e-162a-4f8b-ae0f-09b1efbe8760",
   "metadata": {},
   "source": [
    "Further, **housing costs have been rising faster than inflation over the past decade**.\n",
    "\n",
    "- Median assessments for detached single-family homes, attached single-family homes, and condos have risen from about \\\\$200,000 in 2021-adjusted dollars in 2012 to about \\\\$310,000 in 2021.\n",
    "- Median sale prices have risen from \\\\$184,000 to \\\\$361,000."
   ]
  },
  {
   "cell_type": "code",
   "execution_count": 9,
   "id": "47e5fb52",
   "metadata": {
    "collapsed": true,
    "jupyter": {
     "outputs_hidden": true,
     "source_hidden": true
    },
    "tags": []
   },
   "outputs": [
    {
     "name": "stderr",
     "output_type": "stream",
     "text": [
      "Query complete after 0.04s: 100%|██████████████████████████████████████████████████████████████████████████████████████████████████████████████| 1/1 [00:00<00:00, 242.66query/s]\n",
      "Downloading: 100%|█████████████████████████████████████████████████████████████████████████████████████████████████████████████████████████████| 10/10 [00:01<00:00,  6.45rows/s]\n"
     ]
    }
   ],
   "source": [
    "%%bigquery assessments\n",
    "select distinct\n",
    "    assessments.TaxYear,\n",
    "    percentile_cont(assessments.TotalValue, 0.5) over (partition by assessments.TaxYear) as TotalValue,\n",
    "    percentile_cont(assessments.TotalValue, 0.5) over (partition by assessments.TaxYear)\n",
    "        * cpi.value\n",
    "        / (\n",
    "            select\n",
    "                value\n",
    "            from `bigquery-public-data.bls.cpi_u`\n",
    "            where\n",
    "                series_id = \"CUUR0000SA0\"\n",
    "                and period = \"M13\"\n",
    "                and year = 2021\n",
    "        )\n",
    "        as TotalValueAdjusted,\n",
    "from `cvilledata.cville_open_data.real_estate_all_assessments` assessments\n",
    "join `cvilledata.cville_open_data.real_estate_residential_details` residential using (ParcelNumb)\n",
    "join `bigquery-public-data.bls.cpi_u` cpi on assessments.TaxYear = cpi.year\n",
    "where\n",
    "    assessments.TaxYear >= 2012\n",
    "    and residential.UseCode in (\"Single Family\", \"Single Family Attached\", \"Condominium\")\n",
    "    and residential.YearBuilt < 2012\n",
    "    and cpi.series_id = \"CUUR0000SA0\"\n",
    "    and cpi.period = \"M13\"\n",
    "order by TaxYear desc"
   ]
  },
  {
   "cell_type": "code",
   "execution_count": 10,
   "id": "ef68adee",
   "metadata": {
    "jupyter": {
     "source_hidden": true
    },
    "tags": []
   },
   "outputs": [
    {
     "data": {
      "text/html": [
       "\n",
       "<div id=\"altair-viz-90815e935cd3427bbff0f26c4f36641c\"></div>\n",
       "<script type=\"text/javascript\">\n",
       "  var VEGA_DEBUG = (typeof VEGA_DEBUG == \"undefined\") ? {} : VEGA_DEBUG;\n",
       "  (function(spec, embedOpt){\n",
       "    let outputDiv = document.currentScript.previousElementSibling;\n",
       "    if (outputDiv.id !== \"altair-viz-90815e935cd3427bbff0f26c4f36641c\") {\n",
       "      outputDiv = document.getElementById(\"altair-viz-90815e935cd3427bbff0f26c4f36641c\");\n",
       "    }\n",
       "    const paths = {\n",
       "      \"vega\": \"https://cdn.jsdelivr.net/npm//vega@5?noext\",\n",
       "      \"vega-lib\": \"https://cdn.jsdelivr.net/npm//vega-lib?noext\",\n",
       "      \"vega-lite\": \"https://cdn.jsdelivr.net/npm//vega-lite@4.17.0?noext\",\n",
       "      \"vega-embed\": \"https://cdn.jsdelivr.net/npm//vega-embed@6?noext\",\n",
       "    };\n",
       "\n",
       "    function maybeLoadScript(lib, version) {\n",
       "      var key = `${lib.replace(\"-\", \"\")}_version`;\n",
       "      return (VEGA_DEBUG[key] == version) ?\n",
       "        Promise.resolve(paths[lib]) :\n",
       "        new Promise(function(resolve, reject) {\n",
       "          var s = document.createElement('script');\n",
       "          document.getElementsByTagName(\"head\")[0].appendChild(s);\n",
       "          s.async = true;\n",
       "          s.onload = () => {\n",
       "            VEGA_DEBUG[key] = version;\n",
       "            return resolve(paths[lib]);\n",
       "          };\n",
       "          s.onerror = () => reject(`Error loading script: ${paths[lib]}`);\n",
       "          s.src = paths[lib];\n",
       "        });\n",
       "    }\n",
       "\n",
       "    function showError(err) {\n",
       "      outputDiv.innerHTML = `<div class=\"error\" style=\"color:red;\">${err}</div>`;\n",
       "      throw err;\n",
       "    }\n",
       "\n",
       "    function displayChart(vegaEmbed) {\n",
       "      vegaEmbed(outputDiv, spec, embedOpt)\n",
       "        .catch(err => showError(`Javascript Error: ${err.message}<br>This usually means there's a typo in your chart specification. See the javascript console for the full traceback.`));\n",
       "    }\n",
       "\n",
       "    if(typeof define === \"function\" && define.amd) {\n",
       "      requirejs.config({paths});\n",
       "      require([\"vega-embed\"], displayChart, err => showError(`Error loading script: ${err.message}`));\n",
       "    } else {\n",
       "      maybeLoadScript(\"vega\", \"5\")\n",
       "        .then(() => maybeLoadScript(\"vega-lite\", \"4.17.0\"))\n",
       "        .then(() => maybeLoadScript(\"vega-embed\", \"6\"))\n",
       "        .catch(showError)\n",
       "        .then(() => displayChart(vegaEmbed));\n",
       "    }\n",
       "  })({\"config\": {\"view\": {\"continuousWidth\": 400, \"continuousHeight\": 300}}, \"data\": {\"name\": \"data-0ee819b81a4c8453949b5ed8d5c93035\"}, \"mark\": \"bar\", \"encoding\": {\"tooltip\": {\"field\": \"TotalValueAdjusted\", \"type\": \"quantitative\"}, \"x\": {\"field\": \"TaxYear\", \"sort\": \"x\", \"type\": \"nominal\"}, \"y\": {\"field\": \"TotalValueAdjusted\", \"type\": \"quantitative\"}}, \"title\": \"Median home assessment by year, in 2021 dollars\", \"$schema\": \"https://vega.github.io/schema/vega-lite/v4.17.0.json\", \"datasets\": {\"data-0ee819b81a4c8453949b5ed8d5c93035\": [{\"TaxYear\": 2021, \"TotalValue\": 312650.0, \"TotalValueAdjusted\": 312650.0}, {\"TaxYear\": 2020, \"TotalValue\": 297000.0, \"TotalValueAdjusted\": 283672.978558512}, {\"TaxYear\": 2019, \"TotalValue\": 288700.0, \"TotalValueAdjusted\": 272385.04594604566}, {\"TaxYear\": 2018, \"TotalValue\": 267800.0, \"TotalValueAdjusted\": 248169.37151714208}, {\"TaxYear\": 2017, \"TotalValue\": 250636.0, \"TotalValueAdjusted\": 226725.82322766355}, {\"TaxYear\": 2016, \"TotalValue\": 239400.0, \"TotalValueAdjusted\": 212044.4174631878}, {\"TaxYear\": 2015, \"TotalValue\": 233300.0, \"TotalValueAdjusted\": 204067.11480975754}, {\"TaxYear\": 2014, \"TotalValue\": 231900.0, \"TotalValueAdjusted\": 202602.053363841}, {\"TaxYear\": 2013, \"TotalValue\": 226100.0, \"TotalValueAdjusted\": 194381.5835701369}, {\"TaxYear\": 2012, \"TotalValue\": 233900.0, \"TotalValueAdjusted\": 198184.43591541497}]}}, {\"mode\": \"vega-lite\"});\n",
       "</script>"
      ],
      "text/plain": [
       "alt.Chart(...)"
      ]
     },
     "execution_count": 10,
     "metadata": {},
     "output_type": "execute_result"
    }
   ],
   "source": [
    "alt.Chart(assessments).mark_bar().encode(\n",
    "    x=alt.X(\"TaxYear:N\", sort=\"x\"),\n",
    "    y=alt.Y(\"TotalValueAdjusted:Q\"),\n",
    "    tooltip=\"TotalValueAdjusted\",\n",
    ").properties(\n",
    "    title=\"Median home assessment by year, in 2021 dollars\",\n",
    ")"
   ]
  },
  {
   "cell_type": "code",
   "execution_count": 11,
   "id": "b0b5d5d0",
   "metadata": {
    "collapsed": true,
    "jupyter": {
     "outputs_hidden": true,
     "source_hidden": true
    },
    "tags": []
   },
   "outputs": [
    {
     "name": "stderr",
     "output_type": "stream",
     "text": [
      "Query complete after 0.00s: 100%|██████████████████████████████████████████████████████████████████████████████████████████████████████████████| 1/1 [00:00<00:00, 143.16query/s]\n",
      "Downloading: 100%|█████████████████████████████████████████████████████████████████████████████████████████████████████████████████████████████| 10/10 [00:01<00:00,  8.39rows/s]\n"
     ]
    }
   ],
   "source": [
    "%%bigquery sales\n",
    "select distinct\n",
    "    extract(year from sales.SaleDate) as SaleYear,\n",
    "    percentile_cont(sales.SaleAmount, 0.5) over (partition by extract(year from sales.SaleDate)) as SaleAmount,\n",
    "    percentile_cont(sales.SaleAmount, 0.5) over (partition by extract(year from sales.SaleDate))\n",
    "        * cpi.value\n",
    "        / (\n",
    "            select\n",
    "                value\n",
    "            from `bigquery-public-data.bls.cpi_u`\n",
    "            where\n",
    "                series_id = \"CUUR0000SA0\"\n",
    "                and period = \"M13\"\n",
    "                and year = 2021\n",
    "        )\n",
    "        as SaleAmountAdjusted,\n",
    "from `cvilledata.cville_open_data.real_estate_sales` sales\n",
    "join `cvilledata.cville_open_data.real_estate_residential_details` residential using (ParcelNumb)\n",
    "join `bigquery-public-data.bls.cpi_u` cpi on extract(year from sales.SaleDate) = cpi.year\n",
    "where\n",
    "    sales.SaleAmount != 0\n",
    "    and extract(year from sales.SaleDate) >= 2012\n",
    "    and residential.UseCode in (\"Single Family\", \"Single Family Attached\", \"Condominium\")\n",
    "    and residential.YearBuilt < 2012\n",
    "    and cpi.series_id = \"CUUR0000SA0\"\n",
    "    and cpi.period = \"M13\"\n",
    "order by SaleYear desc"
   ]
  },
  {
   "cell_type": "code",
   "execution_count": 12,
   "id": "a8a86cda",
   "metadata": {
    "jupyter": {
     "source_hidden": true
    },
    "tags": []
   },
   "outputs": [
    {
     "data": {
      "text/html": [
       "\n",
       "<div id=\"altair-viz-0eda86b761e2489baeb423a94d80e84c\"></div>\n",
       "<script type=\"text/javascript\">\n",
       "  var VEGA_DEBUG = (typeof VEGA_DEBUG == \"undefined\") ? {} : VEGA_DEBUG;\n",
       "  (function(spec, embedOpt){\n",
       "    let outputDiv = document.currentScript.previousElementSibling;\n",
       "    if (outputDiv.id !== \"altair-viz-0eda86b761e2489baeb423a94d80e84c\") {\n",
       "      outputDiv = document.getElementById(\"altair-viz-0eda86b761e2489baeb423a94d80e84c\");\n",
       "    }\n",
       "    const paths = {\n",
       "      \"vega\": \"https://cdn.jsdelivr.net/npm//vega@5?noext\",\n",
       "      \"vega-lib\": \"https://cdn.jsdelivr.net/npm//vega-lib?noext\",\n",
       "      \"vega-lite\": \"https://cdn.jsdelivr.net/npm//vega-lite@4.17.0?noext\",\n",
       "      \"vega-embed\": \"https://cdn.jsdelivr.net/npm//vega-embed@6?noext\",\n",
       "    };\n",
       "\n",
       "    function maybeLoadScript(lib, version) {\n",
       "      var key = `${lib.replace(\"-\", \"\")}_version`;\n",
       "      return (VEGA_DEBUG[key] == version) ?\n",
       "        Promise.resolve(paths[lib]) :\n",
       "        new Promise(function(resolve, reject) {\n",
       "          var s = document.createElement('script');\n",
       "          document.getElementsByTagName(\"head\")[0].appendChild(s);\n",
       "          s.async = true;\n",
       "          s.onload = () => {\n",
       "            VEGA_DEBUG[key] = version;\n",
       "            return resolve(paths[lib]);\n",
       "          };\n",
       "          s.onerror = () => reject(`Error loading script: ${paths[lib]}`);\n",
       "          s.src = paths[lib];\n",
       "        });\n",
       "    }\n",
       "\n",
       "    function showError(err) {\n",
       "      outputDiv.innerHTML = `<div class=\"error\" style=\"color:red;\">${err}</div>`;\n",
       "      throw err;\n",
       "    }\n",
       "\n",
       "    function displayChart(vegaEmbed) {\n",
       "      vegaEmbed(outputDiv, spec, embedOpt)\n",
       "        .catch(err => showError(`Javascript Error: ${err.message}<br>This usually means there's a typo in your chart specification. See the javascript console for the full traceback.`));\n",
       "    }\n",
       "\n",
       "    if(typeof define === \"function\" && define.amd) {\n",
       "      requirejs.config({paths});\n",
       "      require([\"vega-embed\"], displayChart, err => showError(`Error loading script: ${err.message}`));\n",
       "    } else {\n",
       "      maybeLoadScript(\"vega\", \"5\")\n",
       "        .then(() => maybeLoadScript(\"vega-lite\", \"4.17.0\"))\n",
       "        .then(() => maybeLoadScript(\"vega-embed\", \"6\"))\n",
       "        .catch(showError)\n",
       "        .then(() => displayChart(vegaEmbed));\n",
       "    }\n",
       "  })({\"config\": {\"view\": {\"continuousWidth\": 400, \"continuousHeight\": 300}}, \"data\": {\"name\": \"data-3a3cda0c01d3aa5b1e58fa7c40571ae5\"}, \"mark\": \"bar\", \"encoding\": {\"tooltip\": {\"field\": \"SaleAmountAdjusted\", \"type\": \"quantitative\"}, \"x\": {\"field\": \"SaleYear\", \"sort\": \"x\", \"type\": \"nominal\"}, \"y\": {\"field\": \"SaleAmountAdjusted\", \"type\": \"quantitative\"}}, \"title\": \"Median home sale price by year, in 2021 dollars\", \"$schema\": \"https://vega.github.io/schema/vega-lite/v4.17.0.json\", \"datasets\": {\"data-3a3cda0c01d3aa5b1e58fa7c40571ae5\": [{\"SaleYear\": 2021, \"SaleAmount\": 361000.0, \"SaleAmountAdjusted\": 361000.0}, {\"SaleYear\": 2020, \"SaleAmount\": 337000.0, \"SaleAmountAdjusted\": 321878.09351588733}, {\"SaleYear\": 2019, \"SaleAmount\": 309200.0, \"SaleAmountAdjusted\": 291726.5542310957}, {\"SaleYear\": 2018, \"SaleAmount\": 295500.0, \"SaleAmountAdjusted\": 273838.8696165627}, {\"SaleYear\": 2017, \"SaleAmount\": 281807.0, \"SaleAmountAdjusted\": 254923.17171642615}, {\"SaleYear\": 2016, \"SaleAmount\": 264000.0, \"SaleAmountAdjusted\": 233833.44281654793}, {\"SaleYear\": 2015, \"SaleAmount\": 242000.0, \"SaleAmountAdjusted\": 211676.99007270177}, {\"SaleYear\": 2014, \"SaleAmount\": 247000.0, \"SaleAmountAdjusted\": 215794.3388567}, {\"SaleYear\": 2013, \"SaleAmount\": 229000.0, \"SaleAmountAdjusted\": 196874.7573532125}, {\"SaleYear\": 2012, \"SaleAmount\": 216800.0, \"SaleAmountAdjusted\": 183695.53529911058}]}}, {\"mode\": \"vega-lite\"});\n",
       "</script>"
      ],
      "text/plain": [
       "alt.Chart(...)"
      ]
     },
     "execution_count": 12,
     "metadata": {},
     "output_type": "execute_result"
    }
   ],
   "source": [
    "alt.Chart(sales).mark_bar().encode(\n",
    "    x=alt.X(\"SaleYear:N\", sort=\"x\"),\n",
    "    y=alt.Y(\"SaleAmountAdjusted:Q\"),\n",
    "    tooltip=\"SaleAmountAdjusted\",\n",
    ").properties(\n",
    "    title=\"Median home sale price by year, in 2021 dollars\",\n",
    ")"
   ]
  },
  {
   "cell_type": "markdown",
   "id": "10280f0f-4c44-41cd-8fc2-98dfea5cb97a",
   "metadata": {},
   "source": [
    "**How can zoning change housing prices?**\n",
    "\n",
    "Our current zoning code limits much of the city to single-family detached housing, but single-family detached homes are the most expensive housing form:\n",
    "\n",
    "- In 2021, the median single-family detached home was assessed at about \\\\$129,000 more than the median single-family attached home and about \\\\$139,000 more than the typical condo.\n",
    "- Similarly, the median single-family home that sold in 2021 sold for about \\\\$130,000 more than the median single-family attached home and \\\\$168,000 more than the typical condo.\n",
    "\n",
    "**We can lower housing prices by allowing smaller multi-family homes that use land more efficiently.**"
   ]
  },
  {
   "cell_type": "code",
   "execution_count": 13,
   "id": "85488a55-3bfb-4d67-8464-efb3d3e21a94",
   "metadata": {
    "collapsed": true,
    "jupyter": {
     "outputs_hidden": true,
     "source_hidden": true
    },
    "tags": []
   },
   "outputs": [
    {
     "name": "stderr",
     "output_type": "stream",
     "text": [
      "Query complete after 0.00s: 100%|██████████████████████████████████████████████████████████████████████████████████████████████████████████████| 1/1 [00:00<00:00, 590.00query/s]\n",
      "Downloading: 100%|███████████████████████████████████████████████████████████████████████████████████████████████████████████████████████████████| 3/3 [00:01<00:00,  2.35rows/s]\n"
     ]
    }
   ],
   "source": [
    "%%bigquery assessments_by_use\n",
    "select distinct\n",
    "    residential.UseCode,\n",
    "    percentile_cont(assessments.TotalValue, 0.5) over (partition by residential.UseCode) as TotalValue,\n",
    "from `cvilledata.cville_open_data.real_estate_all_assessments` assessments\n",
    "join `cvilledata.cville_open_data.real_estate_residential_details` residential using (ParcelNumb)\n",
    "where\n",
    "    assessments.TaxYear = 2021\n",
    "    and residential.UseCode in (\"Single Family\", \"Single Family Attached\", \"Condominium\")\n",
    "order by TotalValue desc"
   ]
  },
  {
   "cell_type": "code",
   "execution_count": 14,
   "id": "541aa640-4316-46f2-9f21-cfc956515de8",
   "metadata": {
    "jupyter": {
     "source_hidden": true
    },
    "tags": []
   },
   "outputs": [
    {
     "data": {
      "text/html": [
       "\n",
       "<div id=\"altair-viz-2f14d4bd98774b519af14ebf064cf852\"></div>\n",
       "<script type=\"text/javascript\">\n",
       "  var VEGA_DEBUG = (typeof VEGA_DEBUG == \"undefined\") ? {} : VEGA_DEBUG;\n",
       "  (function(spec, embedOpt){\n",
       "    let outputDiv = document.currentScript.previousElementSibling;\n",
       "    if (outputDiv.id !== \"altair-viz-2f14d4bd98774b519af14ebf064cf852\") {\n",
       "      outputDiv = document.getElementById(\"altair-viz-2f14d4bd98774b519af14ebf064cf852\");\n",
       "    }\n",
       "    const paths = {\n",
       "      \"vega\": \"https://cdn.jsdelivr.net/npm//vega@5?noext\",\n",
       "      \"vega-lib\": \"https://cdn.jsdelivr.net/npm//vega-lib?noext\",\n",
       "      \"vega-lite\": \"https://cdn.jsdelivr.net/npm//vega-lite@4.17.0?noext\",\n",
       "      \"vega-embed\": \"https://cdn.jsdelivr.net/npm//vega-embed@6?noext\",\n",
       "    };\n",
       "\n",
       "    function maybeLoadScript(lib, version) {\n",
       "      var key = `${lib.replace(\"-\", \"\")}_version`;\n",
       "      return (VEGA_DEBUG[key] == version) ?\n",
       "        Promise.resolve(paths[lib]) :\n",
       "        new Promise(function(resolve, reject) {\n",
       "          var s = document.createElement('script');\n",
       "          document.getElementsByTagName(\"head\")[0].appendChild(s);\n",
       "          s.async = true;\n",
       "          s.onload = () => {\n",
       "            VEGA_DEBUG[key] = version;\n",
       "            return resolve(paths[lib]);\n",
       "          };\n",
       "          s.onerror = () => reject(`Error loading script: ${paths[lib]}`);\n",
       "          s.src = paths[lib];\n",
       "        });\n",
       "    }\n",
       "\n",
       "    function showError(err) {\n",
       "      outputDiv.innerHTML = `<div class=\"error\" style=\"color:red;\">${err}</div>`;\n",
       "      throw err;\n",
       "    }\n",
       "\n",
       "    function displayChart(vegaEmbed) {\n",
       "      vegaEmbed(outputDiv, spec, embedOpt)\n",
       "        .catch(err => showError(`Javascript Error: ${err.message}<br>This usually means there's a typo in your chart specification. See the javascript console for the full traceback.`));\n",
       "    }\n",
       "\n",
       "    if(typeof define === \"function\" && define.amd) {\n",
       "      requirejs.config({paths});\n",
       "      require([\"vega-embed\"], displayChart, err => showError(`Error loading script: ${err.message}`));\n",
       "    } else {\n",
       "      maybeLoadScript(\"vega\", \"5\")\n",
       "        .then(() => maybeLoadScript(\"vega-lite\", \"4.17.0\"))\n",
       "        .then(() => maybeLoadScript(\"vega-embed\", \"6\"))\n",
       "        .catch(showError)\n",
       "        .then(() => displayChart(vegaEmbed));\n",
       "    }\n",
       "  })({\"config\": {\"view\": {\"continuousWidth\": 400, \"continuousHeight\": 300}}, \"data\": {\"name\": \"data-6b96e17a4239e8a9b9cc245b493f361c\"}, \"mark\": \"bar\", \"encoding\": {\"color\": {\"field\": \"UseCode\", \"sort\": {\"field\": \"TotalValueAdjusted\", \"order\": \"descending\"}, \"type\": \"nominal\"}, \"tooltip\": {\"field\": \"TotalValue\", \"type\": \"quantitative\"}, \"x\": {\"field\": \"TotalValue\", \"type\": \"quantitative\"}, \"y\": {\"field\": \"UseCode\", \"sort\": \"-x\", \"type\": \"nominal\"}}, \"title\": \"Median home assessment by use code by year, 2021\", \"$schema\": \"https://vega.github.io/schema/vega-lite/v4.17.0.json\", \"datasets\": {\"data-6b96e17a4239e8a9b9cc245b493f361c\": [{\"UseCode\": \"Single Family\", \"TotalValue\": 351900.0}, {\"UseCode\": \"Single Family Attached\", \"TotalValue\": 222600.0}, {\"UseCode\": \"Condominium\", \"TotalValue\": 212500.0}]}}, {\"mode\": \"vega-lite\"});\n",
       "</script>"
      ],
      "text/plain": [
       "alt.Chart(...)"
      ]
     },
     "execution_count": 14,
     "metadata": {},
     "output_type": "execute_result"
    }
   ],
   "source": [
    "alt.Chart(assessments_by_use).mark_bar().encode(\n",
    "    y=alt.X(\"UseCode:N\", sort=\"-x\"),\n",
    "    x=alt.Y(\"TotalValue:Q\"),\n",
    "    color=alt.X(\"UseCode:N\", sort=alt.SortField(\"TotalValueAdjusted\", \"descending\")),\n",
    "    tooltip=\"TotalValue:Q\",\n",
    ").properties(\n",
    "    title=\"Median home assessment by use code by year, 2021\",\n",
    ")"
   ]
  },
  {
   "cell_type": "code",
   "execution_count": 15,
   "id": "dbcf4dc5",
   "metadata": {
    "collapsed": true,
    "jupyter": {
     "outputs_hidden": true,
     "source_hidden": true
    },
    "tags": []
   },
   "outputs": [
    {
     "name": "stderr",
     "output_type": "stream",
     "text": [
      "Query complete after 0.01s: 100%|██████████████████████████████████████████████████████████████████████████████████████████████████████████████| 1/1 [00:00<00:00, 303.32query/s]\n",
      "Downloading: 100%|█████████████████████████████████████████████████████████████████████████████████████████████████████████████████████████████| 30/30 [00:01<00:00, 24.59rows/s]\n"
     ]
    }
   ],
   "source": [
    "%%bigquery assessments_by_use_by_year\n",
    "select distinct\n",
    "    assessments.TaxYear,\n",
    "    residential.UseCode,\n",
    "    percentile_cont(assessments.TotalValue, 0.5) over (partition by assessments.TaxYear, residential.UseCode) as TotalValue,\n",
    "    percentile_cont(assessments.TotalValue, 0.5) over (partition by assessments.TaxYear, residential.UseCode)\n",
    "    * cpi.value\n",
    "    / (\n",
    "        select\n",
    "            value\n",
    "        from `bigquery-public-data.bls.cpi_u`\n",
    "        where\n",
    "            series_id = \"CUUR0000SA0\"\n",
    "            and period = \"M13\"\n",
    "            and year = 2021\n",
    "    )\n",
    "    as TotalValueAdjusted,\n",
    "from `cvilledata.cville_open_data.real_estate_all_assessments` assessments\n",
    "join `cvilledata.cville_open_data.real_estate_residential_details` residential using (ParcelNumb)\n",
    "join `bigquery-public-data.bls.cpi_u` cpi on assessments.TaxYear = cpi.year\n",
    "where\n",
    "    assessments.TaxYear >= 2012\n",
    "    and residential.UseCode in (\"Single Family\", \"Single Family Attached\", \"Condominium\")\n",
    "    and cpi.series_id = \"CUUR0000SA0\"\n",
    "    and cpi.period = \"M13\"\n",
    "order by UseCode, TaxYear desc"
   ]
  },
  {
   "cell_type": "code",
   "execution_count": 16,
   "id": "f36bb922",
   "metadata": {
    "jupyter": {
     "source_hidden": true
    },
    "tags": []
   },
   "outputs": [
    {
     "data": {
      "text/html": [
       "\n",
       "<div id=\"altair-viz-27f894f4dec745e8a9bb7a1cd188f95e\"></div>\n",
       "<script type=\"text/javascript\">\n",
       "  var VEGA_DEBUG = (typeof VEGA_DEBUG == \"undefined\") ? {} : VEGA_DEBUG;\n",
       "  (function(spec, embedOpt){\n",
       "    let outputDiv = document.currentScript.previousElementSibling;\n",
       "    if (outputDiv.id !== \"altair-viz-27f894f4dec745e8a9bb7a1cd188f95e\") {\n",
       "      outputDiv = document.getElementById(\"altair-viz-27f894f4dec745e8a9bb7a1cd188f95e\");\n",
       "    }\n",
       "    const paths = {\n",
       "      \"vega\": \"https://cdn.jsdelivr.net/npm//vega@5?noext\",\n",
       "      \"vega-lib\": \"https://cdn.jsdelivr.net/npm//vega-lib?noext\",\n",
       "      \"vega-lite\": \"https://cdn.jsdelivr.net/npm//vega-lite@4.17.0?noext\",\n",
       "      \"vega-embed\": \"https://cdn.jsdelivr.net/npm//vega-embed@6?noext\",\n",
       "    };\n",
       "\n",
       "    function maybeLoadScript(lib, version) {\n",
       "      var key = `${lib.replace(\"-\", \"\")}_version`;\n",
       "      return (VEGA_DEBUG[key] == version) ?\n",
       "        Promise.resolve(paths[lib]) :\n",
       "        new Promise(function(resolve, reject) {\n",
       "          var s = document.createElement('script');\n",
       "          document.getElementsByTagName(\"head\")[0].appendChild(s);\n",
       "          s.async = true;\n",
       "          s.onload = () => {\n",
       "            VEGA_DEBUG[key] = version;\n",
       "            return resolve(paths[lib]);\n",
       "          };\n",
       "          s.onerror = () => reject(`Error loading script: ${paths[lib]}`);\n",
       "          s.src = paths[lib];\n",
       "        });\n",
       "    }\n",
       "\n",
       "    function showError(err) {\n",
       "      outputDiv.innerHTML = `<div class=\"error\" style=\"color:red;\">${err}</div>`;\n",
       "      throw err;\n",
       "    }\n",
       "\n",
       "    function displayChart(vegaEmbed) {\n",
       "      vegaEmbed(outputDiv, spec, embedOpt)\n",
       "        .catch(err => showError(`Javascript Error: ${err.message}<br>This usually means there's a typo in your chart specification. See the javascript console for the full traceback.`));\n",
       "    }\n",
       "\n",
       "    if(typeof define === \"function\" && define.amd) {\n",
       "      requirejs.config({paths});\n",
       "      require([\"vega-embed\"], displayChart, err => showError(`Error loading script: ${err.message}`));\n",
       "    } else {\n",
       "      maybeLoadScript(\"vega\", \"5\")\n",
       "        .then(() => maybeLoadScript(\"vega-lite\", \"4.17.0\"))\n",
       "        .then(() => maybeLoadScript(\"vega-embed\", \"6\"))\n",
       "        .catch(showError)\n",
       "        .then(() => displayChart(vegaEmbed));\n",
       "    }\n",
       "  })({\"config\": {\"view\": {\"continuousWidth\": 400, \"continuousHeight\": 300}}, \"data\": {\"name\": \"data-a8176f29a14eb2decca0df1c23fc24a4\"}, \"mark\": \"bar\", \"encoding\": {\"color\": {\"field\": \"UseCode\", \"sort\": {\"field\": \"TotalValueAdjusted\", \"order\": \"descending\"}, \"type\": \"nominal\"}, \"column\": {\"field\": \"UseCode\", \"sort\": {\"field\": \"TotalValueAdjusted\", \"order\": \"descending\"}, \"type\": \"nominal\"}, \"tooltip\": {\"field\": \"TotalValueAdjusted\", \"type\": \"quantitative\"}, \"x\": {\"field\": \"TaxYear\", \"sort\": \"x\", \"type\": \"nominal\"}, \"y\": {\"field\": \"TotalValueAdjusted\", \"type\": \"quantitative\"}}, \"title\": \"Median home assessment by use code by year, in 2021 dollars\", \"$schema\": \"https://vega.github.io/schema/vega-lite/v4.17.0.json\", \"datasets\": {\"data-a8176f29a14eb2decca0df1c23fc24a4\": [{\"TaxYear\": 2021, \"UseCode\": \"Condominium\", \"TotalValue\": 212500.0, \"TotalValueAdjusted\": 212500.0}, {\"TaxYear\": 2020, \"UseCode\": \"Condominium\", \"TotalValue\": 208500.0, \"TotalValueAdjusted\": 199144.161715319}, {\"TaxYear\": 2019, \"UseCode\": \"Condominium\", \"TotalValue\": 199250.0, \"TotalValueAdjusted\": 187990.02564859577}, {\"TaxYear\": 2018, \"UseCode\": \"Condominium\", \"TotalValue\": 183700.0, \"TotalValueAdjusted\": 170234.18053659075}, {\"TaxYear\": 2017, \"UseCode\": \"Condominium\", \"TotalValue\": 170000.0, \"TotalValueAdjusted\": 153782.33752813964}, {\"TaxYear\": 2016, \"UseCode\": \"Condominium\", \"TotalValue\": 162200.0, \"TotalValueAdjusted\": 143665.85009410634}, {\"TaxYear\": 2015, \"UseCode\": \"Condominium\", \"TotalValue\": 159000.0, \"TotalValueAdjusted\": 139077.03066760156}, {\"TaxYear\": 2014, \"UseCode\": \"Condominium\", \"TotalValue\": 159300.0, \"TotalValueAdjusted\": 139174.2436432077}, {\"TaxYear\": 2013, \"UseCode\": \"Condominium\", \"TotalValue\": 145600.0, \"TotalValueAdjusted\": 125174.51821234821}, {\"TaxYear\": 2012, \"UseCode\": \"Condominium\", \"TotalValue\": 154600.0, \"TotalValueAdjusted\": 130993.21843746539}, {\"TaxYear\": 2021, \"UseCode\": \"Single Family\", \"TotalValue\": 351900.0, \"TotalValueAdjusted\": 351900.0}, {\"TaxYear\": 2020, \"UseCode\": \"Single Family\", \"TotalValue\": 335800.0, \"TotalValueAdjusted\": 320731.94006716606}, {\"TaxYear\": 2019, \"UseCode\": \"Single Family\", \"TotalValue\": 320050.0, \"TotalValueAdjusted\": 301963.4012990368}, {\"TaxYear\": 2018, \"UseCode\": \"Single Family\", \"TotalValue\": 294700.0, \"TotalValueAdjusted\": 273097.5122707311}, {\"TaxYear\": 2017, \"UseCode\": \"Single Family\", \"TotalValue\": 273700.0, \"TotalValueAdjusted\": 247589.5634203048}, {\"TaxYear\": 2016, \"UseCode\": \"Single Family\", \"TotalValue\": 262500.0, \"TotalValueAdjusted\": 232504.84370963572}, {\"TaxYear\": 2015, \"UseCode\": \"Single Family\", \"TotalValue\": 252050.0, \"TotalValueAdjusted\": 220467.70804886147}, {\"TaxYear\": 2014, \"UseCode\": \"Single Family\", \"TotalValue\": 248600.0, \"TotalValueAdjusted\": 217192.19692216846}, {\"TaxYear\": 2013, \"UseCode\": \"Single Family\", \"TotalValue\": 245000.0, \"TotalValueAdjusted\": 210630.198915009}, {\"TaxYear\": 2012, \"UseCode\": \"Single Family\", \"TotalValue\": 252450.0, \"TotalValueAdjusted\": 213901.9275196516}, {\"TaxYear\": 2021, \"UseCode\": \"Single Family Attached\", \"TotalValue\": 222600.0, \"TotalValueAdjusted\": 222600.0}, {\"TaxYear\": 2020, \"UseCode\": \"Single Family Attached\", \"TotalValue\": 213600.0, \"TotalValueAdjusted\": 204015.31387238434}, {\"TaxYear\": 2019, \"UseCode\": \"Single Family Attached\", \"TotalValue\": 199700.0, \"TotalValueAdjusted\": 188414.59534265782}, {\"TaxYear\": 2018, \"UseCode\": \"Single Family Attached\", \"TotalValue\": 177800.0, \"TotalValueAdjusted\": 164766.6701110824}, {\"TaxYear\": 2017, \"UseCode\": \"Single Family Attached\", \"TotalValue\": 165700.0, \"TotalValueAdjusted\": 149892.54899066317}, {\"TaxYear\": 2016, \"UseCode\": \"Single Family Attached\", \"TotalValue\": 160600.0, \"TotalValueAdjusted\": 142248.67771340001}, {\"TaxYear\": 2015, \"UseCode\": \"Single Family Attached\", \"TotalValue\": 154400.0, \"TotalValueAdjusted\": 135053.41845960804}, {\"TaxYear\": 2014, \"UseCode\": \"Single Family Attached\", \"TotalValue\": 155000.0, \"TotalValueAdjusted\": 135417.50009226112}, {\"TaxYear\": 2013, \"UseCode\": \"Single Family Attached\", \"TotalValue\": 153600.0, \"TotalValueAdjusted\": 132052.23899324646}, {\"TaxYear\": 2012, \"UseCode\": \"Single Family Attached\", \"TotalValue\": 155500.0, \"TotalValueAdjusted\": 131755.79215411298}]}}, {\"mode\": \"vega-lite\"});\n",
       "</script>"
      ],
      "text/plain": [
       "alt.Chart(...)"
      ]
     },
     "execution_count": 16,
     "metadata": {},
     "output_type": "execute_result"
    }
   ],
   "source": [
    "alt.Chart(assessments_by_use_by_year).mark_bar().encode(\n",
    "    x=alt.X(\"TaxYear:N\", sort=\"x\"),\n",
    "    y=alt.Y(\"TotalValueAdjusted:Q\"),\n",
    "    color=alt.X(\"UseCode:N\", sort=alt.SortField(\"TotalValueAdjusted\", \"descending\")),\n",
    "    column=alt.X(\"UseCode:N\", sort=alt.SortField(\"TotalValueAdjusted\", \"descending\")),\n",
    "    tooltip=\"TotalValueAdjusted:Q\",\n",
    ").properties(\n",
    "    title=\"Median home assessment by use code by year, in 2021 dollars\",\n",
    ")"
   ]
  },
  {
   "cell_type": "code",
   "execution_count": 17,
   "id": "7965688a-4bfb-41fe-a6f2-0479cfe5c28e",
   "metadata": {
    "collapsed": true,
    "jupyter": {
     "outputs_hidden": true,
     "source_hidden": true
    },
    "tags": []
   },
   "outputs": [
    {
     "name": "stderr",
     "output_type": "stream",
     "text": [
      "Query complete after 0.01s: 100%|██████████████████████████████████████████████████████████████████████████████████████████████████████████████| 1/1 [00:00<00:00, 217.87query/s]\n",
      "Downloading: 100%|███████████████████████████████████████████████████████████████████████████████████████████████████████████████████████████████| 3/3 [00:01<00:00,  2.52rows/s]\n"
     ]
    }
   ],
   "source": [
    "%%bigquery sales_by_use\n",
    "select distinct\n",
    "    residential.UseCode,\n",
    "    percentile_cont(sales.SaleAmount, 0.5) over (partition by residential.UseCode) as SaleAmount,\n",
    "from `cvilledata.cville_open_data.real_estate_sales` sales\n",
    "join `cvilledata.cville_open_data.real_estate_residential_details` residential using (ParcelNumb)\n",
    "where\n",
    "    SaleAmount != 0\n",
    "    and extract(year from SaleDate) = 2021\n",
    "    and residential.UseCode in (\"Single Family\", \"Single Family Attached\", \"Condominium\")\n",
    "order by SaleAmount desc"
   ]
  },
  {
   "cell_type": "code",
   "execution_count": 18,
   "id": "a00fc860-ae89-4bb9-b91a-bdf6f0b97f25",
   "metadata": {
    "jupyter": {
     "source_hidden": true
    },
    "tags": []
   },
   "outputs": [
    {
     "data": {
      "text/html": [
       "\n",
       "<div id=\"altair-viz-cd357bf6d41945ab94ddbe2100277250\"></div>\n",
       "<script type=\"text/javascript\">\n",
       "  var VEGA_DEBUG = (typeof VEGA_DEBUG == \"undefined\") ? {} : VEGA_DEBUG;\n",
       "  (function(spec, embedOpt){\n",
       "    let outputDiv = document.currentScript.previousElementSibling;\n",
       "    if (outputDiv.id !== \"altair-viz-cd357bf6d41945ab94ddbe2100277250\") {\n",
       "      outputDiv = document.getElementById(\"altair-viz-cd357bf6d41945ab94ddbe2100277250\");\n",
       "    }\n",
       "    const paths = {\n",
       "      \"vega\": \"https://cdn.jsdelivr.net/npm//vega@5?noext\",\n",
       "      \"vega-lib\": \"https://cdn.jsdelivr.net/npm//vega-lib?noext\",\n",
       "      \"vega-lite\": \"https://cdn.jsdelivr.net/npm//vega-lite@4.17.0?noext\",\n",
       "      \"vega-embed\": \"https://cdn.jsdelivr.net/npm//vega-embed@6?noext\",\n",
       "    };\n",
       "\n",
       "    function maybeLoadScript(lib, version) {\n",
       "      var key = `${lib.replace(\"-\", \"\")}_version`;\n",
       "      return (VEGA_DEBUG[key] == version) ?\n",
       "        Promise.resolve(paths[lib]) :\n",
       "        new Promise(function(resolve, reject) {\n",
       "          var s = document.createElement('script');\n",
       "          document.getElementsByTagName(\"head\")[0].appendChild(s);\n",
       "          s.async = true;\n",
       "          s.onload = () => {\n",
       "            VEGA_DEBUG[key] = version;\n",
       "            return resolve(paths[lib]);\n",
       "          };\n",
       "          s.onerror = () => reject(`Error loading script: ${paths[lib]}`);\n",
       "          s.src = paths[lib];\n",
       "        });\n",
       "    }\n",
       "\n",
       "    function showError(err) {\n",
       "      outputDiv.innerHTML = `<div class=\"error\" style=\"color:red;\">${err}</div>`;\n",
       "      throw err;\n",
       "    }\n",
       "\n",
       "    function displayChart(vegaEmbed) {\n",
       "      vegaEmbed(outputDiv, spec, embedOpt)\n",
       "        .catch(err => showError(`Javascript Error: ${err.message}<br>This usually means there's a typo in your chart specification. See the javascript console for the full traceback.`));\n",
       "    }\n",
       "\n",
       "    if(typeof define === \"function\" && define.amd) {\n",
       "      requirejs.config({paths});\n",
       "      require([\"vega-embed\"], displayChart, err => showError(`Error loading script: ${err.message}`));\n",
       "    } else {\n",
       "      maybeLoadScript(\"vega\", \"5\")\n",
       "        .then(() => maybeLoadScript(\"vega-lite\", \"4.17.0\"))\n",
       "        .then(() => maybeLoadScript(\"vega-embed\", \"6\"))\n",
       "        .catch(showError)\n",
       "        .then(() => displayChart(vegaEmbed));\n",
       "    }\n",
       "  })({\"config\": {\"view\": {\"continuousWidth\": 400, \"continuousHeight\": 300}}, \"data\": {\"name\": \"data-f6f2c9e96719385ce093b69adecbf307\"}, \"mark\": \"bar\", \"encoding\": {\"color\": {\"field\": \"UseCode\", \"sort\": {\"field\": \"SaleAmountAdjusted\", \"order\": \"descending\"}, \"type\": \"nominal\"}, \"tooltip\": {\"field\": \"SaleAmount\", \"type\": \"quantitative\"}, \"x\": {\"field\": \"SaleAmount\", \"type\": \"quantitative\"}, \"y\": {\"field\": \"UseCode\", \"sort\": \"-x\", \"type\": \"nominal\"}}, \"title\": \"Median home sale price by use code by year, 2021\", \"$schema\": \"https://vega.github.io/schema/vega-lite/v4.17.0.json\", \"datasets\": {\"data-f6f2c9e96719385ce093b69adecbf307\": [{\"UseCode\": \"Single Family\", \"SaleAmount\": 425000.0}, {\"UseCode\": \"Single Family Attached\", \"SaleAmount\": 294900.0}, {\"UseCode\": \"Condominium\", \"SaleAmount\": 257100.0}]}}, {\"mode\": \"vega-lite\"});\n",
       "</script>"
      ],
      "text/plain": [
       "alt.Chart(...)"
      ]
     },
     "execution_count": 18,
     "metadata": {},
     "output_type": "execute_result"
    }
   ],
   "source": [
    "alt.Chart(sales_by_use).mark_bar().encode(\n",
    "    y=alt.X(\"UseCode:N\", sort=\"-x\"),\n",
    "    x=alt.Y(\"SaleAmount:Q\"),\n",
    "    color=alt.X(\"UseCode:N\", sort=alt.SortField(\"SaleAmountAdjusted\", \"descending\")),\n",
    "    tooltip=\"SaleAmount:Q\",\n",
    ").properties(\n",
    "    title=\"Median home sale price by use code by year, 2021\",\n",
    ")"
   ]
  },
  {
   "cell_type": "code",
   "execution_count": 19,
   "id": "c7e16b05",
   "metadata": {
    "collapsed": true,
    "jupyter": {
     "outputs_hidden": true,
     "source_hidden": true
    },
    "tags": []
   },
   "outputs": [
    {
     "name": "stderr",
     "output_type": "stream",
     "text": [
      "Query complete after 0.01s: 100%|██████████████████████████████████████████████████████████████████████████████████████████████████████████████| 1/1 [00:00<00:00, 462.95query/s]\n",
      "Downloading: 100%|█████████████████████████████████████████████████████████████████████████████████████████████████████████████████████████████| 30/30 [00:01<00:00, 25.40rows/s]\n"
     ]
    }
   ],
   "source": [
    "%%bigquery sales_by_use_by_year\n",
    "select distinct\n",
    "    extract(year from sales.SaleDate) as SaleYear,\n",
    "    residential.UseCode,\n",
    "    percentile_cont(sales.SaleAmount, 0.5) over (partition by extract(year from sales.SaleDate), residential.UseCode) as SaleAmount,\n",
    "    percentile_cont(sales.SaleAmount, 0.5) over (partition by extract(year from sales.SaleDate), residential.UseCode)\n",
    "    * cpi.value\n",
    "    / (\n",
    "        select\n",
    "            value\n",
    "        from `bigquery-public-data.bls.cpi_u`\n",
    "        where\n",
    "            series_id = \"CUUR0000SA0\"\n",
    "            and period = \"M13\"\n",
    "            and year = 2021\n",
    "    )\n",
    "    as SaleAmountAdjusted,\n",
    "from `cvilledata.cville_open_data.real_estate_sales` sales\n",
    "join `cvilledata.cville_open_data.real_estate_residential_details` residential using (ParcelNumb)\n",
    "join `bigquery-public-data.bls.cpi_u` cpi on extract(year from sales.SaleDate) = cpi.year\n",
    "where\n",
    "    SaleAmount != 0\n",
    "    and extract(year from SaleDate) >= 2012\n",
    "    and residential.UseCode in (\"Single Family\", \"Single Family Attached\", \"Condominium\")\n",
    "    and cpi.series_id = \"CUUR0000SA0\"\n",
    "    and cpi.period = \"M13\"\n",
    "order by UseCode, SaleYear desc"
   ]
  },
  {
   "cell_type": "code",
   "execution_count": 20,
   "id": "3d6239bb",
   "metadata": {
    "jupyter": {
     "source_hidden": true
    },
    "tags": []
   },
   "outputs": [
    {
     "data": {
      "text/html": [
       "\n",
       "<div id=\"altair-viz-ae3e76975fc2468a83db04e5b7a14721\"></div>\n",
       "<script type=\"text/javascript\">\n",
       "  var VEGA_DEBUG = (typeof VEGA_DEBUG == \"undefined\") ? {} : VEGA_DEBUG;\n",
       "  (function(spec, embedOpt){\n",
       "    let outputDiv = document.currentScript.previousElementSibling;\n",
       "    if (outputDiv.id !== \"altair-viz-ae3e76975fc2468a83db04e5b7a14721\") {\n",
       "      outputDiv = document.getElementById(\"altair-viz-ae3e76975fc2468a83db04e5b7a14721\");\n",
       "    }\n",
       "    const paths = {\n",
       "      \"vega\": \"https://cdn.jsdelivr.net/npm//vega@5?noext\",\n",
       "      \"vega-lib\": \"https://cdn.jsdelivr.net/npm//vega-lib?noext\",\n",
       "      \"vega-lite\": \"https://cdn.jsdelivr.net/npm//vega-lite@4.17.0?noext\",\n",
       "      \"vega-embed\": \"https://cdn.jsdelivr.net/npm//vega-embed@6?noext\",\n",
       "    };\n",
       "\n",
       "    function maybeLoadScript(lib, version) {\n",
       "      var key = `${lib.replace(\"-\", \"\")}_version`;\n",
       "      return (VEGA_DEBUG[key] == version) ?\n",
       "        Promise.resolve(paths[lib]) :\n",
       "        new Promise(function(resolve, reject) {\n",
       "          var s = document.createElement('script');\n",
       "          document.getElementsByTagName(\"head\")[0].appendChild(s);\n",
       "          s.async = true;\n",
       "          s.onload = () => {\n",
       "            VEGA_DEBUG[key] = version;\n",
       "            return resolve(paths[lib]);\n",
       "          };\n",
       "          s.onerror = () => reject(`Error loading script: ${paths[lib]}`);\n",
       "          s.src = paths[lib];\n",
       "        });\n",
       "    }\n",
       "\n",
       "    function showError(err) {\n",
       "      outputDiv.innerHTML = `<div class=\"error\" style=\"color:red;\">${err}</div>`;\n",
       "      throw err;\n",
       "    }\n",
       "\n",
       "    function displayChart(vegaEmbed) {\n",
       "      vegaEmbed(outputDiv, spec, embedOpt)\n",
       "        .catch(err => showError(`Javascript Error: ${err.message}<br>This usually means there's a typo in your chart specification. See the javascript console for the full traceback.`));\n",
       "    }\n",
       "\n",
       "    if(typeof define === \"function\" && define.amd) {\n",
       "      requirejs.config({paths});\n",
       "      require([\"vega-embed\"], displayChart, err => showError(`Error loading script: ${err.message}`));\n",
       "    } else {\n",
       "      maybeLoadScript(\"vega\", \"5\")\n",
       "        .then(() => maybeLoadScript(\"vega-lite\", \"4.17.0\"))\n",
       "        .then(() => maybeLoadScript(\"vega-embed\", \"6\"))\n",
       "        .catch(showError)\n",
       "        .then(() => displayChart(vegaEmbed));\n",
       "    }\n",
       "  })({\"config\": {\"view\": {\"continuousWidth\": 400, \"continuousHeight\": 300}}, \"data\": {\"name\": \"data-7d996ac13224bf315de79cee93224c04\"}, \"mark\": \"bar\", \"encoding\": {\"color\": {\"field\": \"UseCode\", \"sort\": {\"field\": \"SaleAmountAdjusted\", \"order\": \"descending\"}, \"type\": \"nominal\"}, \"column\": {\"field\": \"UseCode\", \"sort\": {\"field\": \"SaleAmountAdjusted\", \"order\": \"descending\"}, \"type\": \"nominal\"}, \"tooltip\": {\"field\": \"SaleAmountAdjusted\", \"type\": \"quantitative\"}, \"x\": {\"field\": \"SaleYear\", \"sort\": \"x\", \"type\": \"nominal\"}, \"y\": {\"field\": \"SaleAmountAdjusted\", \"type\": \"quantitative\"}}, \"title\": \"Median home sale price by use code by year, in 2021 dollars\", \"$schema\": \"https://vega.github.io/schema/vega-lite/v4.17.0.json\", \"datasets\": {\"data-7d996ac13224bf315de79cee93224c04\": [{\"SaleYear\": 2021, \"UseCode\": \"Condominium\", \"SaleAmount\": 257100.0, \"SaleAmountAdjusted\": 257099.99999999997}, {\"SaleYear\": 2020, \"UseCode\": \"Condominium\", \"SaleAmount\": 268900.0, \"SaleAmountAdjusted\": 256833.88530095576}, {\"SaleYear\": 2019, \"UseCode\": \"Condominium\", \"SaleAmount\": 229000.0, \"SaleAmountAdjusted\": 216058.79986714394}, {\"SaleYear\": 2018, \"UseCode\": \"Condominium\", \"SaleAmount\": 223500.0, \"SaleAmountAdjusted\": 207116.70849171493}, {\"SaleYear\": 2017, \"UseCode\": \"Condominium\", \"SaleAmount\": 219750.0, \"SaleAmountAdjusted\": 198786.28630475697}, {\"SaleYear\": 2016, \"UseCode\": \"Condominium\", \"SaleAmount\": 238000.0, \"SaleAmountAdjusted\": 210804.39163006973}, {\"SaleYear\": 2015, \"UseCode\": \"Condominium\", \"SaleAmount\": 166900.0, \"SaleAmountAdjusted\": 145987.14728567735}, {\"SaleYear\": 2014, \"UseCode\": \"Condominium\", \"SaleAmount\": 212500.0, \"SaleAmountAdjusted\": 185653.02432003542}, {\"SaleYear\": 2013, \"UseCode\": \"Condominium\", \"SaleAmount\": 186500.0, \"SaleAmountAdjusted\": 160336.86570469054}, {\"SaleYear\": 2012, \"UseCode\": \"Condominium\", \"SaleAmount\": 157108.0, \"SaleAmountAdjusted\": 133118.25719452338}, {\"SaleYear\": 2021, \"UseCode\": \"Single Family\", \"SaleAmount\": 425000.0, \"SaleAmountAdjusted\": 425000.0}, {\"SaleYear\": 2020, \"UseCode\": \"Single Family\", \"SaleAmount\": 399000.0, \"SaleAmountAdjusted\": 381096.0216998191}, {\"SaleYear\": 2019, \"UseCode\": \"Single Family\", \"SaleAmount\": 350000.0, \"SaleAmountAdjusted\": 330220.8731593903}, {\"SaleYear\": 2018, \"UseCode\": \"Single Family\", \"SaleAmount\": 336450.0, \"SaleAmountAdjusted\": 311787.0987563199}, {\"SaleYear\": 2017, \"UseCode\": \"Single Family\", \"SaleAmount\": 315000.0, \"SaleAmountAdjusted\": 284949.6254197881}, {\"SaleYear\": 2016, \"UseCode\": \"Single Family\", \"SaleAmount\": 290000.0, \"SaleAmountAdjusted\": 256862.49400302614}, {\"SaleYear\": 2015, \"UseCode\": \"Single Family\", \"SaleAmount\": 278043.0, \"SaleAmountAdjusted\": 243203.74111894303}, {\"SaleYear\": 2014, \"UseCode\": \"Single Family\", \"SaleAmount\": 262000.0, \"SaleAmountAdjusted\": 228899.2582204672}, {\"SaleYear\": 2013, \"UseCode\": \"Single Family\", \"SaleAmount\": 249900.0, \"SaleAmountAdjusted\": 214842.80289330918}, {\"SaleYear\": 2012, \"UseCode\": \"Single Family\", \"SaleAmount\": 255000.0, \"SaleAmountAdjusted\": 216062.55305015313}, {\"SaleYear\": 2021, \"UseCode\": \"Single Family Attached\", \"SaleAmount\": 294900.0, \"SaleAmountAdjusted\": 294900.0}, {\"SaleYear\": 2020, \"UseCode\": \"Single Family Attached\", \"SaleAmount\": 249950.0, \"SaleAmountAdjusted\": 238734.2120898992}, {\"SaleYear\": 2019, \"UseCode\": \"Single Family Attached\", \"SaleAmount\": 288250.0, \"SaleAmountAdjusted\": 271960.4762519836}, {\"SaleYear\": 2018, \"UseCode\": \"Single Family Attached\", \"SaleAmount\": 299500.0, \"SaleAmountAdjusted\": 277545.6563457209}, {\"SaleYear\": 2017, \"UseCode\": \"Single Family Attached\", \"SaleAmount\": 292800.0, \"SaleAmountAdjusted\": 264867.46134258405}, {\"SaleYear\": 2016, \"UseCode\": \"Single Family Attached\", \"SaleAmount\": 245000.0, \"SaleAmountAdjusted\": 217004.52079566}, {\"SaleYear\": 2015, \"UseCode\": \"Single Family Attached\", \"SaleAmount\": 203162.0, \"SaleAmountAdjusted\": 177705.45726095137}, {\"SaleYear\": 2014, \"UseCode\": \"Single Family Attached\", \"SaleAmount\": 189000.0, \"SaleAmountAdjusted\": 165121.98398346678}, {\"SaleYear\": 2013, \"UseCode\": \"Single Family Attached\", \"SaleAmount\": 206500.0, \"SaleAmountAdjusted\": 177531.1676569362}, {\"SaleYear\": 2012, \"UseCode\": \"Single Family Attached\", \"SaleAmount\": 158884.0, \"SaleAmountAdjusted\": 134623.06932870796}]}}, {\"mode\": \"vega-lite\"});\n",
       "</script>"
      ],
      "text/plain": [
       "alt.Chart(...)"
      ]
     },
     "execution_count": 20,
     "metadata": {},
     "output_type": "execute_result"
    }
   ],
   "source": [
    "alt.Chart(sales_by_use_by_year).mark_bar().encode(\n",
    "    x=alt.X(\"SaleYear:N\", sort=\"x\"),\n",
    "    y=alt.Y(\"SaleAmountAdjusted:Q\"),\n",
    "    color=alt.X(\"UseCode:N\", sort=alt.SortField(\"SaleAmountAdjusted\", \"descending\")),\n",
    "    column=alt.X(\"UseCode:N\", sort=alt.SortField(\"SaleAmountAdjusted\", \"descending\")),\n",
    "    tooltip=\"SaleAmountAdjusted:Q\",\n",
    ").properties(\n",
    "    title=\"Median home sale price by use code by year, in 2021 dollars\",\n",
    ")"
   ]
  },
  {
   "cell_type": "markdown",
   "id": "bd3e887b",
   "metadata": {},
   "source": [
    "## Transportation costs\n",
    "\n",
    "Getting around by car is expensive. The [Center for Neighborhood Technology](https://cnt.org/) estimates that a household in the Charlottesville region at the area median income (AMI) spends about \\\\$14,000 on transportation per year."
   ]
  },
  {
   "cell_type": "code",
   "execution_count": 21,
   "id": "4473f4e0",
   "metadata": {
    "collapsed": true,
    "jupyter": {
     "outputs_hidden": true,
     "source_hidden": true
    },
    "tags": []
   },
   "outputs": [
    {
     "name": "stderr",
     "output_type": "stream",
     "text": [
      "Query complete after 0.01s: 100%|██████████████████████████████████████████████████████████████████████████████████████████████████████████████| 1/1 [00:00<00:00, 123.82query/s]\n",
      "Downloading: 100%|███████████████████████████████████████████████████████████████████████████████████████████████████████████████████████████████| 1/1 [00:01<00:00,  1.36s/rows]\n"
     ]
    },
    {
     "data": {
      "text/html": [
       "<div>\n",
       "<style scoped>\n",
       "    .dataframe tbody tr th:only-of-type {\n",
       "        vertical-align: middle;\n",
       "    }\n",
       "\n",
       "    .dataframe tbody tr th {\n",
       "        vertical-align: top;\n",
       "    }\n",
       "\n",
       "    .dataframe thead th {\n",
       "        text-align: right;\n",
       "    }\n",
       "</style>\n",
       "<table border=\"1\" class=\"dataframe\">\n",
       "  <thead>\n",
       "    <tr style=\"text-align: right;\">\n",
       "      <th></th>\n",
       "      <th>name</th>\n",
       "      <th>t_cost_ami</th>\n",
       "      <th>t_cost_80ami</th>\n",
       "    </tr>\n",
       "  </thead>\n",
       "  <tbody>\n",
       "    <tr>\n",
       "      <th>0</th>\n",
       "      <td>Charlottesville, VA</td>\n",
       "      <td>13897</td>\n",
       "      <td>12125</td>\n",
       "    </tr>\n",
       "  </tbody>\n",
       "</table>\n",
       "</div>"
      ],
      "text/plain": [
       "                  name  t_cost_ami  t_cost_80ami\n",
       "0  Charlottesville, VA       13897         12125"
      ]
     },
     "execution_count": 21,
     "metadata": {},
     "output_type": "execute_result"
    }
   ],
   "source": [
    "%%bigquery\n",
    "select\n",
    "    name,\n",
    "    t_cost_ami,\n",
    "    t_cost_80ami,\n",
    "from cvilledata.cnt.cbsa\n",
    "where name = \"Charlottesville, VA\""
   ]
  },
  {
   "cell_type": "code",
   "execution_count": 22,
   "id": "fb5cceaf",
   "metadata": {
    "jupyter": {
     "source_hidden": true
    },
    "tags": []
   },
   "outputs": [
    {
     "data": {
      "text/html": [
       "<div>\n",
       "<style scoped>\n",
       "    .dataframe tbody tr th:only-of-type {\n",
       "        vertical-align: middle;\n",
       "    }\n",
       "\n",
       "    .dataframe tbody tr th {\n",
       "        vertical-align: top;\n",
       "    }\n",
       "\n",
       "    .dataframe thead th {\n",
       "        text-align: right;\n",
       "    }\n",
       "</style>\n",
       "<table border=\"1\" class=\"dataframe\">\n",
       "  <thead>\n",
       "    <tr style=\"text-align: right;\">\n",
       "      <th></th>\n",
       "      <th>UseCode</th>\n",
       "      <th>SaleAmount</th>\n",
       "    </tr>\n",
       "  </thead>\n",
       "  <tbody>\n",
       "    <tr>\n",
       "      <th>0</th>\n",
       "      <td>Single Family</td>\n",
       "      <td>425000.0</td>\n",
       "    </tr>\n",
       "    <tr>\n",
       "      <th>1</th>\n",
       "      <td>Single Family Attached</td>\n",
       "      <td>294900.0</td>\n",
       "    </tr>\n",
       "    <tr>\n",
       "      <th>2</th>\n",
       "      <td>Condominium</td>\n",
       "      <td>257100.0</td>\n",
       "    </tr>\n",
       "  </tbody>\n",
       "</table>\n",
       "</div>"
      ],
      "text/plain": [
       "                  UseCode  SaleAmount\n",
       "0           Single Family    425000.0\n",
       "1  Single Family Attached    294900.0\n",
       "2             Condominium    257100.0"
      ]
     },
     "execution_count": 22,
     "metadata": {},
     "output_type": "execute_result"
    }
   ],
   "source": [
    "sales_by_use"
   ]
  },
  {
   "cell_type": "markdown",
   "id": "cc766b2d-e8ed-47f6-bde3-83eeb5dcb694",
   "metadata": {},
   "source": [
    "**How can zoning affect transportation costs?**\n",
    "\n",
    "While some transportation costs, such as car payments, are fixed, gas and maintenance costs increase as households drive more. On average, Charlottesville residents have shorter commutes than residents of Albemarle, Fluvanna, Greene, and Nelson Counties. Charlottesville residents are also less likely to own a car. As a result, Charlottesville households save about \\\\$4,000 per year in transportation costs relative to Nelson County.\n",
    "\n",
    "**We can lower transportation costs by allowing more housing in the urban ring, close to jobs and amenities**."
   ]
  },
  {
   "cell_type": "code",
   "execution_count": 23,
   "id": "e84f25d8",
   "metadata": {
    "collapsed": true,
    "jupyter": {
     "outputs_hidden": true,
     "source_hidden": true
    },
    "tags": []
   },
   "outputs": [
    {
     "name": "stderr",
     "output_type": "stream",
     "text": [
      "Query complete after 0.00s: 100%|██████████████████████████████████████████████████████████████████████████████████████████████████████████████| 1/1 [00:00<00:00, 413.72query/s]\n",
      "Downloading: 100%|███████████████████████████████████████████████████████████████████████████████████████████████████████████████████████████████| 5/5 [00:01<00:00,  4.35rows/s]\n"
     ]
    }
   ],
   "source": [
    "%%bigquery transit_cost_by_county\n",
    "select\n",
    "    name,\n",
    "    t_cost_ami,\n",
    "    t_cost_80ami,\n",
    "from cvilledata.cnt.virginia_county\n",
    "where name in (\"Charlottesville\", \"Albemarle\", \"Fluvanna\", \"Greene\", \"Nelson\")"
   ]
  },
  {
   "cell_type": "code",
   "execution_count": 24,
   "id": "a699c199",
   "metadata": {
    "jupyter": {
     "source_hidden": true
    },
    "tags": []
   },
   "outputs": [
    {
     "data": {
      "text/html": [
       "\n",
       "<div id=\"altair-viz-b6e3175976d14094b58d2601d3a89f18\"></div>\n",
       "<script type=\"text/javascript\">\n",
       "  var VEGA_DEBUG = (typeof VEGA_DEBUG == \"undefined\") ? {} : VEGA_DEBUG;\n",
       "  (function(spec, embedOpt){\n",
       "    let outputDiv = document.currentScript.previousElementSibling;\n",
       "    if (outputDiv.id !== \"altair-viz-b6e3175976d14094b58d2601d3a89f18\") {\n",
       "      outputDiv = document.getElementById(\"altair-viz-b6e3175976d14094b58d2601d3a89f18\");\n",
       "    }\n",
       "    const paths = {\n",
       "      \"vega\": \"https://cdn.jsdelivr.net/npm//vega@5?noext\",\n",
       "      \"vega-lib\": \"https://cdn.jsdelivr.net/npm//vega-lib?noext\",\n",
       "      \"vega-lite\": \"https://cdn.jsdelivr.net/npm//vega-lite@4.17.0?noext\",\n",
       "      \"vega-embed\": \"https://cdn.jsdelivr.net/npm//vega-embed@6?noext\",\n",
       "    };\n",
       "\n",
       "    function maybeLoadScript(lib, version) {\n",
       "      var key = `${lib.replace(\"-\", \"\")}_version`;\n",
       "      return (VEGA_DEBUG[key] == version) ?\n",
       "        Promise.resolve(paths[lib]) :\n",
       "        new Promise(function(resolve, reject) {\n",
       "          var s = document.createElement('script');\n",
       "          document.getElementsByTagName(\"head\")[0].appendChild(s);\n",
       "          s.async = true;\n",
       "          s.onload = () => {\n",
       "            VEGA_DEBUG[key] = version;\n",
       "            return resolve(paths[lib]);\n",
       "          };\n",
       "          s.onerror = () => reject(`Error loading script: ${paths[lib]}`);\n",
       "          s.src = paths[lib];\n",
       "        });\n",
       "    }\n",
       "\n",
       "    function showError(err) {\n",
       "      outputDiv.innerHTML = `<div class=\"error\" style=\"color:red;\">${err}</div>`;\n",
       "      throw err;\n",
       "    }\n",
       "\n",
       "    function displayChart(vegaEmbed) {\n",
       "      vegaEmbed(outputDiv, spec, embedOpt)\n",
       "        .catch(err => showError(`Javascript Error: ${err.message}<br>This usually means there's a typo in your chart specification. See the javascript console for the full traceback.`));\n",
       "    }\n",
       "\n",
       "    if(typeof define === \"function\" && define.amd) {\n",
       "      requirejs.config({paths});\n",
       "      require([\"vega-embed\"], displayChart, err => showError(`Error loading script: ${err.message}`));\n",
       "    } else {\n",
       "      maybeLoadScript(\"vega\", \"5\")\n",
       "        .then(() => maybeLoadScript(\"vega-lite\", \"4.17.0\"))\n",
       "        .then(() => maybeLoadScript(\"vega-embed\", \"6\"))\n",
       "        .catch(showError)\n",
       "        .then(() => displayChart(vegaEmbed));\n",
       "    }\n",
       "  })({\"config\": {\"view\": {\"continuousWidth\": 400, \"continuousHeight\": 300}}, \"data\": {\"name\": \"data-261a3cfb07f757ac947233c595f97e15\"}, \"mark\": \"bar\", \"encoding\": {\"color\": {\"field\": \"name\", \"type\": \"nominal\"}, \"tooltip\": {\"field\": \"t_cost_ami\", \"type\": \"quantitative\"}, \"x\": {\"field\": \"t_cost_ami\", \"type\": \"quantitative\"}, \"y\": {\"field\": \"name\", \"sort\": \"-x\", \"type\": \"nominal\"}}, \"title\": \"Estimated transportation cost by county at area median income\", \"$schema\": \"https://vega.github.io/schema/vega-lite/v4.17.0.json\", \"datasets\": {\"data-261a3cfb07f757ac947233c595f97e15\": [{\"name\": \"Charlottesville\", \"t_cost_ami\": 11475, \"t_cost_80ami\": 9828}, {\"name\": \"Albemarle\", \"t_cost_ami\": 13928, \"t_cost_80ami\": 12145}, {\"name\": \"Greene\", \"t_cost_ami\": 15271, \"t_cost_80ami\": 13444}, {\"name\": \"Nelson\", \"t_cost_ami\": 15466, \"t_cost_80ami\": 13677}, {\"name\": \"Fluvanna\", \"t_cost_ami\": 15273, \"t_cost_80ami\": 13391}]}}, {\"mode\": \"vega-lite\"});\n",
       "</script>"
      ],
      "text/plain": [
       "alt.Chart(...)"
      ]
     },
     "execution_count": 24,
     "metadata": {},
     "output_type": "execute_result"
    }
   ],
   "source": [
    "alt.Chart(transit_cost_by_county).mark_bar().encode(\n",
    "    y=alt.X(\"name:N\", sort=\"-x\"),\n",
    "    x=alt.Y(\"t_cost_ami:Q\"),\n",
    "    color=\"name:N\",\n",
    "    tooltip=\"t_cost_ami:Q\",\n",
    ").properties(\n",
    "    title=\"Estimated transportation cost by county at area median income\",\n",
    ")"
   ]
  },
  {
   "cell_type": "markdown",
   "id": "72f36e0b",
   "metadata": {},
   "source": [
    "## Energy costs\n",
    "\n",
    "Residental energy costs make up a significant fraction of the cost of living, with the average household spending [$1,856/year in 2015](https://www.eia.gov/consumption/residential/data/2015/c&e/pdf/ce1.1.pdf).\n",
    "\n",
    "**How can zoning affect home energy costs?**\n",
    "\n",
    "Multi-family homes reduce heat loss via shared walls. Multi-family homes also tend to be smaller than single-family homes, further reducing heating and cooling costs. Overall, the typical household in multi-family housing of five or more units spends about half as much on home energy as the typical single-family home, for a savings of about \\\\$1,150 per year.\n",
    "\n",
    "**We can lower home energy costs by allowing more multi-family homes.**"
   ]
  },
  {
   "cell_type": "code",
   "execution_count": 25,
   "id": "a42e4641",
   "metadata": {
    "collapsed": true,
    "jupyter": {
     "outputs_hidden": true,
     "source_hidden": true
    },
    "tags": []
   },
   "outputs": [
    {
     "name": "stderr",
     "output_type": "stream",
     "text": [
      "Query complete after 0.05s: 100%|██████████████████████████████████████████████████████████████████████████████████████████████████████████████| 1/1 [00:00<00:00, 485.90query/s]\n",
      "Downloading: 100%|███████████████████████████████████████████████████████████████████████████████████████████████████████████████████████████████| 5/5 [00:01<00:00,  4.07rows/s]\n"
     ]
    }
   ],
   "source": [
    "%%bigquery hh_energy_use_by_type\n",
    "select\n",
    "    *\n",
    "from `cvilledata.eia.recs_2015_ce1_unit_type`"
   ]
  },
  {
   "cell_type": "code",
   "execution_count": 26,
   "id": "c99fc75f",
   "metadata": {
    "jupyter": {
     "source_hidden": true
    },
    "tags": []
   },
   "outputs": [
    {
     "data": {
      "text/html": [
       "\n",
       "<div id=\"altair-viz-449aad24d7894e6d8d4051a1fe86f169\"></div>\n",
       "<script type=\"text/javascript\">\n",
       "  var VEGA_DEBUG = (typeof VEGA_DEBUG == \"undefined\") ? {} : VEGA_DEBUG;\n",
       "  (function(spec, embedOpt){\n",
       "    let outputDiv = document.currentScript.previousElementSibling;\n",
       "    if (outputDiv.id !== \"altair-viz-449aad24d7894e6d8d4051a1fe86f169\") {\n",
       "      outputDiv = document.getElementById(\"altair-viz-449aad24d7894e6d8d4051a1fe86f169\");\n",
       "    }\n",
       "    const paths = {\n",
       "      \"vega\": \"https://cdn.jsdelivr.net/npm//vega@5?noext\",\n",
       "      \"vega-lib\": \"https://cdn.jsdelivr.net/npm//vega-lib?noext\",\n",
       "      \"vega-lite\": \"https://cdn.jsdelivr.net/npm//vega-lite@4.17.0?noext\",\n",
       "      \"vega-embed\": \"https://cdn.jsdelivr.net/npm//vega-embed@6?noext\",\n",
       "    };\n",
       "\n",
       "    function maybeLoadScript(lib, version) {\n",
       "      var key = `${lib.replace(\"-\", \"\")}_version`;\n",
       "      return (VEGA_DEBUG[key] == version) ?\n",
       "        Promise.resolve(paths[lib]) :\n",
       "        new Promise(function(resolve, reject) {\n",
       "          var s = document.createElement('script');\n",
       "          document.getElementsByTagName(\"head\")[0].appendChild(s);\n",
       "          s.async = true;\n",
       "          s.onload = () => {\n",
       "            VEGA_DEBUG[key] = version;\n",
       "            return resolve(paths[lib]);\n",
       "          };\n",
       "          s.onerror = () => reject(`Error loading script: ${paths[lib]}`);\n",
       "          s.src = paths[lib];\n",
       "        });\n",
       "    }\n",
       "\n",
       "    function showError(err) {\n",
       "      outputDiv.innerHTML = `<div class=\"error\" style=\"color:red;\">${err}</div>`;\n",
       "      throw err;\n",
       "    }\n",
       "\n",
       "    function displayChart(vegaEmbed) {\n",
       "      vegaEmbed(outputDiv, spec, embedOpt)\n",
       "        .catch(err => showError(`Javascript Error: ${err.message}<br>This usually means there's a typo in your chart specification. See the javascript console for the full traceback.`));\n",
       "    }\n",
       "\n",
       "    if(typeof define === \"function\" && define.amd) {\n",
       "      requirejs.config({paths});\n",
       "      require([\"vega-embed\"], displayChart, err => showError(`Error loading script: ${err.message}`));\n",
       "    } else {\n",
       "      maybeLoadScript(\"vega\", \"5\")\n",
       "        .then(() => maybeLoadScript(\"vega-lite\", \"4.17.0\"))\n",
       "        .then(() => maybeLoadScript(\"vega-embed\", \"6\"))\n",
       "        .catch(showError)\n",
       "        .then(() => displayChart(vegaEmbed));\n",
       "    }\n",
       "  })({\"config\": {\"view\": {\"continuousWidth\": 400, \"continuousHeight\": 300}}, \"data\": {\"name\": \"data-582925c7ca43662a617cd02ee0ec3fbc\"}, \"mark\": \"bar\", \"encoding\": {\"color\": {\"field\": \"housing_unit_type\", \"type\": \"nominal\"}, \"tooltip\": {\"field\": \"per_household_dollars\", \"type\": \"quantitative\"}, \"x\": {\"field\": \"per_household_dollars\", \"type\": \"quantitative\"}, \"y\": {\"field\": \"housing_unit_type\", \"sort\": \"-x\", \"type\": \"nominal\"}}, \"title\": \"Average household energy costs by housing type, 2015\", \"$schema\": \"https://vega.github.io/schema/vega-lite/v4.17.0.json\", \"datasets\": {\"data-582925c7ca43662a617cd02ee0ec3fbc\": [{\"housing_unit_type\": \"Single-family detached\", \"total_us\": 73.9, \"total_trillion_btu\": 6991, \"per_household_million_btu\": 94.6, \"per_household_member_million_btu\": 34.6, \"per_square_foot_thousand_btu\": 37.1, \"total_billion_dollars\": 161.65, \"per_household_dollars\": 2188, \"per_household_member_dollars\": 801, \"per_square_foot_dollars\": 0.86}, {\"housing_unit_type\": \"Single-family attached\", \"total_us\": 7.0, \"total_trillion_btu\": 491, \"per_household_million_btu\": 70.0, \"per_household_member_million_btu\": 28.6, \"per_square_foot_thousand_btu\": 39.5, \"total_billion_dollars\": 11.23, \"per_household_dollars\": 1602, \"per_household_member_dollars\": 655, \"per_square_foot_dollars\": 0.9}, {\"housing_unit_type\": \"Apartments in buildings with 2\\u20134 units\", \"total_us\": 9.4, \"total_trillion_btu\": 503, \"per_household_million_btu\": 53.5, \"per_household_member_million_btu\": 22.3, \"per_square_foot_thousand_btu\": 52.5, \"total_billion_dollars\": 12.48, \"per_household_dollars\": 1329, \"per_household_member_dollars\": 555, \"per_square_foot_dollars\": 1.3}, {\"housing_unit_type\": \"Apartments in buildings with 5 or more units\", \"total_us\": 21.1, \"total_trillion_btu\": 724, \"per_household_million_btu\": 34.2, \"per_household_member_million_btu\": 17.3, \"per_square_foot_thousand_btu\": 38.8, \"total_billion_dollars\": 22.1, \"per_household_dollars\": 1045, \"per_household_member_dollars\": 529, \"per_square_foot_dollars\": 1.18}, {\"housing_unit_type\": \"Mobile homes\", \"total_us\": 6.8, \"total_trillion_btu\": 406, \"per_household_million_btu\": 59.8, \"per_household_member_million_btu\": 22.8, \"per_square_foot_thousand_btu\": 50.0, \"total_billion_dollars\": 11.88, \"per_household_dollars\": 1750, \"per_household_member_dollars\": 666, \"per_square_foot_dollars\": 1.46}]}}, {\"mode\": \"vega-lite\"});\n",
       "</script>"
      ],
      "text/plain": [
       "alt.Chart(...)"
      ]
     },
     "execution_count": 26,
     "metadata": {},
     "output_type": "execute_result"
    }
   ],
   "source": [
    "alt.Chart(hh_energy_use_by_type).mark_bar().encode(\n",
    "    y=alt.X(\"housing_unit_type:N\", sort=\"-x\"),\n",
    "    x=alt.Y(\"per_household_dollars:Q\"),\n",
    "    color=\"housing_unit_type:N\",\n",
    "    tooltip=\"per_household_dollars:Q\",\n",
    ").properties(\n",
    "    title=\"Average household energy costs by housing type, 2015\",\n",
    ")"
   ]
  },
  {
   "cell_type": "markdown",
   "id": "bfa102ab-7827-4a8e-9d44-b85a8faceba4",
   "metadata": {},
   "source": [
    "## Conclusions\n",
    "\n",
    "- Zoning can lower housing costs by allowing lower-cost housing forms, such as multiplexes, townhomes, and apartment.\n",
    "- Zoning can lower transportation costs by allowing more housing close to jobs and amenities, in particular in the urban ring.\n",
    "- Zoning can lower home energy costs by allowing housing forms that use less energy, such as multiplexes, townhomes, and apartments."
   ]
  }
 ],
 "metadata": {
  "kernelspec": {
   "display_name": "Python 3 (ipykernel)",
   "language": "python",
   "name": "python3"
  },
  "language_info": {
   "codemirror_mode": {
    "name": "ipython",
    "version": 3
   },
   "file_extension": ".py",
   "mimetype": "text/x-python",
   "name": "python",
   "nbconvert_exporter": "python",
   "pygments_lexer": "ipython3",
   "version": "3.9.6"
  }
 },
 "nbformat": 4,
 "nbformat_minor": 5
}
