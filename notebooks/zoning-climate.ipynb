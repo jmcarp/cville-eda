{
 "cells": [
  {
   "cell_type": "code",
   "execution_count": 1,
   "id": "3165a256",
   "metadata": {},
   "outputs": [],
   "source": [
    "%load_ext google.cloud.bigquery"
   ]
  },
  {
   "cell_type": "code",
   "execution_count": 2,
   "id": "091bf0d9",
   "metadata": {},
   "outputs": [],
   "source": [
    "import branca\n",
    "import altair as alt\n",
    "import autocensus\n",
    "import folium\n",
    "import geopandas as gpd\n",
    "import pandas as pd\n",
    "import requests"
   ]
  },
  {
   "cell_type": "markdown",
   "id": "999dcce8",
   "metadata": {},
   "source": [
    "## Transportation and residential energy use are major drivers of climate change\n",
    "\n",
    "In Virginia, transportation and residential energy use together account for about half of greenhouse gas (GHG) emissions, at 29.4% and 16.8%, respectively. Reducing our carbon footprint will require reducing emissions from driving and home energy use. Data from https://www.deq.virginia.gov/air/greenhouse-gases."
   ]
  },
  {
   "cell_type": "code",
   "execution_count": 3,
   "id": "76758108",
   "metadata": {},
   "outputs": [],
   "source": [
    "va_eia_raw = requests.get(\"https://www.deq.virginia.gov/home/showpublisheddocument/12632/637725680591230000\").content\n",
    "va_eia_by_source = pd.read_excel(va_eia_raw, sheet_name=\"Figure 1\")"
   ]
  },
  {
   "cell_type": "code",
   "execution_count": 4,
   "id": "ad58e6c8",
   "metadata": {},
   "outputs": [
    {
     "data": {
      "text/html": [
       "\n",
       "<div id=\"altair-viz-1119ce8d57204ee0b6567d37a3dcd8c0\"></div>\n",
       "<script type=\"text/javascript\">\n",
       "  var VEGA_DEBUG = (typeof VEGA_DEBUG == \"undefined\") ? {} : VEGA_DEBUG;\n",
       "  (function(spec, embedOpt){\n",
       "    let outputDiv = document.currentScript.previousElementSibling;\n",
       "    if (outputDiv.id !== \"altair-viz-1119ce8d57204ee0b6567d37a3dcd8c0\") {\n",
       "      outputDiv = document.getElementById(\"altair-viz-1119ce8d57204ee0b6567d37a3dcd8c0\");\n",
       "    }\n",
       "    const paths = {\n",
       "      \"vega\": \"https://cdn.jsdelivr.net/npm//vega@5?noext\",\n",
       "      \"vega-lib\": \"https://cdn.jsdelivr.net/npm//vega-lib?noext\",\n",
       "      \"vega-lite\": \"https://cdn.jsdelivr.net/npm//vega-lite@4.17.0?noext\",\n",
       "      \"vega-embed\": \"https://cdn.jsdelivr.net/npm//vega-embed@6?noext\",\n",
       "    };\n",
       "\n",
       "    function maybeLoadScript(lib, version) {\n",
       "      var key = `${lib.replace(\"-\", \"\")}_version`;\n",
       "      return (VEGA_DEBUG[key] == version) ?\n",
       "        Promise.resolve(paths[lib]) :\n",
       "        new Promise(function(resolve, reject) {\n",
       "          var s = document.createElement('script');\n",
       "          document.getElementsByTagName(\"head\")[0].appendChild(s);\n",
       "          s.async = true;\n",
       "          s.onload = () => {\n",
       "            VEGA_DEBUG[key] = version;\n",
       "            return resolve(paths[lib]);\n",
       "          };\n",
       "          s.onerror = () => reject(`Error loading script: ${paths[lib]}`);\n",
       "          s.src = paths[lib];\n",
       "        });\n",
       "    }\n",
       "\n",
       "    function showError(err) {\n",
       "      outputDiv.innerHTML = `<div class=\"error\" style=\"color:red;\">${err}</div>`;\n",
       "      throw err;\n",
       "    }\n",
       "\n",
       "    function displayChart(vegaEmbed) {\n",
       "      vegaEmbed(outputDiv, spec, embedOpt)\n",
       "        .catch(err => showError(`Javascript Error: ${err.message}<br>This usually means there's a typo in your chart specification. See the javascript console for the full traceback.`));\n",
       "    }\n",
       "\n",
       "    if(typeof define === \"function\" && define.amd) {\n",
       "      requirejs.config({paths});\n",
       "      require([\"vega-embed\"], displayChart, err => showError(`Error loading script: ${err.message}`));\n",
       "    } else {\n",
       "      maybeLoadScript(\"vega\", \"5\")\n",
       "        .then(() => maybeLoadScript(\"vega-lite\", \"4.17.0\"))\n",
       "        .then(() => maybeLoadScript(\"vega-embed\", \"6\"))\n",
       "        .catch(showError)\n",
       "        .then(() => displayChart(vegaEmbed));\n",
       "    }\n",
       "  })({\"config\": {\"view\": {\"continuousWidth\": 400, \"continuousHeight\": 300}}, \"data\": {\"name\": \"data-eabb465d8ab50ec3a257d5ae3c1e09c4\"}, \"mark\": \"bar\", \"encoding\": {\"color\": {\"field\": \"Sector\", \"type\": \"nominal\"}, \"tooltip\": {\"field\": \"Percent of Total Emissions\", \"type\": \"quantitative\"}, \"x\": {\"field\": \"Percent of Total Emissions\", \"type\": \"quantitative\"}, \"y\": {\"field\": \"Sector\", \"sort\": \"-x\", \"type\": \"nominal\"}}, \"title\": \"Virginia Emissions by Sector, 2018\", \"$schema\": \"https://vega.github.io/schema/vega-lite/v4.17.0.json\", \"datasets\": {\"data-eabb465d8ab50ec3a257d5ae3c1e09c4\": [{\"Sector\": \"On-road Transportation\", \"Percent of Total Emissions\": 29.363787, \"MMTCO2e\": 41.28}, {\"Sector\": \"Off-road Mobile Sources\", \"Percent of Total Emissions\": 5.441478481315844, \"MMTCO2e\": 7.65}, {\"Sector\": \"Industry\", \"Percent of Total Emissions\": 18.511910627859997, \"MMTCO2e\": 26.03}, {\"Sector\": \"Commercial Energy\", \"Percent of Total Emissions\": 17.583174376170607, \"MMTCO2e\": 24.72}, {\"Sector\": \"Residential Energy\", \"Percent of Total Emissions\": 16.82697184736466, \"MMTCO2e\": 23.66}, {\"Sector\": \"Energy Production\", \"Percent of Total Emissions\": 4.873759342106648, \"MMTCO2e\": 6.85}, {\"Sector\": \"Agriculture\", \"Percent of Total Emissions\": 4.568450202064653, \"MMTCO2e\": 6.42}, {\"Sector\": \"Solid Waste\", \"Percent of Total Emissions\": 2.153629752246093, \"MMTCO2e\": 3.03}, {\"Sector\": \"Wastewater\", \"Percent of Total Emissions\": 0.6768383565913464, \"MMTCO2e\": 0.95}]}}, {\"mode\": \"vega-lite\"});\n",
       "</script>"
      ],
      "text/plain": [
       "alt.Chart(...)"
      ]
     },
     "execution_count": 4,
     "metadata": {},
     "output_type": "execute_result"
    }
   ],
   "source": [
    "alt.Chart(va_eia_by_source).mark_bar().encode(\n",
    "    y=alt.X(\"Sector:N\", sort=\"-x\"),\n",
    "    x=alt.Y(\"Percent of Total Emissions:Q\"),\n",
    "    color=\"Sector:N\",\n",
    "    tooltip=\"Percent of Total Emissions:Q\",\n",
    ").properties(\n",
    "    title=\"Virginia Emissions by Sector, 2018\",\n",
    ")"
   ]
  },
  {
   "cell_type": "markdown",
   "id": "3779a19a",
   "metadata": {},
   "source": [
    "## Multi-family homes use less energy than single-family homes.\n",
    "\n",
    "Using data from the US Energy Information Administration, we can compare energy use and energy cost per household across housing unit types. See https://www.eia.gov/consumption/residential/data/2015/index.php?view=consumption for source data; results are from 2015. Single-family homes are the most energy-intensive, with apartments of five or more units consuming about one third the energy of a single-family home."
   ]
  },
  {
   "cell_type": "code",
   "execution_count": 5,
   "id": "cae38a1c",
   "metadata": {},
   "outputs": [
    {
     "name": "stderr",
     "output_type": "stream",
     "text": [
      "Query complete after 0.03s: 100%|██████████████████████████████████████████████████████████████████████████████████████████████████████████████| 1/1 [00:00<00:00, 245.04query/s]\n",
      "Downloading: 100%|███████████████████████████████████████████████████████████████████████████████████████████████████████████████████████████████| 5/5 [00:01<00:00,  4.82rows/s]\n"
     ]
    }
   ],
   "source": [
    "%%bigquery hh_energy_use\n",
    "select\n",
    "    *\n",
    "from `cvilledata.eia.recs_2015_ce1_unit_type`"
   ]
  },
  {
   "cell_type": "code",
   "execution_count": 6,
   "id": "690889c8",
   "metadata": {},
   "outputs": [
    {
     "data": {
      "text/html": [
       "\n",
       "<div id=\"altair-viz-9fe7d69374b54754a5a37d588b130c32\"></div>\n",
       "<script type=\"text/javascript\">\n",
       "  var VEGA_DEBUG = (typeof VEGA_DEBUG == \"undefined\") ? {} : VEGA_DEBUG;\n",
       "  (function(spec, embedOpt){\n",
       "    let outputDiv = document.currentScript.previousElementSibling;\n",
       "    if (outputDiv.id !== \"altair-viz-9fe7d69374b54754a5a37d588b130c32\") {\n",
       "      outputDiv = document.getElementById(\"altair-viz-9fe7d69374b54754a5a37d588b130c32\");\n",
       "    }\n",
       "    const paths = {\n",
       "      \"vega\": \"https://cdn.jsdelivr.net/npm//vega@5?noext\",\n",
       "      \"vega-lib\": \"https://cdn.jsdelivr.net/npm//vega-lib?noext\",\n",
       "      \"vega-lite\": \"https://cdn.jsdelivr.net/npm//vega-lite@4.17.0?noext\",\n",
       "      \"vega-embed\": \"https://cdn.jsdelivr.net/npm//vega-embed@6?noext\",\n",
       "    };\n",
       "\n",
       "    function maybeLoadScript(lib, version) {\n",
       "      var key = `${lib.replace(\"-\", \"\")}_version`;\n",
       "      return (VEGA_DEBUG[key] == version) ?\n",
       "        Promise.resolve(paths[lib]) :\n",
       "        new Promise(function(resolve, reject) {\n",
       "          var s = document.createElement('script');\n",
       "          document.getElementsByTagName(\"head\")[0].appendChild(s);\n",
       "          s.async = true;\n",
       "          s.onload = () => {\n",
       "            VEGA_DEBUG[key] = version;\n",
       "            return resolve(paths[lib]);\n",
       "          };\n",
       "          s.onerror = () => reject(`Error loading script: ${paths[lib]}`);\n",
       "          s.src = paths[lib];\n",
       "        });\n",
       "    }\n",
       "\n",
       "    function showError(err) {\n",
       "      outputDiv.innerHTML = `<div class=\"error\" style=\"color:red;\">${err}</div>`;\n",
       "      throw err;\n",
       "    }\n",
       "\n",
       "    function displayChart(vegaEmbed) {\n",
       "      vegaEmbed(outputDiv, spec, embedOpt)\n",
       "        .catch(err => showError(`Javascript Error: ${err.message}<br>This usually means there's a typo in your chart specification. See the javascript console for the full traceback.`));\n",
       "    }\n",
       "\n",
       "    if(typeof define === \"function\" && define.amd) {\n",
       "      requirejs.config({paths});\n",
       "      require([\"vega-embed\"], displayChart, err => showError(`Error loading script: ${err.message}`));\n",
       "    } else {\n",
       "      maybeLoadScript(\"vega\", \"5\")\n",
       "        .then(() => maybeLoadScript(\"vega-lite\", \"4.17.0\"))\n",
       "        .then(() => maybeLoadScript(\"vega-embed\", \"6\"))\n",
       "        .catch(showError)\n",
       "        .then(() => displayChart(vegaEmbed));\n",
       "    }\n",
       "  })({\"config\": {\"view\": {\"continuousWidth\": 400, \"continuousHeight\": 300}}, \"data\": {\"name\": \"data-582925c7ca43662a617cd02ee0ec3fbc\"}, \"mark\": \"bar\", \"encoding\": {\"color\": {\"field\": \"housing_unit_type\", \"type\": \"nominal\"}, \"tooltip\": {\"field\": \"per_household_million_btu\", \"type\": \"quantitative\"}, \"x\": {\"field\": \"per_household_million_btu\", \"type\": \"quantitative\"}, \"y\": {\"field\": \"housing_unit_type\", \"sort\": \"-x\", \"type\": \"nominal\"}}, \"title\": \"Average household energy use by housing type\", \"$schema\": \"https://vega.github.io/schema/vega-lite/v4.17.0.json\", \"datasets\": {\"data-582925c7ca43662a617cd02ee0ec3fbc\": [{\"housing_unit_type\": \"Single-family detached\", \"total_us\": 73.9, \"total_trillion_btu\": 6991, \"per_household_million_btu\": 94.6, \"per_household_member_million_btu\": 34.6, \"per_square_foot_thousand_btu\": 37.1, \"total_billion_dollars\": 161.65, \"per_household_dollars\": 2188, \"per_household_member_dollars\": 801, \"per_square_foot_dollars\": 0.86}, {\"housing_unit_type\": \"Single-family attached\", \"total_us\": 7.0, \"total_trillion_btu\": 491, \"per_household_million_btu\": 70.0, \"per_household_member_million_btu\": 28.6, \"per_square_foot_thousand_btu\": 39.5, \"total_billion_dollars\": 11.23, \"per_household_dollars\": 1602, \"per_household_member_dollars\": 655, \"per_square_foot_dollars\": 0.9}, {\"housing_unit_type\": \"Apartments in buildings with 2\\u20134 units\", \"total_us\": 9.4, \"total_trillion_btu\": 503, \"per_household_million_btu\": 53.5, \"per_household_member_million_btu\": 22.3, \"per_square_foot_thousand_btu\": 52.5, \"total_billion_dollars\": 12.48, \"per_household_dollars\": 1329, \"per_household_member_dollars\": 555, \"per_square_foot_dollars\": 1.3}, {\"housing_unit_type\": \"Apartments in buildings with 5 or more units\", \"total_us\": 21.1, \"total_trillion_btu\": 724, \"per_household_million_btu\": 34.2, \"per_household_member_million_btu\": 17.3, \"per_square_foot_thousand_btu\": 38.8, \"total_billion_dollars\": 22.1, \"per_household_dollars\": 1045, \"per_household_member_dollars\": 529, \"per_square_foot_dollars\": 1.18}, {\"housing_unit_type\": \"Mobile homes\", \"total_us\": 6.8, \"total_trillion_btu\": 406, \"per_household_million_btu\": 59.8, \"per_household_member_million_btu\": 22.8, \"per_square_foot_thousand_btu\": 50.0, \"total_billion_dollars\": 11.88, \"per_household_dollars\": 1750, \"per_household_member_dollars\": 666, \"per_square_foot_dollars\": 1.46}]}}, {\"mode\": \"vega-lite\"});\n",
       "</script>"
      ],
      "text/plain": [
       "alt.Chart(...)"
      ]
     },
     "execution_count": 6,
     "metadata": {},
     "output_type": "execute_result"
    }
   ],
   "source": [
    "alt.Chart(hh_energy_use).mark_bar().encode(\n",
    "    y=alt.X(\"housing_unit_type:N\", sort=\"-x\"),\n",
    "    x=alt.Y(\"per_household_million_btu:Q\"),\n",
    "    color=\"housing_unit_type:N\",\n",
    "    tooltip=\"per_household_million_btu:Q\",\n",
    ").properties(\n",
    "    title=\"Average household energy use by housing type\",\n",
    ")"
   ]
  },
  {
   "cell_type": "code",
   "execution_count": 7,
   "id": "a4e5ebf7",
   "metadata": {},
   "outputs": [
    {
     "data": {
      "text/html": [
       "\n",
       "<div id=\"altair-viz-3489b3fc8a6749b8840489cd47afb0b3\"></div>\n",
       "<script type=\"text/javascript\">\n",
       "  var VEGA_DEBUG = (typeof VEGA_DEBUG == \"undefined\") ? {} : VEGA_DEBUG;\n",
       "  (function(spec, embedOpt){\n",
       "    let outputDiv = document.currentScript.previousElementSibling;\n",
       "    if (outputDiv.id !== \"altair-viz-3489b3fc8a6749b8840489cd47afb0b3\") {\n",
       "      outputDiv = document.getElementById(\"altair-viz-3489b3fc8a6749b8840489cd47afb0b3\");\n",
       "    }\n",
       "    const paths = {\n",
       "      \"vega\": \"https://cdn.jsdelivr.net/npm//vega@5?noext\",\n",
       "      \"vega-lib\": \"https://cdn.jsdelivr.net/npm//vega-lib?noext\",\n",
       "      \"vega-lite\": \"https://cdn.jsdelivr.net/npm//vega-lite@4.17.0?noext\",\n",
       "      \"vega-embed\": \"https://cdn.jsdelivr.net/npm//vega-embed@6?noext\",\n",
       "    };\n",
       "\n",
       "    function maybeLoadScript(lib, version) {\n",
       "      var key = `${lib.replace(\"-\", \"\")}_version`;\n",
       "      return (VEGA_DEBUG[key] == version) ?\n",
       "        Promise.resolve(paths[lib]) :\n",
       "        new Promise(function(resolve, reject) {\n",
       "          var s = document.createElement('script');\n",
       "          document.getElementsByTagName(\"head\")[0].appendChild(s);\n",
       "          s.async = true;\n",
       "          s.onload = () => {\n",
       "            VEGA_DEBUG[key] = version;\n",
       "            return resolve(paths[lib]);\n",
       "          };\n",
       "          s.onerror = () => reject(`Error loading script: ${paths[lib]}`);\n",
       "          s.src = paths[lib];\n",
       "        });\n",
       "    }\n",
       "\n",
       "    function showError(err) {\n",
       "      outputDiv.innerHTML = `<div class=\"error\" style=\"color:red;\">${err}</div>`;\n",
       "      throw err;\n",
       "    }\n",
       "\n",
       "    function displayChart(vegaEmbed) {\n",
       "      vegaEmbed(outputDiv, spec, embedOpt)\n",
       "        .catch(err => showError(`Javascript Error: ${err.message}<br>This usually means there's a typo in your chart specification. See the javascript console for the full traceback.`));\n",
       "    }\n",
       "\n",
       "    if(typeof define === \"function\" && define.amd) {\n",
       "      requirejs.config({paths});\n",
       "      require([\"vega-embed\"], displayChart, err => showError(`Error loading script: ${err.message}`));\n",
       "    } else {\n",
       "      maybeLoadScript(\"vega\", \"5\")\n",
       "        .then(() => maybeLoadScript(\"vega-lite\", \"4.17.0\"))\n",
       "        .then(() => maybeLoadScript(\"vega-embed\", \"6\"))\n",
       "        .catch(showError)\n",
       "        .then(() => displayChart(vegaEmbed));\n",
       "    }\n",
       "  })({\"config\": {\"view\": {\"continuousWidth\": 400, \"continuousHeight\": 300}}, \"data\": {\"name\": \"data-582925c7ca43662a617cd02ee0ec3fbc\"}, \"mark\": \"bar\", \"encoding\": {\"color\": {\"field\": \"housing_unit_type\", \"type\": \"nominal\"}, \"tooltip\": {\"field\": \"per_household_dollars\", \"type\": \"quantitative\"}, \"x\": {\"field\": \"per_household_dollars\", \"type\": \"quantitative\"}, \"y\": {\"field\": \"housing_unit_type\", \"sort\": \"-x\", \"type\": \"nominal\"}}, \"title\": \"Average household energy costs by housing type\", \"$schema\": \"https://vega.github.io/schema/vega-lite/v4.17.0.json\", \"datasets\": {\"data-582925c7ca43662a617cd02ee0ec3fbc\": [{\"housing_unit_type\": \"Single-family detached\", \"total_us\": 73.9, \"total_trillion_btu\": 6991, \"per_household_million_btu\": 94.6, \"per_household_member_million_btu\": 34.6, \"per_square_foot_thousand_btu\": 37.1, \"total_billion_dollars\": 161.65, \"per_household_dollars\": 2188, \"per_household_member_dollars\": 801, \"per_square_foot_dollars\": 0.86}, {\"housing_unit_type\": \"Single-family attached\", \"total_us\": 7.0, \"total_trillion_btu\": 491, \"per_household_million_btu\": 70.0, \"per_household_member_million_btu\": 28.6, \"per_square_foot_thousand_btu\": 39.5, \"total_billion_dollars\": 11.23, \"per_household_dollars\": 1602, \"per_household_member_dollars\": 655, \"per_square_foot_dollars\": 0.9}, {\"housing_unit_type\": \"Apartments in buildings with 2\\u20134 units\", \"total_us\": 9.4, \"total_trillion_btu\": 503, \"per_household_million_btu\": 53.5, \"per_household_member_million_btu\": 22.3, \"per_square_foot_thousand_btu\": 52.5, \"total_billion_dollars\": 12.48, \"per_household_dollars\": 1329, \"per_household_member_dollars\": 555, \"per_square_foot_dollars\": 1.3}, {\"housing_unit_type\": \"Apartments in buildings with 5 or more units\", \"total_us\": 21.1, \"total_trillion_btu\": 724, \"per_household_million_btu\": 34.2, \"per_household_member_million_btu\": 17.3, \"per_square_foot_thousand_btu\": 38.8, \"total_billion_dollars\": 22.1, \"per_household_dollars\": 1045, \"per_household_member_dollars\": 529, \"per_square_foot_dollars\": 1.18}, {\"housing_unit_type\": \"Mobile homes\", \"total_us\": 6.8, \"total_trillion_btu\": 406, \"per_household_million_btu\": 59.8, \"per_household_member_million_btu\": 22.8, \"per_square_foot_thousand_btu\": 50.0, \"total_billion_dollars\": 11.88, \"per_household_dollars\": 1750, \"per_household_member_dollars\": 666, \"per_square_foot_dollars\": 1.46}]}}, {\"mode\": \"vega-lite\"});\n",
       "</script>"
      ],
      "text/plain": [
       "alt.Chart(...)"
      ]
     },
     "execution_count": 7,
     "metadata": {},
     "output_type": "execute_result"
    }
   ],
   "source": [
    "alt.Chart(hh_energy_use).mark_bar().encode(\n",
    "    y=alt.X(\"housing_unit_type:N\", sort=\"-x\"),\n",
    "    x=alt.Y(\"per_household_dollars:Q\"),\n",
    "    color=\"housing_unit_type:N\",\n",
    "    tooltip=\"per_household_dollars:Q\",\n",
    ").properties(\n",
    "    title=\"Average household energy costs by housing type\",\n",
    ")"
   ]
  },
  {
   "cell_type": "markdown",
   "id": "c3733ba6",
   "metadata": {},
   "source": [
    "## City residents drive less than County residents.\n",
    "\n",
    "We can use data from the American Community Survey to estimate the proportion of workers who commute by car (prop_drive) and the average commuting time (travel_time) for the Charlottesville MSA. Data are from 2019. Relative to Albemarle, Fluvanna, Greene, and Nelson counties, Charlottesville residents are less likely to drive to work, and spend much less time commuting."
   ]
  },
  {
   "cell_type": "code",
   "execution_count": 8,
   "id": "2036fa23",
   "metadata": {},
   "outputs": [],
   "source": [
    "MODE_SHARE_VARIABLES = [\n",
    "    # Sex of Workers by Means of Transportation to Work\n",
    "    \"B08006_001E\",  # Estimate!!Total\n",
    "    \"B08006_002E\",  # Estimate!!Total!!Car, truck, or van\n",
    "    \"B08006_017E\",  # Estimate!!Total!!Worked at home\n",
    "]\n",
    "\n",
    "TRAVEL_TIME_VARIABLES = [\n",
    "    # Aggregate Travel Time to Work of Workers by Sex\n",
    "    \"B08013_001E\",  # Estimate!!Aggregate travel time to work (in minutes)\n",
    "    # Sex of Workers by Means of Transportation to Work\n",
    "    \"B08006_001E\",  # Estimate!!Total\n",
    "    \"B08006_017E\",  # Estimate!!Total!!Worked at home\n",
    "]\n",
    "\n",
    "CVILLE_MSA_COUNTIES = {\n",
    "    \"003\": \"Albemarle County\",\n",
    "    \"540\": \"Charlottesville City\",\n",
    "    \"065\": \"Fluvanna County\",\n",
    "    \"079\": \"Greene County\",\n",
    "    \"125\": \"Nelson County\",\n",
    "}\n",
    "\n",
    "def reshape_census(df):\n",
    "    pivoted = df.pivot(index=[\"name\"], columns=\"variable_code\", values=\"value\").reset_index()\n",
    "    geo_deduped = df[[\"name\", \"geometry\"]].drop_duplicates()\n",
    "    return pd.merge(pivoted, geo_deduped, on=\"name\")\n",
    "\n",
    "def normalize_county(df, raw_county_key=\"name\", normalized_county_key=\"county\"):\n",
    "    df = df.copy()\n",
    "    df[normalized_county_key] = df[raw_county_key].str.replace(\" city\", \" City\").str.replace(\", Virginia\", \"\")\n",
    "    return df\n",
    "\n",
    "def calculate_mode_share(df):\n",
    "    df = df.copy()\n",
    "    df[\"prop_drive\"] = df[\"B08006_002E\"] / (df[\"B08006_001E\"] - df[\"B08006_017E\"])\n",
    "    return df\n",
    "\n",
    "def calculate_travel_time(df):\n",
    "    df = df.copy()\n",
    "    df[\"travel_time\"] = df[\"B08013_001E\"] / (df[\"B08006_001E\"] - df[\"B08006_017E\"])\n",
    "    return df"
   ]
  },
  {
   "cell_type": "code",
   "execution_count": 9,
   "id": "2ddac106",
   "metadata": {},
   "outputs": [
    {
     "name": "stderr",
     "output_type": "stream",
     "text": [
      "Retrieving variables...\n",
      "Retrieving ACS tables...\n",
      "Retrieving shapefiles...\n",
      "Merging ACS tables and variables...\n",
      "Merging annotations...\n",
      "Merging shapefiles...\n",
      "Finalizing data...\n"
     ]
    }
   ],
   "source": [
    "commute_mode_county = autocensus.Query(\n",
    "    estimate=5,\n",
    "    years=[2019],\n",
    "    variables=MODE_SHARE_VARIABLES,\n",
    "    for_geo=[\"county:*\"],\n",
    "    in_geo=[\"state:51\"],  # Virginia\n",
    "    geometry=\"polygons\",\n",
    ").run()\n",
    "commute_mode_county_wide = calculate_mode_share(normalize_county(reshape_census(commute_mode_county)))"
   ]
  },
  {
   "cell_type": "code",
   "execution_count": 10,
   "id": "fa3b812d",
   "metadata": {},
   "outputs": [
    {
     "data": {
      "text/html": [
       "\n",
       "<div id=\"altair-viz-c2875206e1ef4b1394507a69c96f6441\"></div>\n",
       "<script type=\"text/javascript\">\n",
       "  var VEGA_DEBUG = (typeof VEGA_DEBUG == \"undefined\") ? {} : VEGA_DEBUG;\n",
       "  (function(spec, embedOpt){\n",
       "    let outputDiv = document.currentScript.previousElementSibling;\n",
       "    if (outputDiv.id !== \"altair-viz-c2875206e1ef4b1394507a69c96f6441\") {\n",
       "      outputDiv = document.getElementById(\"altair-viz-c2875206e1ef4b1394507a69c96f6441\");\n",
       "    }\n",
       "    const paths = {\n",
       "      \"vega\": \"https://cdn.jsdelivr.net/npm//vega@5?noext\",\n",
       "      \"vega-lib\": \"https://cdn.jsdelivr.net/npm//vega-lib?noext\",\n",
       "      \"vega-lite\": \"https://cdn.jsdelivr.net/npm//vega-lite@4.17.0?noext\",\n",
       "      \"vega-embed\": \"https://cdn.jsdelivr.net/npm//vega-embed@6?noext\",\n",
       "    };\n",
       "\n",
       "    function maybeLoadScript(lib, version) {\n",
       "      var key = `${lib.replace(\"-\", \"\")}_version`;\n",
       "      return (VEGA_DEBUG[key] == version) ?\n",
       "        Promise.resolve(paths[lib]) :\n",
       "        new Promise(function(resolve, reject) {\n",
       "          var s = document.createElement('script');\n",
       "          document.getElementsByTagName(\"head\")[0].appendChild(s);\n",
       "          s.async = true;\n",
       "          s.onload = () => {\n",
       "            VEGA_DEBUG[key] = version;\n",
       "            return resolve(paths[lib]);\n",
       "          };\n",
       "          s.onerror = () => reject(`Error loading script: ${paths[lib]}`);\n",
       "          s.src = paths[lib];\n",
       "        });\n",
       "    }\n",
       "\n",
       "    function showError(err) {\n",
       "      outputDiv.innerHTML = `<div class=\"error\" style=\"color:red;\">${err}</div>`;\n",
       "      throw err;\n",
       "    }\n",
       "\n",
       "    function displayChart(vegaEmbed) {\n",
       "      vegaEmbed(outputDiv, spec, embedOpt)\n",
       "        .catch(err => showError(`Javascript Error: ${err.message}<br>This usually means there's a typo in your chart specification. See the javascript console for the full traceback.`));\n",
       "    }\n",
       "\n",
       "    if(typeof define === \"function\" && define.amd) {\n",
       "      requirejs.config({paths});\n",
       "      require([\"vega-embed\"], displayChart, err => showError(`Error loading script: ${err.message}`));\n",
       "    } else {\n",
       "      maybeLoadScript(\"vega\", \"5\")\n",
       "        .then(() => maybeLoadScript(\"vega-lite\", \"4.17.0\"))\n",
       "        .then(() => maybeLoadScript(\"vega-embed\", \"6\"))\n",
       "        .catch(showError)\n",
       "        .then(() => displayChart(vegaEmbed));\n",
       "    }\n",
       "  })({\"config\": {\"view\": {\"continuousWidth\": 400, \"continuousHeight\": 300}}, \"data\": {\"name\": \"data-8be8c0de91a83ad0fb11dbca8e3880df\"}, \"mark\": \"bar\", \"encoding\": {\"color\": {\"field\": \"county\", \"type\": \"nominal\"}, \"tooltip\": {\"field\": \"prop_drive\", \"type\": \"quantitative\"}, \"x\": {\"field\": \"prop_drive\", \"type\": \"quantitative\"}, \"y\": {\"field\": \"county\", \"sort\": \"-x\", \"type\": \"nominal\"}}, \"title\": \"Proportion of residents who drive to work\", \"$schema\": \"https://vega.github.io/schema/vega-lite/v4.17.0.json\", \"datasets\": {\"data-8be8c0de91a83ad0fb11dbca8e3880df\": [{\"name\": \"Albemarle County, Virginia\", \"B08006_001E\": 52397.0, \"B08006_002E\": 44302.0, \"B08006_017E\": 4435.0, \"county\": \"Albemarle County\", \"prop_drive\": 0.9236895875901756}, {\"name\": \"Charlottesville city, Virginia\", \"B08006_001E\": 24745.0, \"B08006_002E\": 16795.0, \"B08006_017E\": 1737.0, \"county\": \"Charlottesville City\", \"prop_drive\": 0.7299634909596662}, {\"name\": \"Fluvanna County, Virginia\", \"B08006_001E\": 12476.0, \"B08006_002E\": 11159.0, \"B08006_017E\": 1041.0, \"county\": \"Fluvanna County\", \"prop_drive\": 0.9758635767380849}, {\"name\": \"Greene County, Virginia\", \"B08006_001E\": 9853.0, \"B08006_002E\": 8863.0, \"B08006_017E\": 685.0, \"county\": \"Greene County\", \"prop_drive\": 0.9667321116928447}, {\"name\": \"Nelson County, Virginia\", \"B08006_001E\": 6769.0, \"B08006_002E\": 5797.0, \"B08006_017E\": 795.0, \"county\": \"Nelson County\", \"prop_drive\": 0.9703716103113492}]}}, {\"mode\": \"vega-lite\"});\n",
       "</script>"
      ],
      "text/plain": [
       "alt.Chart(...)"
      ]
     },
     "execution_count": 10,
     "metadata": {},
     "output_type": "execute_result"
    }
   ],
   "source": [
    "commute_mode_county_bar = commute_mode_county_wide.drop(labels=\"geometry\", axis=1)\n",
    "alt.Chart(commute_mode_county_bar[commute_mode_county_bar[\"county\"].isin(CVILLE_MSA_COUNTIES.values())]).mark_bar().encode(\n",
    "    y=alt.X(\"county:N\", sort=\"-x\"),\n",
    "    x=alt.Y(\"prop_drive:Q\"),\n",
    "    color=\"county:N\",\n",
    "    tooltip=\"prop_drive:Q\",\n",
    ").properties(\n",
    "    title=\"Proportion of residents who drive to work\",\n",
    ")"
   ]
  },
  {
   "cell_type": "code",
   "execution_count": 11,
   "id": "8753578d",
   "metadata": {},
   "outputs": [
    {
     "name": "stderr",
     "output_type": "stream",
     "text": [
      "Retrieving variables...\n",
      "Retrieving ACS tables...\n",
      "Retrieving shapefiles...\n",
      "Merging ACS tables and variables...\n",
      "Merging annotations...\n",
      "Merging shapefiles...\n",
      "Finalizing data...\n"
     ]
    }
   ],
   "source": [
    "commute_mode_tract = autocensus.Query(\n",
    "    estimate=5,\n",
    "    years=[2019],\n",
    "    variables=MODE_SHARE_VARIABLES,\n",
    "    for_geo=[\"tract:*\"],\n",
    "    in_geo=[\"state:51\", \"county:540\"],  # Virginia | Charlottesville City\n",
    "    geometry=\"polygons\",\n",
    ").run()\n",
    "commute_mode_tract_wide = calculate_mode_share(normalize_county(reshape_census(commute_mode_tract)))"
   ]
  },
  {
   "cell_type": "code",
   "execution_count": 12,
   "id": "1a2828bc",
   "metadata": {},
   "outputs": [
    {
     "data": {
      "text/html": [
       "<div style=\"width:100%;\"><div style=\"position:relative;width:100%;height:0;padding-bottom:60%;\"><span style=\"color:#565656\">Make this Notebook Trusted to load map: File -> Trust Notebook</span><iframe src=\"about:blank\" style=\"position:absolute;width:100%;height:100%;left:0;top:0;border:none !important;\" data-html=%3C%21DOCTYPE%20html%3E%0A%3Chead%3E%20%20%20%20%0A%20%20%20%20%3Cmeta%20http-equiv%3D%22content-type%22%20content%3D%22text/html%3B%20charset%3DUTF-8%22%20/%3E%0A%20%20%20%20%0A%20%20%20%20%20%20%20%20%3Cscript%3E%0A%20%20%20%20%20%20%20%20%20%20%20%20L_NO_TOUCH%20%3D%20false%3B%0A%20%20%20%20%20%20%20%20%20%20%20%20L_DISABLE_3D%20%3D%20false%3B%0A%20%20%20%20%20%20%20%20%3C/script%3E%0A%20%20%20%20%0A%20%20%20%20%3Cstyle%3Ehtml%2C%20body%20%7Bwidth%3A%20100%25%3Bheight%3A%20100%25%3Bmargin%3A%200%3Bpadding%3A%200%3B%7D%3C/style%3E%0A%20%20%20%20%3Cstyle%3E%23map%20%7Bposition%3Aabsolute%3Btop%3A0%3Bbottom%3A0%3Bright%3A0%3Bleft%3A0%3B%7D%3C/style%3E%0A%20%20%20%20%3Cscript%20src%3D%22https%3A//cdn.jsdelivr.net/npm/leaflet%401.6.0/dist/leaflet.js%22%3E%3C/script%3E%0A%20%20%20%20%3Cscript%20src%3D%22https%3A//code.jquery.com/jquery-1.12.4.min.js%22%3E%3C/script%3E%0A%20%20%20%20%3Cscript%20src%3D%22https%3A//maxcdn.bootstrapcdn.com/bootstrap/3.2.0/js/bootstrap.min.js%22%3E%3C/script%3E%0A%20%20%20%20%3Cscript%20src%3D%22https%3A//cdnjs.cloudflare.com/ajax/libs/Leaflet.awesome-markers/2.0.2/leaflet.awesome-markers.js%22%3E%3C/script%3E%0A%20%20%20%20%3Clink%20rel%3D%22stylesheet%22%20href%3D%22https%3A//cdn.jsdelivr.net/npm/leaflet%401.6.0/dist/leaflet.css%22/%3E%0A%20%20%20%20%3Clink%20rel%3D%22stylesheet%22%20href%3D%22https%3A//maxcdn.bootstrapcdn.com/bootstrap/3.2.0/css/bootstrap.min.css%22/%3E%0A%20%20%20%20%3Clink%20rel%3D%22stylesheet%22%20href%3D%22https%3A//maxcdn.bootstrapcdn.com/bootstrap/3.2.0/css/bootstrap-theme.min.css%22/%3E%0A%20%20%20%20%3Clink%20rel%3D%22stylesheet%22%20href%3D%22https%3A//maxcdn.bootstrapcdn.com/font-awesome/4.6.3/css/font-awesome.min.css%22/%3E%0A%20%20%20%20%3Clink%20rel%3D%22stylesheet%22%20href%3D%22https%3A//cdnjs.cloudflare.com/ajax/libs/Leaflet.awesome-markers/2.0.2/leaflet.awesome-markers.css%22/%3E%0A%20%20%20%20%3Clink%20rel%3D%22stylesheet%22%20href%3D%22https%3A//cdn.jsdelivr.net/gh/python-visualization/folium/folium/templates/leaflet.awesome.rotate.min.css%22/%3E%0A%20%20%20%20%0A%20%20%20%20%20%20%20%20%20%20%20%20%3Cmeta%20name%3D%22viewport%22%20content%3D%22width%3Ddevice-width%2C%0A%20%20%20%20%20%20%20%20%20%20%20%20%20%20%20%20initial-scale%3D1.0%2C%20maximum-scale%3D1.0%2C%20user-scalable%3Dno%22%20/%3E%0A%20%20%20%20%20%20%20%20%20%20%20%20%3Cstyle%3E%0A%20%20%20%20%20%20%20%20%20%20%20%20%20%20%20%20%23map_aeff8748de804618b03c9165e85a765e%20%7B%0A%20%20%20%20%20%20%20%20%20%20%20%20%20%20%20%20%20%20%20%20position%3A%20relative%3B%0A%20%20%20%20%20%20%20%20%20%20%20%20%20%20%20%20%20%20%20%20width%3A%20100.0%25%3B%0A%20%20%20%20%20%20%20%20%20%20%20%20%20%20%20%20%20%20%20%20height%3A%20100.0%25%3B%0A%20%20%20%20%20%20%20%20%20%20%20%20%20%20%20%20%20%20%20%20left%3A%200.0%25%3B%0A%20%20%20%20%20%20%20%20%20%20%20%20%20%20%20%20%20%20%20%20top%3A%200.0%25%3B%0A%20%20%20%20%20%20%20%20%20%20%20%20%20%20%20%20%7D%0A%20%20%20%20%20%20%20%20%20%20%20%20%3C/style%3E%0A%20%20%20%20%20%20%20%20%0A%20%20%20%20%0A%20%20%20%20%20%20%20%20%20%20%20%20%20%20%20%20%20%20%20%20%3Cstyle%3E%0A%20%20%20%20%20%20%20%20%20%20%20%20%20%20%20%20%20%20%20%20%20%20%20%20.foliumtooltip%20%7B%0A%20%20%20%20%20%20%20%20%20%20%20%20%20%20%20%20%20%20%20%20%20%20%20%20%20%20%20%20%0A%20%20%20%20%20%20%20%20%20%20%20%20%20%20%20%20%20%20%20%20%20%20%20%20%7D%0A%20%20%20%20%20%20%20%20%20%20%20%20%20%20%20%20%20%20%20%20%20%20%20.foliumtooltip%20table%7B%0A%20%20%20%20%20%20%20%20%20%20%20%20%20%20%20%20%20%20%20%20%20%20%20%20%20%20%20%20margin%3A%20auto%3B%0A%20%20%20%20%20%20%20%20%20%20%20%20%20%20%20%20%20%20%20%20%20%20%20%20%7D%0A%20%20%20%20%20%20%20%20%20%20%20%20%20%20%20%20%20%20%20%20%20%20%20%20.foliumtooltip%20tr%7B%0A%20%20%20%20%20%20%20%20%20%20%20%20%20%20%20%20%20%20%20%20%20%20%20%20%20%20%20%20text-align%3A%20left%3B%0A%20%20%20%20%20%20%20%20%20%20%20%20%20%20%20%20%20%20%20%20%20%20%20%20%7D%0A%20%20%20%20%20%20%20%20%20%20%20%20%20%20%20%20%20%20%20%20%20%20%20%20.foliumtooltip%20th%7B%0A%20%20%20%20%20%20%20%20%20%20%20%20%20%20%20%20%20%20%20%20%20%20%20%20%20%20%20%20padding%3A%202px%3B%20padding-right%3A%208px%3B%0A%20%20%20%20%20%20%20%20%20%20%20%20%20%20%20%20%20%20%20%20%20%20%20%20%7D%0A%20%20%20%20%20%20%20%20%20%20%20%20%20%20%20%20%20%20%20%20%3C/style%3E%0A%20%20%20%20%20%20%20%20%20%20%20%20%0A%20%20%20%20%3Cscript%20src%3D%22https%3A//cdnjs.cloudflare.com/ajax/libs/d3/3.5.5/d3.min.js%22%3E%3C/script%3E%0A%3C/head%3E%0A%3Cbody%3E%20%20%20%20%0A%20%20%20%20%0A%20%20%20%20%20%20%20%20%20%20%20%20%3Cdiv%20class%3D%22folium-map%22%20id%3D%22map_aeff8748de804618b03c9165e85a765e%22%20%3E%3C/div%3E%0A%20%20%20%20%20%20%20%20%0A%3C/body%3E%0A%3Cscript%3E%20%20%20%20%0A%20%20%20%20%0A%20%20%20%20%20%20%20%20%20%20%20%20var%20map_aeff8748de804618b03c9165e85a765e%20%3D%20L.map%28%0A%20%20%20%20%20%20%20%20%20%20%20%20%20%20%20%20%22map_aeff8748de804618b03c9165e85a765e%22%2C%0A%20%20%20%20%20%20%20%20%20%20%20%20%20%20%20%20%7B%0A%20%20%20%20%20%20%20%20%20%20%20%20%20%20%20%20%20%20%20%20center%3A%20%5B38.04%2C%20-78.49%5D%2C%0A%20%20%20%20%20%20%20%20%20%20%20%20%20%20%20%20%20%20%20%20crs%3A%20L.CRS.EPSG3857%2C%0A%20%20%20%20%20%20%20%20%20%20%20%20%20%20%20%20%20%20%20%20zoom%3A%2013.75%2C%0A%20%20%20%20%20%20%20%20%20%20%20%20%20%20%20%20%20%20%20%20zoomControl%3A%20true%2C%0A%20%20%20%20%20%20%20%20%20%20%20%20%20%20%20%20%20%20%20%20preferCanvas%3A%20false%2C%0A%20%20%20%20%20%20%20%20%20%20%20%20%20%20%20%20%20%20%20%20zoomSnap%3A%200.25%2C%0A%20%20%20%20%20%20%20%20%20%20%20%20%20%20%20%20%20%20%20%20zoomDelta%3A%200.25%2C%0A%20%20%20%20%20%20%20%20%20%20%20%20%20%20%20%20%7D%0A%20%20%20%20%20%20%20%20%20%20%20%20%29%3B%0A%0A%20%20%20%20%20%20%20%20%20%20%20%20%0A%0A%20%20%20%20%20%20%20%20%0A%20%20%20%20%0A%20%20%20%20%20%20%20%20%20%20%20%20var%20tile_layer_24e9fdace69e4c459dd421090b28d9d4%20%3D%20L.tileLayer%28%0A%20%20%20%20%20%20%20%20%20%20%20%20%20%20%20%20%22https%3A//cartodb-basemaps-%7Bs%7D.global.ssl.fastly.net/light_all/%7Bz%7D/%7Bx%7D/%7By%7D.png%22%2C%0A%20%20%20%20%20%20%20%20%20%20%20%20%20%20%20%20%7B%22attribution%22%3A%20%22%5Cu0026copy%3B%20%5Cu003ca%20href%3D%5C%22http%3A//www.openstreetmap.org/copyright%5C%22%5Cu003eOpenStreetMap%5Cu003c/a%5Cu003e%20contributors%20%5Cu0026copy%3B%20%5Cu003ca%20href%3D%5C%22http%3A//cartodb.com/attributions%5C%22%5Cu003eCartoDB%5Cu003c/a%5Cu003e%2C%20CartoDB%20%5Cu003ca%20href%20%3D%5C%22http%3A//cartodb.com/attributions%5C%22%5Cu003eattributions%5Cu003c/a%5Cu003e%22%2C%20%22detectRetina%22%3A%20false%2C%20%22maxNativeZoom%22%3A%2018%2C%20%22maxZoom%22%3A%2018%2C%20%22minZoom%22%3A%200%2C%20%22noWrap%22%3A%20false%2C%20%22opacity%22%3A%201%2C%20%22subdomains%22%3A%20%22abc%22%2C%20%22tms%22%3A%20false%7D%0A%20%20%20%20%20%20%20%20%20%20%20%20%29.addTo%28map_aeff8748de804618b03c9165e85a765e%29%3B%0A%20%20%20%20%20%20%20%20%0A%20%20%20%20%0A%20%20%20%20%20%20%20%20function%20geo_json_abaa3dd02c9041a1aeadab87b55c1c99_styler%28feature%29%20%7B%0A%20%20%20%20%20%20%20%20%20%20%20%20switch%28feature.id%29%20%7B%0A%20%20%20%20%20%20%20%20%20%20%20%20%20%20%20%20case%20%220%22%3A%20%0A%20%20%20%20%20%20%20%20%20%20%20%20%20%20%20%20%20%20%20%20return%20%7B%22color%22%3A%20%22black%22%2C%20%22fillColor%22%3A%20%22%23fe9a41%22%2C%20%22fillOpacity%22%3A%200.75%7D%3B%0A%20%20%20%20%20%20%20%20%20%20%20%20%20%20%20%20case%20%221%22%3A%20%0A%20%20%20%20%20%20%20%20%20%20%20%20%20%20%20%20%20%20%20%20return%20%7B%22color%22%3A%20%22black%22%2C%20%22fillColor%22%3A%20%22%23fea647%22%2C%20%22fillOpacity%22%3A%200.75%7D%3B%0A%20%20%20%20%20%20%20%20%20%20%20%20%20%20%20%20case%20%222%22%3A%20%0A%20%20%20%20%20%20%20%20%20%20%20%20%20%20%20%20%20%20%20%20return%20%7B%22color%22%3A%20%22black%22%2C%20%22fillColor%22%3A%20%22%23ffdf81%22%2C%20%22fillOpacity%22%3A%200.75%7D%3B%0A%20%20%20%20%20%20%20%20%20%20%20%20%20%20%20%20case%20%223%22%3A%20%0A%20%20%20%20%20%20%20%20%20%20%20%20%20%20%20%20%20%20%20%20return%20%7B%22color%22%3A%20%22black%22%2C%20%22fillColor%22%3A%20%22%23e51d1d%22%2C%20%22fillOpacity%22%3A%200.75%7D%3B%0A%20%20%20%20%20%20%20%20%20%20%20%20%20%20%20%20case%20%224%22%3A%20%0A%20%20%20%20%20%20%20%20%20%20%20%20%20%20%20%20%20%20%20%20return%20%7B%22color%22%3A%20%22black%22%2C%20%22fillColor%22%3A%20%22%23e7221e%22%2C%20%22fillOpacity%22%3A%200.75%7D%3B%0A%20%20%20%20%20%20%20%20%20%20%20%20%20%20%20%20case%20%225%22%3A%20%0A%20%20%20%20%20%20%20%20%20%20%20%20%20%20%20%20%20%20%20%20return%20%7B%22color%22%3A%20%22black%22%2C%20%22fillColor%22%3A%20%22%23d40f20%22%2C%20%22fillOpacity%22%3A%200.75%7D%3B%0A%20%20%20%20%20%20%20%20%20%20%20%20%20%20%20%20case%20%226%22%3A%20%0A%20%20%20%20%20%20%20%20%20%20%20%20%20%20%20%20%20%20%20%20return%20%7B%22color%22%3A%20%22black%22%2C%20%22fillColor%22%3A%20%22%23fd8439%22%2C%20%22fillOpacity%22%3A%200.75%7D%3B%0A%20%20%20%20%20%20%20%20%20%20%20%20%20%20%20%20case%20%227%22%3A%20%0A%20%20%20%20%20%20%20%20%20%20%20%20%20%20%20%20%20%20%20%20return%20%7B%22color%22%3A%20%22black%22%2C%20%22fillColor%22%3A%20%22%23fb4b29%22%2C%20%22fillOpacity%22%3A%200.75%7D%3B%0A%20%20%20%20%20%20%20%20%20%20%20%20%20%20%20%20case%20%229%22%3A%20%0A%20%20%20%20%20%20%20%20%20%20%20%20%20%20%20%20%20%20%20%20return%20%7B%22color%22%3A%20%22black%22%2C%20%22fillColor%22%3A%20%22%23fb4a29%22%2C%20%22fillOpacity%22%3A%200.75%7D%3B%0A%20%20%20%20%20%20%20%20%20%20%20%20%20%20%20%20case%20%2210%22%3A%20%0A%20%20%20%20%20%20%20%20%20%20%20%20%20%20%20%20%20%20%20%20return%20%7B%22color%22%3A%20%22black%22%2C%20%22fillColor%22%3A%20%22%23800026%22%2C%20%22fillOpacity%22%3A%200.75%7D%3B%0A%20%20%20%20%20%20%20%20%20%20%20%20%20%20%20%20case%20%2211%22%3A%20%0A%20%20%20%20%20%20%20%20%20%20%20%20%20%20%20%20%20%20%20%20return%20%7B%22color%22%3A%20%22black%22%2C%20%22fillColor%22%3A%20%22%238e0026%22%2C%20%22fillOpacity%22%3A%200.75%7D%3B%0A%20%20%20%20%20%20%20%20%20%20%20%20%20%20%20%20default%3A%0A%20%20%20%20%20%20%20%20%20%20%20%20%20%20%20%20%20%20%20%20return%20%7B%22color%22%3A%20%22black%22%2C%20%22fillColor%22%3A%20%22%23ffffcc%22%2C%20%22fillOpacity%22%3A%200.75%7D%3B%0A%20%20%20%20%20%20%20%20%20%20%20%20%7D%0A%20%20%20%20%20%20%20%20%7D%0A%0A%20%20%20%20%20%20%20%20function%20geo_json_abaa3dd02c9041a1aeadab87b55c1c99_onEachFeature%28feature%2C%20layer%29%20%7B%0A%20%20%20%20%20%20%20%20%20%20%20%20layer.on%28%7B%0A%20%20%20%20%20%20%20%20%20%20%20%20%7D%29%3B%0A%20%20%20%20%20%20%20%20%7D%3B%0A%20%20%20%20%20%20%20%20var%20geo_json_abaa3dd02c9041a1aeadab87b55c1c99%20%3D%20L.geoJson%28null%2C%20%7B%0A%20%20%20%20%20%20%20%20%20%20%20%20%20%20%20%20onEachFeature%3A%20geo_json_abaa3dd02c9041a1aeadab87b55c1c99_onEachFeature%2C%0A%20%20%20%20%20%20%20%20%20%20%20%20%0A%20%20%20%20%20%20%20%20%20%20%20%20%20%20%20%20style%3A%20geo_json_abaa3dd02c9041a1aeadab87b55c1c99_styler%2C%0A%20%20%20%20%20%20%20%20%7D%29%3B%0A%0A%20%20%20%20%20%20%20%20function%20geo_json_abaa3dd02c9041a1aeadab87b55c1c99_add%20%28data%29%20%7B%0A%20%20%20%20%20%20%20%20%20%20%20%20geo_json_abaa3dd02c9041a1aeadab87b55c1c99%0A%20%20%20%20%20%20%20%20%20%20%20%20%20%20%20%20.addData%28data%29%0A%20%20%20%20%20%20%20%20%20%20%20%20%20%20%20%20.addTo%28map_aeff8748de804618b03c9165e85a765e%29%3B%0A%20%20%20%20%20%20%20%20%7D%0A%20%20%20%20%20%20%20%20%20%20%20%20geo_json_abaa3dd02c9041a1aeadab87b55c1c99_add%28%7B%22features%22%3A%20%5B%7B%22geometry%22%3A%20%7B%22coordinates%22%3A%20%5B%5B%5B%5B-78.491913%2C%2038.03196%5D%2C%20%5B-78.486294%2C%2038.035599%5D%2C%20%5B-78.485806%2C%2038.036166%5D%2C%20%5B-78.483626%2C%2038.038253%5D%2C%20%5B-78.478427%2C%2038.045266%5D%2C%20%5B-78.475105%2C%2038.043065%5D%2C%20%5B-78.471936%2C%2038.040493%5D%2C%20%5B-78.469315%2C%2038.03909%5D%2C%20%5B-78.46825299999999%2C%2038.038993999999995%5D%2C%20%5B-78.46749%2C%2038.038999%5D%2C%20%5B-78.465847%2C%2038.038348%5D%2C%20%5B-78.468204%2C%2038.036182%5D%2C%20%5B-78.47142699999999%2C%2038.031642%5D%2C%20%5B-78.474113%2C%2038.031085%5D%2C%20%5B-78.475233%2C%2038.029575%5D%2C%20%5B-78.476596%2C%2038.028484%5D%2C%20%5B-78.47734899999999%2C%2038.027211%5D%2C%20%5B-78.47762%2C%2038.026731999999996%5D%2C%20%5B-78.47746599999999%2C%2038.027676%5D%2C%20%5B-78.481736%2C%2038.028439999999996%5D%2C%20%5B-78.482378%2C%2038.027%5D%2C%20%5B-78.486049%2C%2038.02869%5D%2C%20%5B-78.485528%2C%2038.029616%5D%2C%20%5B-78.488002%2C%2038.030325%5D%2C%20%5B-78.489881%2C%2038.030977%5D%2C%20%5B-78.49333399999999%2C%2038.031439%5D%2C%20%5B-78.491913%2C%2038.03196%5D%5D%5D%5D%2C%20%22type%22%3A%20%22MultiPolygon%22%7D%2C%20%22id%22%3A%20%220%22%2C%20%22properties%22%3A%20%7B%22B08006_001E%22%3A%201778.0%2C%20%22B08006_002E%22%3A%201046.0%2C%20%22B08006_017E%22%3A%20181.0%2C%20%22county%22%3A%20%22Census%20Tract%2010%2C%20Charlottesville%20City%22%2C%20%22name%22%3A%20%22Census%20Tract%2010%2C%20Charlottesville%20city%2C%20Virginia%22%2C%20%22prop_drive%22%3A%200.6549780839073263%7D%2C%20%22type%22%3A%20%22Feature%22%7D%2C%20%7B%22geometry%22%3A%20%7B%22coordinates%22%3A%20%5B%5B%5B%5B-78.498994%2C%2038.043133%5D%2C%20%5B-78.49309699999999%2C%2038.045725%5D%2C%20%5B-78.49313599999999%2C%2038.046377%5D%2C%20%5B-78.47945299999999%2C%2038.044899%5D%2C%20%5B-78.47867699999999%2C%2038.045564%5D%2C%20%5B-78.478427%2C%2038.045266%5D%2C%20%5B-78.483626%2C%2038.038253%5D%2C%20%5B-78.485806%2C%2038.036166%5D%2C%20%5B-78.486294%2C%2038.035599%5D%2C%20%5B-78.490788%2C%2038.038824%5D%2C%20%5B-78.49342899999999%2C%2038.039100000000005%5D%2C%20%5B-78.49623299999999%2C%2038.040144%5D%2C%20%5B-78.50044299999999%2C%2038.041734999999996%5D%2C%20%5B-78.498994%2C%2038.043133%5D%5D%5D%5D%2C%20%22type%22%3A%20%22MultiPolygon%22%7D%2C%20%22id%22%3A%20%221%22%2C%20%22properties%22%3A%20%7B%22B08006_001E%22%3A%201443.0%2C%20%22B08006_002E%22%3A%20846.0%2C%20%22B08006_017E%22%3A%20109.0%2C%20%22county%22%3A%20%22Census%20Tract%202.01%2C%20Charlottesville%20City%22%2C%20%22name%22%3A%20%22Census%20Tract%202.01%2C%20Charlottesville%20city%2C%20Virginia%22%2C%20%22prop_drive%22%3A%200.6341829085457271%7D%2C%20%22type%22%3A%20%22Feature%22%7D%2C%20%7B%22geometry%22%3A%20%7B%22coordinates%22%3A%20%5B%5B%5B%5B-78.503456%2C%2038.036746%5D%2C%20%5B-78.50124799999999%2C%2038.040409%5D%2C%20%5B-78.50044299999999%2C%2038.041734999999996%5D%2C%20%5B-78.49623299999999%2C%2038.040144%5D%2C%20%5B-78.49342899999999%2C%2038.039100000000005%5D%2C%20%5B-78.490788%2C%2038.038824%5D%2C%20%5B-78.486294%2C%2038.035599%5D%2C%20%5B-78.491913%2C%2038.03196%5D%2C%20%5B-78.49333399999999%2C%2038.031439%5D%2C%20%5B-78.49655%2C%2038.031673%5D%2C%20%5B-78.498922%2C%2038.032907%5D%2C%20%5B-78.49779099999999%2C%2038.033255%5D%2C%20%5B-78.49962699999999%2C%2038.034037999999995%5D%2C%20%5B-78.50151699999999%2C%2038.036037%5D%2C%20%5B-78.503456%2C%2038.036746%5D%5D%5D%5D%2C%20%22type%22%3A%20%22MultiPolygon%22%7D%2C%20%22id%22%3A%20%222%22%2C%20%22properties%22%3A%20%7B%22B08006_001E%22%3A%202165.0%2C%20%22B08006_002E%22%3A%201124.0%2C%20%22B08006_017E%22%3A%2063.0%2C%20%22county%22%3A%20%22Census%20Tract%202.02%2C%20Charlottesville%20City%22%2C%20%22name%22%3A%20%22Census%20Tract%202.02%2C%20Charlottesville%20city%2C%20Virginia%22%2C%20%22prop_drive%22%3A%200.5347288296860133%7D%2C%20%22type%22%3A%20%22Feature%22%7D%2C%20%7B%22geometry%22%3A%20%7B%22coordinates%22%3A%20%5B%5B%5B%5B-78.475233%2C%2038.029575%5D%2C%20%5B-78.474113%2C%2038.031085%5D%2C%20%5B-78.47142699999999%2C%2038.031642%5D%2C%20%5B-78.468204%2C%2038.036182%5D%2C%20%5B-78.465847%2C%2038.038348%5D%2C%20%5B-78.463745%2C%2038.036877%5D%2C%20%5B-78.45943%2C%2038.035036%5D%2C%20%5B-78.458535%2C%2038.034559%5D%2C%20%5B-78.45867299999999%2C%2038.034442999999996%5D%2C%20%5B-78.45991%2C%2038.03318%5D%2C%20%5B-78.460959%2C%2038.028518999999996%5D%2C%20%5B-78.45868399999999%2C%2038.027561%5D%2C%20%5B-78.456268%2C%2038.029505%5D%2C%20%5B-78.454123%2C%2038.029576999999996%5D%2C%20%5B-78.452213%2C%2038.027733%5D%2C%20%5B-78.454668%2C%2038.021603999999996%5D%2C%20%5B-78.456868%2C%2038.021288%5D%2C%20%5B-78.45908%2C%2038.022352%5D%2C%20%5B-78.46208899999999%2C%2038.022528%5D%2C%20%5B-78.46573%2C%2038.022103%5D%2C%20%5B-78.46878099999999%2C%2038.023965%5D%2C%20%5B-78.47352%2C%2038.027729%5D%2C%20%5B-78.476596%2C%2038.028484%5D%2C%20%5B-78.475233%2C%2038.029575%5D%5D%5D%5D%2C%20%22type%22%3A%20%22MultiPolygon%22%7D%2C%20%22id%22%3A%20%223%22%2C%20%22properties%22%3A%20%7B%22B08006_001E%22%3A%201758.0%2C%20%22B08006_002E%22%3A%201283.0%2C%20%22B08006_017E%22%3A%20151.0%2C%20%22county%22%3A%20%22Census%20Tract%203.02%2C%20Charlottesville%20City%22%2C%20%22name%22%3A%20%22Census%20Tract%203.02%2C%20Charlottesville%20city%2C%20Virginia%22%2C%20%22prop_drive%22%3A%200.7983820784069695%7D%2C%20%22type%22%3A%20%22Feature%22%7D%2C%20%7B%22geometry%22%3A%20%7B%22coordinates%22%3A%20%5B%5B%5B%5B-78.503857%2C%2038.011123999999995%5D%2C%20%5B-78.50005%2C%2038.014345%5D%2C%20%5B-78.49873099999999%2C%2038.015509%5D%2C%20%5B-78.496802%2C%2038.017727%5D%2C%20%5B-78.494559%2C%2038.02054%5D%2C%20%5B-78.49183699999999%2C%2038.023925999999996%5D%2C%20%5B-78.48912299999999%2C%2038.026025%5D%2C%20%5B-78.490287%2C%2038.026812%5D%2C%20%5B-78.488002%2C%2038.030325%5D%2C%20%5B-78.485528%2C%2038.029616%5D%2C%20%5B-78.486049%2C%2038.02869%5D%2C%20%5B-78.482378%2C%2038.027%5D%2C%20%5B-78.481736%2C%2038.028439999999996%5D%2C%20%5B-78.47746599999999%2C%2038.027676%5D%2C%20%5B-78.47762%2C%2038.026731999999996%5D%2C%20%5B-78.47813099999999%2C%2038.025759%5D%2C%20%5B-78.481404%2C%2038.021255%5D%2C%20%5B-78.481962%2C%2038.020481%5D%2C%20%5B-78.485365%2C%2038.015923%5D%2C%20%5B-78.48912399999999%2C%2038.017542999999996%5D%2C%20%5B-78.491355%2C%2038.017503%5D%2C%20%5B-78.493665%2C%2038.015276%5D%2C%20%5B-78.50089899999999%2C%2038.012097%5D%2C%20%5B-78.50331299999999%2C%2038.010200000000005%5D%2C%20%5B-78.505442%2C%2038.010324%5D%2C%20%5B-78.503857%2C%2038.011123999999995%5D%5D%5D%5D%2C%20%22type%22%3A%20%22MultiPolygon%22%7D%2C%20%22id%22%3A%20%224%22%2C%20%22properties%22%3A%20%7B%22B08006_001E%22%3A%202290.0%2C%20%22B08006_002E%22%3A%201691.0%2C%20%22B08006_017E%22%3A%20157.0%2C%20%22county%22%3A%20%22Census%20Tract%204.01%2C%20Charlottesville%20City%22%2C%20%22name%22%3A%20%22Census%20Tract%204.01%2C%20Charlottesville%20city%2C%20Virginia%22%2C%20%22prop_drive%22%3A%200.7927801218940459%7D%2C%20%22type%22%3A%20%22Feature%22%7D%2C%20%7B%22geometry%22%3A%20%7B%22coordinates%22%3A%20%5B%5B%5B%5B-78.485365%2C%2038.015923%5D%2C%20%5B-78.481962%2C%2038.020481%5D%2C%20%5B-78.481404%2C%2038.021255%5D%2C%20%5B-78.47813099999999%2C%2038.025759%5D%2C%20%5B-78.47762%2C%2038.026731999999996%5D%2C%20%5B-78.47734899999999%2C%2038.027211%5D%2C%20%5B-78.476596%2C%2038.028484%5D%2C%20%5B-78.47352%2C%2038.027729%5D%2C%20%5B-78.46878099999999%2C%2038.023965%5D%2C%20%5B-78.46573%2C%2038.022103%5D%2C%20%5B-78.46208899999999%2C%2038.022528%5D%2C%20%5B-78.463562%2C%2038.020533%5D%2C%20%5B-78.467685%2C%2038.017891999999996%5D%2C%20%5B-78.469202%2C%2038.014555%5D%2C%20%5B-78.469504%2C%2038.011745%5D%2C%20%5B-78.474959%2C%2038.013757999999996%5D%2C%20%5B-78.475109%2C%2038.013917%5D%2C%20%5B-78.475661%2C%2038.014511%5D%2C%20%5B-78.480221%2C%2038.013369999999995%5D%2C%20%5B-78.481235%2C%2038.012024%5D%2C%20%5B-78.483023%2C%2038.012057999999996%5D%2C%20%5B-78.483357%2C%2038.014950999999996%5D%2C%20%5B-78.485365%2C%2038.015923%5D%5D%5D%5D%2C%20%22type%22%3A%20%22MultiPolygon%22%7D%2C%20%22id%22%3A%20%225%22%2C%20%22properties%22%3A%20%7B%22B08006_001E%22%3A%203032.0%2C%20%22B08006_002E%22%3A%202351.0%2C%20%22B08006_017E%22%3A%20192.0%2C%20%22county%22%3A%20%22Census%20Tract%204.02%2C%20Charlottesville%20City%22%2C%20%22name%22%3A%20%22Census%20Tract%204.02%2C%20Charlottesville%20city%2C%20Virginia%22%2C%20%22prop_drive%22%3A%200.8278169014084507%7D%2C%20%22type%22%3A%20%22Feature%22%7D%2C%20%7B%22geometry%22%3A%20%7B%22coordinates%22%3A%20%5B%5B%5B%5B-78.505517%2C%2038.028309%5D%2C%20%5B-78.49565%2C%2038.030842%5D%2C%20%5B-78.49333399999999%2C%2038.031439%5D%2C%20%5B-78.489881%2C%2038.030977%5D%2C%20%5B-78.488002%2C%2038.030325%5D%2C%20%5B-78.490287%2C%2038.026812%5D%2C%20%5B-78.48912299999999%2C%2038.026025%5D%2C%20%5B-78.49183699999999%2C%2038.023925999999996%5D%2C%20%5B-78.494559%2C%2038.02054%5D%2C%20%5B-78.496802%2C%2038.017727%5D%2C%20%5B-78.500439%2C%2038.022427%5D%2C%20%5B-78.503031%2C%2038.024298%5D%2C%20%5B-78.503214%2C%2038.024251%5D%2C%20%5B-78.503744%2C%2038.025908%5D%2C%20%5B-78.505517%2C%2038.028309%5D%5D%5D%5D%2C%20%22type%22%3A%20%22MultiPolygon%22%7D%2C%20%22id%22%3A%20%226%22%2C%20%22properties%22%3A%20%7B%22B08006_001E%22%3A%201894.0%2C%20%22B08006_002E%22%3A%201211.0%2C%20%22B08006_017E%22%3A%20129.0%2C%20%22county%22%3A%20%22Census%20Tract%205.01%2C%20Charlottesville%20City%22%2C%20%22name%22%3A%20%22Census%20Tract%205.01%2C%20Charlottesville%20city%2C%20Virginia%22%2C%20%22prop_drive%22%3A%200.6861189801699716%7D%2C%20%22type%22%3A%20%22Feature%22%7D%2C%20%7B%22geometry%22%3A%20%7B%22coordinates%22%3A%20%5B%5B%5B%5B-78.52368%2C%2038.022327%5D%2C%20%5B-78.514983%2C%2038.025162%5D%2C%20%5B-78.511507%2C%2038.026357999999995%5D%2C%20%5B-78.510448%2C%2038.026633%5D%2C%20%5B-78.509734%2C%2038.026939%5D%2C%20%5B-78.505517%2C%2038.028309%5D%2C%20%5B-78.503744%2C%2038.025908%5D%2C%20%5B-78.503214%2C%2038.024251%5D%2C%20%5B-78.503031%2C%2038.024298%5D%2C%20%5B-78.500439%2C%2038.022427%5D%2C%20%5B-78.496802%2C%2038.017727%5D%2C%20%5B-78.49873099999999%2C%2038.015509%5D%2C%20%5B-78.50005%2C%2038.014345%5D%2C%20%5B-78.503857%2C%2038.011123999999995%5D%2C%20%5B-78.505442%2C%2038.010324%5D%2C%20%5B-78.508473%2C%2038.011378%5D%2C%20%5B-78.51016%2C%2038.009774%5D%2C%20%5B-78.513396%2C%2038.009737%5D%2C%20%5B-78.51747399999999%2C%2038.010357%5D%2C%20%5B-78.51861%2C%2038.010678%5D%2C%20%5B-78.51915699999999%2C%2038.010655%5D%2C%20%5B-78.518745%2C%2038.013629%5D%2C%20%5B-78.519386%2C%2038.017213%5D%2C%20%5B-78.520375%2C%2038.018355%5D%2C%20%5B-78.520725%2C%2038.018749%5D%2C%20%5B-78.521351%2C%2038.018868%5D%2C%20%5B-78.522566%2C%2038.018128999999995%5D%2C%20%5B-78.52368%2C%2038.022327%5D%5D%5D%5D%2C%20%22type%22%3A%20%22MultiPolygon%22%7D%2C%20%22id%22%3A%20%227%22%2C%20%22properties%22%3A%20%7B%22B08006_001E%22%3A%203162.0%2C%20%22B08006_002E%22%3A%202240.0%2C%20%22B08006_017E%22%3A%20147.0%2C%20%22county%22%3A%20%22Census%20Tract%205.02%2C%20Charlottesville%20City%22%2C%20%22name%22%3A%20%22Census%20Tract%205.02%2C%20Charlottesville%20city%2C%20Virginia%22%2C%20%22prop_drive%22%3A%200.7429519071310116%7D%2C%20%22type%22%3A%20%22Feature%22%7D%2C%20%7B%22geometry%22%3A%20%7B%22coordinates%22%3A%20%5B%5B%5B%5B-78.523377%2C%2038.023382%5D%2C%20%5B-78.523035%2C%2038.026329%5D%2C%20%5B-78.520048%2C%2038.026044999999996%5D%2C%20%5B-78.519955%2C%2038.028459%5D%2C%20%5B-78.51977699999999%2C%2038.028453999999996%5D%2C%20%5B-78.519832%2C%2038.028644%5D%2C%20%5B-78.520179%2C%2038.029781%5D%2C%20%5B-78.51650099999999%2C%2038.028634%5D%2C%20%5B-78.51446299999999%2C%2038.028701%5D%2C%20%5B-78.513109%2C%2038.029506%5D%2C%20%5B-78.51101%2C%2038.030834999999996%5D%2C%20%5B-78.509613%2C%2038.032160999999995%5D%2C%20%5B-78.501997%2C%2038.032115999999995%5D%2C%20%5B-78.498922%2C%2038.032907%5D%2C%20%5B-78.49655%2C%2038.031673%5D%2C%20%5B-78.49333399999999%2C%2038.031439%5D%2C%20%5B-78.49565%2C%2038.030842%5D%2C%20%5B-78.505517%2C%2038.028309%5D%2C%20%5B-78.509734%2C%2038.026939%5D%2C%20%5B-78.510448%2C%2038.026633%5D%2C%20%5B-78.511507%2C%2038.026357999999995%5D%2C%20%5B-78.514983%2C%2038.025162%5D%2C%20%5B-78.52368%2C%2038.022327%5D%2C%20%5B-78.523377%2C%2038.023382%5D%5D%5D%5D%2C%20%22type%22%3A%20%22MultiPolygon%22%7D%2C%20%22id%22%3A%20%228%22%2C%20%22properties%22%3A%20%7B%22B08006_001E%22%3A%201641.0%2C%20%22B08006_002E%22%3A%20664.0%2C%20%22B08006_017E%22%3A%2081.0%2C%20%22county%22%3A%20%22Census%20Tract%206%2C%20Charlottesville%20City%22%2C%20%22name%22%3A%20%22Census%20Tract%206%2C%20Charlottesville%20city%2C%20Virginia%22%2C%20%22prop_drive%22%3A%200.4256410256410256%7D%2C%20%22type%22%3A%20%22Feature%22%7D%2C%20%7B%22geometry%22%3A%20%7B%22coordinates%22%3A%20%5B%5B%5B%5B-78.517369%2C%2038.041185999999996%5D%2C%20%5B-78.516072%2C%2038.043486%5D%2C%20%5B-78.513997%2C%2038.044160999999995%5D%2C%20%5B-78.514634%2C%2038.044838%5D%2C%20%5B-78.511909%2C%2038.044049%5D%2C%20%5B-78.511389%2C%2038.043794999999996%5D%2C%20%5B-78.506783%2C%2038.044961%5D%2C%20%5B-78.50483899999999%2C%2038.047275%5D%2C%20%5B-78.50997%2C%2038.051941%5D%2C%20%5B-78.507616%2C%2038.056269%5D%2C%20%5B-78.503748%2C%2038.057069%5D%2C%20%5B-78.50088199999999%2C%2038.054818999999995%5D%2C%20%5B-78.49897299999999%2C%2038.052775%5D%2C%20%5B-78.495134%2C%2038.057414%5D%2C%20%5B-78.48906%2C%2038.056767%5D%2C%20%5B-78.485197%2C%2038.056163999999995%5D%2C%20%5B-78.483513%2C%2038.055268999999996%5D%2C%20%5B-78.482112%2C%2038.053788999999995%5D%2C%20%5B-78.47867699999999%2C%2038.045564%5D%2C%20%5B-78.47945299999999%2C%2038.044899%5D%2C%20%5B-78.49313599999999%2C%2038.046377%5D%2C%20%5B-78.49309699999999%2C%2038.045725%5D%2C%20%5B-78.498994%2C%2038.043133%5D%2C%20%5B-78.50044299999999%2C%2038.041734999999996%5D%2C%20%5B-78.50124799999999%2C%2038.040409%5D%2C%20%5B-78.504258%2C%2038.042865%5D%2C%20%5B-78.505383%2C%2038.041104%5D%2C%20%5B-78.506256%2C%2038.039625%5D%2C%20%5B-78.508096%2C%2038.035831%5D%2C%20%5B-78.51378%2C%2038.037062999999996%5D%2C%20%5B-78.514545%2C%2038.036764999999995%5D%2C%20%5B-78.51552699999999%2C%2038.036643999999995%5D%2C%20%5B-78.516892%2C%2038.039879%5D%2C%20%5B-78.517369%2C%2038.041185999999996%5D%5D%5D%5D%2C%20%22type%22%3A%20%22MultiPolygon%22%7D%2C%20%22id%22%3A%20%229%22%2C%20%22properties%22%3A%20%7B%22B08006_001E%22%3A%202070.0%2C%20%22B08006_002E%22%3A%201355.0%2C%20%22B08006_017E%22%3A%20250.0%2C%20%22county%22%3A%20%22Census%20Tract%207%2C%20Charlottesville%20City%22%2C%20%22name%22%3A%20%22Census%20Tract%207%2C%20Charlottesville%20city%2C%20Virginia%22%2C%20%22prop_drive%22%3A%200.7445054945054945%7D%2C%20%22type%22%3A%20%22Feature%22%7D%2C%20%7B%22geometry%22%3A%20%7B%22coordinates%22%3A%20%5B%5B%5B%5B-78.503748%2C%2038.057069%5D%2C%20%5B-78.500569%2C%2038.05804%5D%2C%20%5B-78.50240199999999%2C%2038.060463%5D%2C%20%5B-78.49503399999999%2C%2038.065337%5D%2C%20%5B-78.49263599999999%2C%2038.063635%5D%2C%20%5B-78.491579%2C%2038.061895%5D%2C%20%5B-78.485202%2C%2038.068974%5D%2C%20%5B-78.482462%2C%2038.067578%5D%2C%20%5B-78.48033199999999%2C%2038.065819%5D%2C%20%5B-78.479154%2C%2038.06568%5D%2C%20%5B-78.477378%2C%2038.06493%5D%2C%20%5B-78.474522%2C%2038.067588%5D%2C%20%5B-78.474871%2C%2038.068728%5D%2C%20%5B-78.47175399999999%2C%2038.070509%5D%2C%20%5B-78.472602%2C%2038.067476%5D%2C%20%5B-78.466889%2C%2038.06783%5D%2C%20%5B-78.46503299999999%2C%2038.065236999999996%5D%2C%20%5B-78.464405%2C%2038.064699%5D%2C%20%5B-78.467479%2C%2038.059070999999996%5D%2C%20%5B-78.468975%2C%2038.056432%5D%2C%20%5B-78.472213%2C%2038.052543%5D%2C%20%5B-78.478427%2C%2038.045266%5D%2C%20%5B-78.47867699999999%2C%2038.045564%5D%2C%20%5B-78.482112%2C%2038.053788999999995%5D%2C%20%5B-78.483513%2C%2038.055268999999996%5D%2C%20%5B-78.485197%2C%2038.056163999999995%5D%2C%20%5B-78.48906%2C%2038.056767%5D%2C%20%5B-78.495134%2C%2038.057414%5D%2C%20%5B-78.49897299999999%2C%2038.052775%5D%2C%20%5B-78.50088199999999%2C%2038.054818999999995%5D%2C%20%5B-78.503748%2C%2038.057069%5D%5D%5D%5D%2C%20%22type%22%3A%20%22MultiPolygon%22%7D%2C%20%22id%22%3A%20%2210%22%2C%20%22properties%22%3A%20%7B%22B08006_001E%22%3A%202101.0%2C%20%22B08006_002E%22%3A%201794.0%2C%20%22B08006_017E%22%3A%20168.0%2C%20%22county%22%3A%20%22Census%20Tract%208%2C%20Charlottesville%20City%22%2C%20%22name%22%3A%20%22Census%20Tract%208%2C%20Charlottesville%20city%2C%20Virginia%22%2C%20%22prop_drive%22%3A%200.9280910501810657%7D%2C%20%22type%22%3A%20%22Feature%22%7D%2C%20%7B%22geometry%22%3A%20%7B%22coordinates%22%3A%20%5B%5B%5B%5B-78.478427%2C%2038.045266%5D%2C%20%5B-78.472213%2C%2038.052543%5D%2C%20%5B-78.471408%2C%2038.050990999999996%5D%2C%20%5B-78.472258%2C%2038.04878%5D%2C%20%5B-78.47072%2C%2038.04873%5D%2C%20%5B-78.470018%2C%2038.046759%5D%2C%20%5B-78.46612999999999%2C%2038.045700000000004%5D%2C%20%5B-78.46403%2C%2038.049554%5D%2C%20%5B-78.462943%2C%2038.049521%5D%2C%20%5B-78.457281%2C%2038.049445%5D%2C%20%5B-78.458939%2C%2038.051004999999996%5D%2C%20%5B-78.45688%2C%2038.055613%5D%2C%20%5B-78.454807%2C%2038.055108%5D%2C%20%5B-78.449214%2C%2038.058929%5D%2C%20%5B-78.44765199999999%2C%2038.056588999999995%5D%2C%20%5B-78.447563%2C%2038.053525%5D%2C%20%5B-78.44630000000001%2C%2038.049420999999995%5D%2C%20%5B-78.446686%2C%2038.047903999999996%5D%2C%20%5B-78.447718%2C%2038.045713%5D%2C%20%5B-78.452096%2C%2038.04579%5D%2C%20%5B-78.45473199999999%2C%2038.045277999999996%5D%2C%20%5B-78.45414099999999%2C%2038.041787%5D%2C%20%5B-78.45440099999999%2C%2038.038356%5D%2C%20%5B-78.457239%2C%2038.035205999999995%5D%2C%20%5B-78.458535%2C%2038.034559%5D%2C%20%5B-78.45943%2C%2038.035036%5D%2C%20%5B-78.463745%2C%2038.036877%5D%2C%20%5B-78.465847%2C%2038.038348%5D%2C%20%5B-78.46749%2C%2038.038999%5D%2C%20%5B-78.46825299999999%2C%2038.038993999999995%5D%2C%20%5B-78.469315%2C%2038.03909%5D%2C%20%5B-78.471936%2C%2038.040493%5D%2C%20%5B-78.475105%2C%2038.043065%5D%2C%20%5B-78.478427%2C%2038.045266%5D%5D%5D%5D%2C%20%22type%22%3A%20%22MultiPolygon%22%7D%2C%20%22id%22%3A%20%2211%22%2C%20%22properties%22%3A%20%7B%22B08006_001E%22%3A%201411.0%2C%20%22B08006_002E%22%3A%201190.0%2C%20%22B08006_017E%22%3A%20109.0%2C%20%22county%22%3A%20%22Census%20Tract%209%2C%20Charlottesville%20City%22%2C%20%22name%22%3A%20%22Census%20Tract%209%2C%20Charlottesville%20city%2C%20Virginia%22%2C%20%22prop_drive%22%3A%200.9139784946236559%7D%2C%20%22type%22%3A%20%22Feature%22%7D%5D%2C%20%22type%22%3A%20%22FeatureCollection%22%7D%29%3B%0A%0A%20%20%20%20%20%20%20%20%0A%20%20%20%20%0A%20%20%20%20geo_json_abaa3dd02c9041a1aeadab87b55c1c99.bindTooltip%28%0A%20%20%20%20function%28layer%29%7B%0A%20%20%20%20let%20div%20%3D%20L.DomUtil.create%28%27div%27%29%3B%0A%20%20%20%20%0A%20%20%20%20let%20handleObject%20%3D%20feature%3D%3Etypeof%28feature%29%3D%3D%27object%27%20%3F%20JSON.stringify%28feature%29%20%3A%20feature%3B%0A%20%20%20%20let%20fields%20%3D%20%5B%22prop_drive%22%5D%3B%0A%20%20%20%20let%20aliases%20%3D%20%5B%22prop_drive%22%5D%3B%0A%20%20%20%20let%20table%20%3D%20%27%3Ctable%3E%27%20%2B%0A%20%20%20%20%20%20%20%20String%28%0A%20%20%20%20%20%20%20%20fields.map%28%0A%20%20%20%20%20%20%20%20%28v%2Ci%29%3D%3E%0A%20%20%20%20%20%20%20%20%60%3Ctr%3E%0A%20%20%20%20%20%20%20%20%20%20%20%20%3Cth%3E%24%7Baliases%5Bi%5D%7D%3C/th%3E%0A%20%20%20%20%20%20%20%20%20%20%20%20%0A%20%20%20%20%20%20%20%20%20%20%20%20%3Ctd%3E%24%7BhandleObject%28layer.feature.properties%5Bv%5D%29%7D%3C/td%3E%0A%20%20%20%20%20%20%20%20%3C/tr%3E%60%29.join%28%27%27%29%29%0A%20%20%20%20%2B%27%3C/table%3E%27%3B%0A%20%20%20%20div.innerHTML%3Dtable%3B%0A%20%20%20%20%0A%20%20%20%20return%20div%0A%20%20%20%20%7D%0A%20%20%20%20%2C%7B%22className%22%3A%20%22foliumtooltip%22%2C%20%22sticky%22%3A%20true%7D%29%3B%0A%20%20%20%20%20%20%20%20%20%20%20%20%20%20%20%20%20%20%20%20%20%0A%20%20%20%20%0A%20%20%20%20var%20color_map_ca2ab997479e484eb87cb0786b20e513%20%3D%20%7B%7D%3B%0A%0A%20%20%20%20%0A%20%20%20%20color_map_ca2ab997479e484eb87cb0786b20e513.color%20%3D%20d3.scale.threshold%28%29%0A%20%20%20%20%20%20%20%20%20%20%20%20%20%20.domain%28%5B0.4256410256410256%2C%200.4266479395178594%2C%200.4276548533946931%2C%200.4286617672715269%2C%200.4296686811483606%2C%200.43067559502519437%2C%200.43168250890202814%2C%200.43268942277886185%2C%200.4336963366556956%2C%200.43470325053252934%2C%200.4357101644093631%2C%200.4367170782861969%2C%200.4377239921630306%2C%200.43873090603986437%2C%200.4397378199166981%2C%200.44074473379353185%2C%200.44175164767036557%2C%200.44275856154719934%2C%200.4437654754240331%2C%200.4447723893008668%2C%200.4457793031777006%2C%200.4467862170545343%2C%200.4477931309313681%2C%200.4488000448082018%2C%200.44980695868503556%2C%200.45081387256186933%2C%200.45182078643870305%2C%200.4528277003155368%2C%200.4538346141923706%2C%200.4548415280692043%2C%200.4558484419460381%2C%200.4568553558228718%2C%200.45786226969970556%2C%200.4588691835765393%2C%200.45987609745337305%2C%200.4608830113302068%2C%200.46188992520704053%2C%200.4628968390838743%2C%200.463903752960708%2C%200.4649106668375418%2C%200.4659175807143755%2C%200.46692449459120927%2C%200.46793140846804304%2C%200.46893832234487676%2C%200.4699452362217105%2C%200.4709521500985443%2C%200.471959063975378%2C%200.4729659778522118%2C%200.4739728917290455%2C%200.47497980560587927%2C%200.475986719482713%2C%200.47699363335954675%2C%200.4780005472363805%2C%200.47900746111321424%2C%200.480014374990048%2C%200.4810212888668817%2C%200.4820282027437155%2C%200.48303511662054927%2C%200.484042030497383%2C%200.48504894437421675%2C%200.48605585825105047%2C%200.48706277212788424%2C%200.488069686004718%2C%200.4890765998815517%2C%200.4900835137583855%2C%200.4910904276352192%2C%200.492097341512053%2C%200.4931042553888867%2C%200.49411116926572046%2C%200.49511808314255423%2C%200.49612499701938795%2C%200.4971319108962217%2C%200.49813882477305543%2C%200.4991457386498892%2C%200.5001526525267229%2C%200.5011595664035567%2C%200.5021664802803905%2C%200.5031733941572242%2C%200.5041803080340579%2C%200.5051872219108917%2C%200.5061941357877254%2C%200.5072010496645591%2C%200.508207963541393%2C%200.5092148774182267%2C%200.5102217912950604%2C%200.5112287051718942%2C%200.5122356190487279%2C%200.5132425329255617%2C%200.5142494468023955%2C%200.5152563606792292%2C%200.5162632745560629%2C%200.5172701884328966%2C%200.5182771023097303%2C%200.5192840161865642%2C%200.5202909300633979%2C%200.5212978439402316%2C%200.5223047578170654%2C%200.5233116716938991%2C%200.5243185855707329%2C%200.5253254994475667%2C%200.5263324133244004%2C%200.5273393272012341%2C%200.5283462410780679%2C%200.5293531549549017%2C%200.5303600688317354%2C%200.5313669827085691%2C%200.5323738965854029%2C%200.5333808104622366%2C%200.5343877243390703%2C%200.5353946382159042%2C%200.5364015520927379%2C%200.5374084659695716%2C%200.5384153798464053%2C%200.5394222937232391%2C%200.5404292076000728%2C%200.5414361214769066%2C%200.5424430353537404%2C%200.5434499492305741%2C%200.5444568631074078%2C%200.5454637769842416%2C%200.5464706908610754%2C%200.5474776047379091%2C%200.5484845186147428%2C%200.5494914324915766%2C%200.5504983463684103%2C%200.5515052602452442%2C%200.5525121741220779%2C%200.5535190879989116%2C%200.5545260018757453%2C%200.555532915752579%2C%200.5565398296294128%2C%200.5575467435062466%2C%200.5585536573830803%2C%200.5595605712599141%2C%200.5605674851367478%2C%200.5615743990135815%2C%200.5625813128904154%2C%200.5635882267672491%2C%200.5645951406440828%2C%200.5656020545209166%2C%200.5666089683977503%2C%200.567615882274584%2C%200.5686227961514178%2C%200.5696297100282515%2C%200.5706366239050853%2C%200.571643537781919%2C%200.5726504516587527%2C%200.5736573655355865%2C%200.5746642794124203%2C%200.575671193289254%2C%200.5766781071660878%2C%200.5776850210429215%2C%200.5786919349197552%2C%200.5796988487965891%2C%200.5807057626734228%2C%200.5817126765502565%2C%200.5827195904270903%2C%200.583726504303924%2C%200.5847334181807577%2C%200.5857403320575915%2C%200.5867472459344252%2C%200.587754159811259%2C%200.5887610736880927%2C%200.5897679875649264%2C%200.5907749014417603%2C%200.591781815318594%2C%200.5927887291954277%2C%200.5937956430722615%2C%200.5948025569490952%2C%200.5958094708259289%2C%200.5968163847027628%2C%200.5978232985795965%2C%200.5988302124564302%2C%200.599837126333264%2C%200.6008440402100977%2C%200.6018509540869315%2C%200.6028578679637653%2C%200.603864781840599%2C%200.6048716957174327%2C%200.6058786095942664%2C%200.6068855234711001%2C%200.607892437347934%2C%200.6088993512247677%2C%200.6099062651016014%2C%200.6109131789784352%2C%200.6119200928552689%2C%200.6129270067321027%2C%200.6139339206089365%2C%200.6149408344857702%2C%200.6159477483626039%2C%200.6169546622394377%2C%200.6179615761162714%2C%200.6189684899931052%2C%200.6199754038699389%2C%200.6209823177467726%2C%200.6219892316236064%2C%200.6229961455004401%2C%200.6240030593772738%2C%200.6250099732541077%2C%200.6260168871309414%2C%200.6270238010077751%2C%200.6280307148846089%2C%200.6290376287614426%2C%200.6300445426382764%2C%200.6310514565151102%2C%200.6320583703919439%2C%200.6330652842687776%2C%200.6340721981456114%2C%200.6350791120224452%2C%200.6360860258992789%2C%200.6370929397761126%2C%200.6380998536529463%2C%200.6391067675297801%2C%200.6401136814066138%2C%200.6411205952834476%2C%200.6421275091602814%2C%200.6431344230371151%2C%200.6441413369139488%2C%200.6451482507907826%2C%200.6461551646676164%2C%200.6471620785444501%2C%200.6481689924212839%2C%200.6491759062981176%2C%200.6501828201749513%2C%200.6511897340517852%2C%200.6521966479286189%2C%200.6532035618054526%2C%200.6542104756822864%2C%200.6552173895591201%2C%200.6562243034359538%2C%200.6572312173127876%2C%200.6582381311896213%2C%200.6592450450664551%2C%200.6602519589432888%2C%200.6612588728201225%2C%200.6622657866969563%2C%200.6632727005737901%2C%200.6642796144506238%2C%200.6652865283274576%2C%200.6662934422042913%2C%200.667300356081125%2C%200.6683072699579589%2C%200.6693141838347926%2C%200.6703210977116263%2C%200.67132801158846%2C%200.6723349254652938%2C%200.6733418393421275%2C%200.6743487532189613%2C%200.675355667095795%2C%200.6763625809726288%2C%200.6773694948494626%2C%200.6783764087262962%2C%200.6793833226031301%2C%200.6803902364799638%2C%200.6813971503567975%2C%200.6824040642336313%2C%200.683410978110465%2C%200.6844178919872987%2C%200.6854248058641326%2C%200.6864317197409663%2C%200.6874386336178%2C%200.6884455474946338%2C%200.6894524613714674%2C%200.6904593752483013%2C%200.691466289125135%2C%200.6924732030019687%2C%200.6934801168788025%2C%200.6944870307556362%2C%200.6954939446324699%2C%200.6965008585093038%2C%200.6975077723861376%2C%200.6985146862629712%2C%200.699521600139805%2C%200.7005285140166387%2C%200.7015354278934725%2C%200.7025423417703063%2C%200.70354925564714%2C%200.7045561695239737%2C%200.7055630834008075%2C%200.7065699972776411%2C%200.707576911154475%2C%200.7085838250313087%2C%200.7095907389081424%2C%200.7105976527849762%2C%200.7116045666618099%2C%200.7126114805386436%2C%200.7136183944154775%2C%200.7146253082923112%2C%200.7156322221691449%2C%200.7166391360459787%2C%200.7176460499228124%2C%200.7186529637996462%2C%200.71965987767648%2C%200.7206667915533137%2C%200.7216737054301474%2C%200.7226806193069812%2C%200.723687533183815%2C%200.7246944470606487%2C%200.7257013609374825%2C%200.7267082748143161%2C%200.7277151886911499%2C%200.7287221025679836%2C%200.7297290164448174%2C%200.7307359303216512%2C%200.7317428441984849%2C%200.7327497580753186%2C%200.7337566719521524%2C%200.734763585828986%2C%200.7357704997058199%2C%200.7367774135826537%2C%200.7377843274594874%2C%200.7387912413363211%2C%200.739798155213155%2C%200.7408050690899887%2C%200.7418119829668224%2C%200.7428188968436562%2C%200.7438258107204898%2C%200.7448327245973236%2C%200.7458396384741574%2C%200.7468465523509911%2C%200.7478534662278249%2C%200.7488603801046586%2C%200.7498672939814923%2C%200.7508742078583261%2C%200.7518811217351599%2C%200.7528880356119936%2C%200.7538949494888274%2C%200.754901863365661%2C%200.7559087772424948%2C%200.7569156911193285%2C%200.7579226049961624%2C%200.7589295188729961%2C%200.7599364327498299%2C%200.7609433466266636%2C%200.7619502605034973%2C%200.7629571743803312%2C%200.7639640882571648%2C%200.7649710021339986%2C%200.7659779160108323%2C%200.766984829887666%2C%200.7679917437644999%2C%200.7689986576413336%2C%200.7700055715181673%2C%200.7710124853950011%2C%200.7720193992718347%2C%200.7730263131486685%2C%200.7740332270255024%2C%200.775040140902336%2C%200.7760470547791698%2C%200.7770539686560035%2C%200.7780608825328373%2C%200.779067796409671%2C%200.7800747102865049%2C%200.7810816241633385%2C%200.7820885380401723%2C%200.783095451917006%2C%200.7841023657938397%2C%200.7851092796706736%2C%200.7861161935475073%2C%200.787123107424341%2C%200.7881300213011748%2C%200.7891369351780085%2C%200.7901438490548423%2C%200.7911507629316761%2C%200.7921576768085097%2C%200.7931645906853435%2C%200.7941715045621772%2C%200.7951784184390109%2C%200.7961853323158448%2C%200.7971922461926785%2C%200.7981991600695122%2C%200.799206073946346%2C%200.8002129878231798%2C%200.8012199017000134%2C%200.8022268155768473%2C%200.803233729453681%2C%200.8042406433305147%2C%200.8052475572073485%2C%200.8062544710841822%2C%200.807261384961016%2C%200.8082682988378498%2C%200.8092752127146834%2C%200.8102821265915172%2C%200.8112890404683509%2C%200.8122959543451846%2C%200.8133028682220185%2C%200.8143097820988522%2C%200.8153166959756859%2C%200.8163236098525197%2C%200.8173305237293536%2C%200.8183374376061872%2C%200.819344351483021%2C%200.8203512653598547%2C%200.8213581792366884%2C%200.8223650931135222%2C%200.823372006990356%2C%200.8243789208671897%2C%200.8253858347440235%2C%200.8263927486208572%2C%200.8273996624976909%2C%200.8284065763745248%2C%200.8294134902513584%2C%200.8304204041281922%2C%200.8314273180050259%2C%200.8324342318818596%2C%200.8334411457586934%2C%200.8344480596355272%2C%200.8354549735123609%2C%200.8364618873891947%2C%200.8374688012660283%2C%200.8384757151428621%2C%200.839482629019696%2C%200.8404895428965297%2C%200.8414964567733634%2C%200.8425033706501972%2C%200.8435102845270309%2C%200.8445171984038646%2C%200.8455241122806985%2C%200.8465310261575321%2C%200.8475379400343659%2C%200.8485448539111996%2C%200.8495517677880333%2C%200.8505586816648671%2C%200.8515655955417009%2C%200.8525725094185346%2C%200.8535794232953684%2C%200.8545863371722021%2C%200.8555932510490358%2C%200.8566001649258697%2C%200.8576070788027033%2C%200.8586139926795371%2C%200.8596209065563709%2C%200.8606278204332046%2C%200.8616347343100383%2C%200.8626416481868722%2C%200.8636485620637058%2C%200.8646554759405396%2C%200.8656623898173734%2C%200.866669303694207%2C%200.8676762175710409%2C%200.8686831314478746%2C%200.8696900453247083%2C%200.8706969592015421%2C%200.8717038730783758%2C%200.8727107869552095%2C%200.8737177008320434%2C%200.874724614708877%2C%200.8757315285857108%2C%200.8767384424625446%2C%200.8777453563393783%2C%200.878752270216212%2C%200.8797591840930459%2C%200.8807660979698796%2C%200.8817730118467133%2C%200.8827799257235471%2C%200.8837868396003807%2C%200.8847937534772146%2C%200.8858006673540483%2C%200.886807581230882%2C%200.8878144951077158%2C%200.8888214089845495%2C%200.8898283228613832%2C%200.8908352367382171%2C%200.8918421506150508%2C%200.8928490644918845%2C%200.8938559783687183%2C%200.8948628922455519%2C%200.8958698061223858%2C%200.8968767199992195%2C%200.8978836338760533%2C%200.898890547752887%2C%200.8998974616297208%2C%200.9009043755065544%2C%200.9019112893833883%2C%200.9029182032602221%2C%200.9039251171370557%2C%200.9049320310138895%2C%200.9059389448907232%2C%200.906945858767557%2C%200.9079527726443908%2C%200.9089596865212245%2C%200.9099666003980582%2C%200.910973514274892%2C%200.9119804281517256%2C%200.9129873420285595%2C%200.9139942559053932%2C%200.9150011697822269%2C%200.9160080836590607%2C%200.9170149975358944%2C%200.9180219114127283%2C%200.919028825289562%2C%200.9200357391663958%2C%200.9210426530432294%2C%200.9220495669200632%2C%200.923056480796897%2C%200.9240633946737307%2C%200.9250703085505645%2C%200.9260772224273981%2C%200.9270841363042319%2C%200.9280910501810657%5D%29%0A%20%20%20%20%20%20%20%20%20%20%20%20%20%20.range%28%5B%27%23ffffccff%27%2C%20%27%23ffffccff%27%2C%20%27%23ffffccff%27%2C%20%27%23ffffccff%27%2C%20%27%23ffffccff%27%2C%20%27%23ffffccff%27%2C%20%27%23ffffccff%27%2C%20%27%23ffffccff%27%2C%20%27%23ffffccff%27%2C%20%27%23ffffccff%27%2C%20%27%23ffffccff%27%2C%20%27%23ffffccff%27%2C%20%27%23ffffccff%27%2C%20%27%23ffffccff%27%2C%20%27%23ffffccff%27%2C%20%27%23ffffccff%27%2C%20%27%23ffffccff%27%2C%20%27%23ffffccff%27%2C%20%27%23ffffccff%27%2C%20%27%23ffffccff%27%2C%20%27%23ffffccff%27%2C%20%27%23ffffccff%27%2C%20%27%23ffffccff%27%2C%20%27%23ffffccff%27%2C%20%27%23ffffccff%27%2C%20%27%23ffffccff%27%2C%20%27%23ffffccff%27%2C%20%27%23ffffccff%27%2C%20%27%23ffffccff%27%2C%20%27%23ffffccff%27%2C%20%27%23ffffccff%27%2C%20%27%23ffffccff%27%2C%20%27%23ffffccff%27%2C%20%27%23ffffccff%27%2C%20%27%23ffffccff%27%2C%20%27%23ffffccff%27%2C%20%27%23ffffccff%27%2C%20%27%23ffffccff%27%2C%20%27%23ffffccff%27%2C%20%27%23ffffccff%27%2C%20%27%23ffffccff%27%2C%20%27%23ffffccff%27%2C%20%27%23ffffccff%27%2C%20%27%23ffffccff%27%2C%20%27%23ffffccff%27%2C%20%27%23ffffccff%27%2C%20%27%23ffffccff%27%2C%20%27%23ffffccff%27%2C%20%27%23ffffccff%27%2C%20%27%23ffffccff%27%2C%20%27%23ffffccff%27%2C%20%27%23ffffccff%27%2C%20%27%23ffffccff%27%2C%20%27%23ffffccff%27%2C%20%27%23ffffccff%27%2C%20%27%23ffffccff%27%2C%20%27%23ffffccff%27%2C%20%27%23ffffccff%27%2C%20%27%23ffffccff%27%2C%20%27%23ffffccff%27%2C%20%27%23ffffccff%27%2C%20%27%23ffffccff%27%2C%20%27%23ffffccff%27%2C%20%27%23ffffccff%27%2C%20%27%23ffffccff%27%2C%20%27%23ffffccff%27%2C%20%27%23ffffccff%27%2C%20%27%23ffffccff%27%2C%20%27%23ffffccff%27%2C%20%27%23ffffccff%27%2C%20%27%23ffffccff%27%2C%20%27%23ffffccff%27%2C%20%27%23ffffccff%27%2C%20%27%23ffffccff%27%2C%20%27%23ffffccff%27%2C%20%27%23ffffccff%27%2C%20%27%23ffffccff%27%2C%20%27%23ffffccff%27%2C%20%27%23ffffccff%27%2C%20%27%23ffffccff%27%2C%20%27%23ffffccff%27%2C%20%27%23ffffccff%27%2C%20%27%23ffffccff%27%2C%20%27%23ffffccff%27%2C%20%27%23ffffccff%27%2C%20%27%23ffffccff%27%2C%20%27%23ffffccff%27%2C%20%27%23ffffccff%27%2C%20%27%23ffffccff%27%2C%20%27%23ffffccff%27%2C%20%27%23ffffccff%27%2C%20%27%23ffffccff%27%2C%20%27%23ffffccff%27%2C%20%27%23ffffccff%27%2C%20%27%23ffffccff%27%2C%20%27%23ffffccff%27%2C%20%27%23ffffccff%27%2C%20%27%23ffffccff%27%2C%20%27%23ffffccff%27%2C%20%27%23ffffccff%27%2C%20%27%23fed976ff%27%2C%20%27%23fed976ff%27%2C%20%27%23fed976ff%27%2C%20%27%23fed976ff%27%2C%20%27%23fed976ff%27%2C%20%27%23fed976ff%27%2C%20%27%23fed976ff%27%2C%20%27%23fed976ff%27%2C%20%27%23fed976ff%27%2C%20%27%23fed976ff%27%2C%20%27%23fed976ff%27%2C%20%27%23fed976ff%27%2C%20%27%23fed976ff%27%2C%20%27%23fed976ff%27%2C%20%27%23fed976ff%27%2C%20%27%23fed976ff%27%2C%20%27%23fed976ff%27%2C%20%27%23fed976ff%27%2C%20%27%23fed976ff%27%2C%20%27%23fed976ff%27%2C%20%27%23fed976ff%27%2C%20%27%23fed976ff%27%2C%20%27%23fed976ff%27%2C%20%27%23fed976ff%27%2C%20%27%23fed976ff%27%2C%20%27%23fed976ff%27%2C%20%27%23fed976ff%27%2C%20%27%23fed976ff%27%2C%20%27%23fed976ff%27%2C%20%27%23fed976ff%27%2C%20%27%23fed976ff%27%2C%20%27%23fed976ff%27%2C%20%27%23fed976ff%27%2C%20%27%23fed976ff%27%2C%20%27%23fed976ff%27%2C%20%27%23fed976ff%27%2C%20%27%23fed976ff%27%2C%20%27%23fed976ff%27%2C%20%27%23fed976ff%27%2C%20%27%23fed976ff%27%2C%20%27%23fed976ff%27%2C%20%27%23fed976ff%27%2C%20%27%23fed976ff%27%2C%20%27%23fed976ff%27%2C%20%27%23fed976ff%27%2C%20%27%23fed976ff%27%2C%20%27%23fed976ff%27%2C%20%27%23fed976ff%27%2C%20%27%23fed976ff%27%2C%20%27%23fed976ff%27%2C%20%27%23fed976ff%27%2C%20%27%23fed976ff%27%2C%20%27%23fed976ff%27%2C%20%27%23fed976ff%27%2C%20%27%23fed976ff%27%2C%20%27%23fed976ff%27%2C%20%27%23fed976ff%27%2C%20%27%23fed976ff%27%2C%20%27%23fed976ff%27%2C%20%27%23fed976ff%27%2C%20%27%23fed976ff%27%2C%20%27%23fed976ff%27%2C%20%27%23fed976ff%27%2C%20%27%23fed976ff%27%2C%20%27%23fed976ff%27%2C%20%27%23fed976ff%27%2C%20%27%23fed976ff%27%2C%20%27%23fed976ff%27%2C%20%27%23fed976ff%27%2C%20%27%23fed976ff%27%2C%20%27%23fed976ff%27%2C%20%27%23fed976ff%27%2C%20%27%23fed976ff%27%2C%20%27%23fed976ff%27%2C%20%27%23fed976ff%27%2C%20%27%23fed976ff%27%2C%20%27%23fed976ff%27%2C%20%27%23fed976ff%27%2C%20%27%23fed976ff%27%2C%20%27%23fed976ff%27%2C%20%27%23fed976ff%27%2C%20%27%23fed976ff%27%2C%20%27%23fed976ff%27%2C%20%27%23fed976ff%27%2C%20%27%23fed976ff%27%2C%20%27%23fed976ff%27%2C%20%27%23fed976ff%27%2C%20%27%23fed976ff%27%2C%20%27%23fed976ff%27%2C%20%27%23fed976ff%27%2C%20%27%23fed976ff%27%2C%20%27%23fed976ff%27%2C%20%27%23fed976ff%27%2C%20%27%23fed976ff%27%2C%20%27%23fed976ff%27%2C%20%27%23fed976ff%27%2C%20%27%23fed976ff%27%2C%20%27%23fed976ff%27%2C%20%27%23fed976ff%27%2C%20%27%23fed976ff%27%2C%20%27%23fd8d3cff%27%2C%20%27%23fd8d3cff%27%2C%20%27%23fd8d3cff%27%2C%20%27%23fd8d3cff%27%2C%20%27%23fd8d3cff%27%2C%20%27%23fd8d3cff%27%2C%20%27%23fd8d3cff%27%2C%20%27%23fd8d3cff%27%2C%20%27%23fd8d3cff%27%2C%20%27%23fd8d3cff%27%2C%20%27%23fd8d3cff%27%2C%20%27%23fd8d3cff%27%2C%20%27%23fd8d3cff%27%2C%20%27%23fd8d3cff%27%2C%20%27%23fd8d3cff%27%2C%20%27%23fd8d3cff%27%2C%20%27%23fd8d3cff%27%2C%20%27%23fd8d3cff%27%2C%20%27%23fd8d3cff%27%2C%20%27%23fd8d3cff%27%2C%20%27%23fd8d3cff%27%2C%20%27%23fd8d3cff%27%2C%20%27%23fd8d3cff%27%2C%20%27%23fd8d3cff%27%2C%20%27%23fd8d3cff%27%2C%20%27%23fd8d3cff%27%2C%20%27%23fd8d3cff%27%2C%20%27%23fd8d3cff%27%2C%20%27%23fd8d3cff%27%2C%20%27%23fd8d3cff%27%2C%20%27%23fd8d3cff%27%2C%20%27%23fd8d3cff%27%2C%20%27%23fd8d3cff%27%2C%20%27%23fd8d3cff%27%2C%20%27%23fd8d3cff%27%2C%20%27%23fd8d3cff%27%2C%20%27%23fd8d3cff%27%2C%20%27%23fd8d3cff%27%2C%20%27%23fd8d3cff%27%2C%20%27%23fd8d3cff%27%2C%20%27%23fd8d3cff%27%2C%20%27%23fd8d3cff%27%2C%20%27%23fd8d3cff%27%2C%20%27%23fd8d3cff%27%2C%20%27%23fd8d3cff%27%2C%20%27%23fd8d3cff%27%2C%20%27%23fd8d3cff%27%2C%20%27%23fd8d3cff%27%2C%20%27%23fd8d3cff%27%2C%20%27%23fd8d3cff%27%2C%20%27%23fd8d3cff%27%2C%20%27%23fd8d3cff%27%2C%20%27%23fd8d3cff%27%2C%20%27%23fd8d3cff%27%2C%20%27%23fd8d3cff%27%2C%20%27%23fd8d3cff%27%2C%20%27%23fd8d3cff%27%2C%20%27%23fd8d3cff%27%2C%20%27%23fd8d3cff%27%2C%20%27%23fd8d3cff%27%2C%20%27%23fd8d3cff%27%2C%20%27%23fd8d3cff%27%2C%20%27%23fd8d3cff%27%2C%20%27%23fd8d3cff%27%2C%20%27%23fd8d3cff%27%2C%20%27%23fd8d3cff%27%2C%20%27%23fd8d3cff%27%2C%20%27%23fd8d3cff%27%2C%20%27%23fd8d3cff%27%2C%20%27%23fd8d3cff%27%2C%20%27%23fd8d3cff%27%2C%20%27%23fd8d3cff%27%2C%20%27%23fd8d3cff%27%2C%20%27%23fd8d3cff%27%2C%20%27%23fd8d3cff%27%2C%20%27%23fd8d3cff%27%2C%20%27%23fd8d3cff%27%2C%20%27%23fd8d3cff%27%2C%20%27%23fd8d3cff%27%2C%20%27%23fd8d3cff%27%2C%20%27%23fd8d3cff%27%2C%20%27%23fd8d3cff%27%2C%20%27%23fd8d3cff%27%2C%20%27%23fd8d3cff%27%2C%20%27%23fd8d3cff%27%2C%20%27%23fd8d3cff%27%2C%20%27%23fd8d3cff%27%2C%20%27%23fd8d3cff%27%2C%20%27%23fd8d3cff%27%2C%20%27%23fd8d3cff%27%2C%20%27%23fd8d3cff%27%2C%20%27%23fd8d3cff%27%2C%20%27%23fd8d3cff%27%2C%20%27%23fd8d3cff%27%2C%20%27%23fd8d3cff%27%2C%20%27%23fd8d3cff%27%2C%20%27%23fd8d3cff%27%2C%20%27%23fd8d3cff%27%2C%20%27%23fd8d3cff%27%2C%20%27%23fd8d3cff%27%2C%20%27%23e31a1cff%27%2C%20%27%23e31a1cff%27%2C%20%27%23e31a1cff%27%2C%20%27%23e31a1cff%27%2C%20%27%23e31a1cff%27%2C%20%27%23e31a1cff%27%2C%20%27%23e31a1cff%27%2C%20%27%23e31a1cff%27%2C%20%27%23e31a1cff%27%2C%20%27%23e31a1cff%27%2C%20%27%23e31a1cff%27%2C%20%27%23e31a1cff%27%2C%20%27%23e31a1cff%27%2C%20%27%23e31a1cff%27%2C%20%27%23e31a1cff%27%2C%20%27%23e31a1cff%27%2C%20%27%23e31a1cff%27%2C%20%27%23e31a1cff%27%2C%20%27%23e31a1cff%27%2C%20%27%23e31a1cff%27%2C%20%27%23e31a1cff%27%2C%20%27%23e31a1cff%27%2C%20%27%23e31a1cff%27%2C%20%27%23e31a1cff%27%2C%20%27%23e31a1cff%27%2C%20%27%23e31a1cff%27%2C%20%27%23e31a1cff%27%2C%20%27%23e31a1cff%27%2C%20%27%23e31a1cff%27%2C%20%27%23e31a1cff%27%2C%20%27%23e31a1cff%27%2C%20%27%23e31a1cff%27%2C%20%27%23e31a1cff%27%2C%20%27%23e31a1cff%27%2C%20%27%23e31a1cff%27%2C%20%27%23e31a1cff%27%2C%20%27%23e31a1cff%27%2C%20%27%23e31a1cff%27%2C%20%27%23e31a1cff%27%2C%20%27%23e31a1cff%27%2C%20%27%23e31a1cff%27%2C%20%27%23e31a1cff%27%2C%20%27%23e31a1cff%27%2C%20%27%23e31a1cff%27%2C%20%27%23e31a1cff%27%2C%20%27%23e31a1cff%27%2C%20%27%23e31a1cff%27%2C%20%27%23e31a1cff%27%2C%20%27%23e31a1cff%27%2C%20%27%23e31a1cff%27%2C%20%27%23e31a1cff%27%2C%20%27%23e31a1cff%27%2C%20%27%23e31a1cff%27%2C%20%27%23e31a1cff%27%2C%20%27%23e31a1cff%27%2C%20%27%23e31a1cff%27%2C%20%27%23e31a1cff%27%2C%20%27%23e31a1cff%27%2C%20%27%23e31a1cff%27%2C%20%27%23e31a1cff%27%2C%20%27%23e31a1cff%27%2C%20%27%23e31a1cff%27%2C%20%27%23e31a1cff%27%2C%20%27%23e31a1cff%27%2C%20%27%23e31a1cff%27%2C%20%27%23e31a1cff%27%2C%20%27%23e31a1cff%27%2C%20%27%23e31a1cff%27%2C%20%27%23e31a1cff%27%2C%20%27%23e31a1cff%27%2C%20%27%23e31a1cff%27%2C%20%27%23e31a1cff%27%2C%20%27%23e31a1cff%27%2C%20%27%23e31a1cff%27%2C%20%27%23e31a1cff%27%2C%20%27%23e31a1cff%27%2C%20%27%23e31a1cff%27%2C%20%27%23e31a1cff%27%2C%20%27%23e31a1cff%27%2C%20%27%23e31a1cff%27%2C%20%27%23e31a1cff%27%2C%20%27%23e31a1cff%27%2C%20%27%23e31a1cff%27%2C%20%27%23e31a1cff%27%2C%20%27%23e31a1cff%27%2C%20%27%23e31a1cff%27%2C%20%27%23e31a1cff%27%2C%20%27%23e31a1cff%27%2C%20%27%23e31a1cff%27%2C%20%27%23e31a1cff%27%2C%20%27%23e31a1cff%27%2C%20%27%23e31a1cff%27%2C%20%27%23e31a1cff%27%2C%20%27%23e31a1cff%27%2C%20%27%23e31a1cff%27%2C%20%27%23e31a1cff%27%2C%20%27%23e31a1cff%27%2C%20%27%23e31a1cff%27%2C%20%27%23e31a1cff%27%2C%20%27%23e31a1cff%27%2C%20%27%23800026ff%27%2C%20%27%23800026ff%27%2C%20%27%23800026ff%27%2C%20%27%23800026ff%27%2C%20%27%23800026ff%27%2C%20%27%23800026ff%27%2C%20%27%23800026ff%27%2C%20%27%23800026ff%27%2C%20%27%23800026ff%27%2C%20%27%23800026ff%27%2C%20%27%23800026ff%27%2C%20%27%23800026ff%27%2C%20%27%23800026ff%27%2C%20%27%23800026ff%27%2C%20%27%23800026ff%27%2C%20%27%23800026ff%27%2C%20%27%23800026ff%27%2C%20%27%23800026ff%27%2C%20%27%23800026ff%27%2C%20%27%23800026ff%27%2C%20%27%23800026ff%27%2C%20%27%23800026ff%27%2C%20%27%23800026ff%27%2C%20%27%23800026ff%27%2C%20%27%23800026ff%27%2C%20%27%23800026ff%27%2C%20%27%23800026ff%27%2C%20%27%23800026ff%27%2C%20%27%23800026ff%27%2C%20%27%23800026ff%27%2C%20%27%23800026ff%27%2C%20%27%23800026ff%27%2C%20%27%23800026ff%27%2C%20%27%23800026ff%27%2C%20%27%23800026ff%27%2C%20%27%23800026ff%27%2C%20%27%23800026ff%27%2C%20%27%23800026ff%27%2C%20%27%23800026ff%27%2C%20%27%23800026ff%27%2C%20%27%23800026ff%27%2C%20%27%23800026ff%27%2C%20%27%23800026ff%27%2C%20%27%23800026ff%27%2C%20%27%23800026ff%27%2C%20%27%23800026ff%27%2C%20%27%23800026ff%27%2C%20%27%23800026ff%27%2C%20%27%23800026ff%27%2C%20%27%23800026ff%27%2C%20%27%23800026ff%27%2C%20%27%23800026ff%27%2C%20%27%23800026ff%27%2C%20%27%23800026ff%27%2C%20%27%23800026ff%27%2C%20%27%23800026ff%27%2C%20%27%23800026ff%27%2C%20%27%23800026ff%27%2C%20%27%23800026ff%27%2C%20%27%23800026ff%27%2C%20%27%23800026ff%27%2C%20%27%23800026ff%27%2C%20%27%23800026ff%27%2C%20%27%23800026ff%27%2C%20%27%23800026ff%27%2C%20%27%23800026ff%27%2C%20%27%23800026ff%27%2C%20%27%23800026ff%27%2C%20%27%23800026ff%27%2C%20%27%23800026ff%27%2C%20%27%23800026ff%27%2C%20%27%23800026ff%27%2C%20%27%23800026ff%27%2C%20%27%23800026ff%27%2C%20%27%23800026ff%27%2C%20%27%23800026ff%27%2C%20%27%23800026ff%27%2C%20%27%23800026ff%27%2C%20%27%23800026ff%27%2C%20%27%23800026ff%27%2C%20%27%23800026ff%27%2C%20%27%23800026ff%27%2C%20%27%23800026ff%27%2C%20%27%23800026ff%27%2C%20%27%23800026ff%27%2C%20%27%23800026ff%27%2C%20%27%23800026ff%27%2C%20%27%23800026ff%27%2C%20%27%23800026ff%27%2C%20%27%23800026ff%27%2C%20%27%23800026ff%27%2C%20%27%23800026ff%27%2C%20%27%23800026ff%27%2C%20%27%23800026ff%27%2C%20%27%23800026ff%27%2C%20%27%23800026ff%27%2C%20%27%23800026ff%27%2C%20%27%23800026ff%27%2C%20%27%23800026ff%27%2C%20%27%23800026ff%27%5D%29%3B%0A%20%20%20%20%0A%0A%20%20%20%20color_map_ca2ab997479e484eb87cb0786b20e513.x%20%3D%20d3.scale.linear%28%29%0A%20%20%20%20%20%20%20%20%20%20%20%20%20%20.domain%28%5B0.4256410256410256%2C%200.9280910501810657%5D%29%0A%20%20%20%20%20%20%20%20%20%20%20%20%20%20.range%28%5B0%2C%20400%5D%29%3B%0A%0A%20%20%20%20color_map_ca2ab997479e484eb87cb0786b20e513.legend%20%3D%20L.control%28%7Bposition%3A%20%27topright%27%7D%29%3B%0A%20%20%20%20color_map_ca2ab997479e484eb87cb0786b20e513.legend.onAdd%20%3D%20function%20%28map%29%20%7Bvar%20div%20%3D%20L.DomUtil.create%28%27div%27%2C%20%27legend%27%29%3B%20return%20div%7D%3B%0A%20%20%20%20color_map_ca2ab997479e484eb87cb0786b20e513.legend.addTo%28map_aeff8748de804618b03c9165e85a765e%29%3B%0A%0A%20%20%20%20color_map_ca2ab997479e484eb87cb0786b20e513.xAxis%20%3D%20d3.svg.axis%28%29%0A%20%20%20%20%20%20%20%20.scale%28color_map_ca2ab997479e484eb87cb0786b20e513.x%29%0A%20%20%20%20%20%20%20%20.orient%28%22top%22%29%0A%20%20%20%20%20%20%20%20.tickSize%281%29%0A%20%20%20%20%20%20%20%20.tickValues%28%5B0.4256410256410256%2C%200.5261310305490337%2C%200.6266210354570416%2C%200.7271110403650496%2C%200.8276010452730577%2C%200.9280910501810657%5D%29%3B%0A%0A%20%20%20%20color_map_ca2ab997479e484eb87cb0786b20e513.svg%20%3D%20d3.select%28%22.legend.leaflet-control%22%29.append%28%22svg%22%29%0A%20%20%20%20%20%20%20%20.attr%28%22id%22%2C%20%27legend%27%29%0A%20%20%20%20%20%20%20%20.attr%28%22width%22%2C%20450%29%0A%20%20%20%20%20%20%20%20.attr%28%22height%22%2C%2040%29%3B%0A%0A%20%20%20%20color_map_ca2ab997479e484eb87cb0786b20e513.g%20%3D%20color_map_ca2ab997479e484eb87cb0786b20e513.svg.append%28%22g%22%29%0A%20%20%20%20%20%20%20%20.attr%28%22class%22%2C%20%22key%22%29%0A%20%20%20%20%20%20%20%20.attr%28%22transform%22%2C%20%22translate%2825%2C16%29%22%29%3B%0A%0A%20%20%20%20color_map_ca2ab997479e484eb87cb0786b20e513.g.selectAll%28%22rect%22%29%0A%20%20%20%20%20%20%20%20.data%28color_map_ca2ab997479e484eb87cb0786b20e513.color.range%28%29.map%28function%28d%2C%20i%29%20%7B%0A%20%20%20%20%20%20%20%20%20%20return%20%7B%0A%20%20%20%20%20%20%20%20%20%20%20%20x0%3A%20i%20%3F%20color_map_ca2ab997479e484eb87cb0786b20e513.x%28color_map_ca2ab997479e484eb87cb0786b20e513.color.domain%28%29%5Bi%20-%201%5D%29%20%3A%20color_map_ca2ab997479e484eb87cb0786b20e513.x.range%28%29%5B0%5D%2C%0A%20%20%20%20%20%20%20%20%20%20%20%20x1%3A%20i%20%3C%20color_map_ca2ab997479e484eb87cb0786b20e513.color.domain%28%29.length%20%3F%20color_map_ca2ab997479e484eb87cb0786b20e513.x%28color_map_ca2ab997479e484eb87cb0786b20e513.color.domain%28%29%5Bi%5D%29%20%3A%20color_map_ca2ab997479e484eb87cb0786b20e513.x.range%28%29%5B1%5D%2C%0A%20%20%20%20%20%20%20%20%20%20%20%20z%3A%20d%0A%20%20%20%20%20%20%20%20%20%20%7D%3B%0A%20%20%20%20%20%20%20%20%7D%29%29%0A%20%20%20%20%20%20.enter%28%29.append%28%22rect%22%29%0A%20%20%20%20%20%20%20%20.attr%28%22height%22%2C%2010%29%0A%20%20%20%20%20%20%20%20.attr%28%22x%22%2C%20function%28d%29%20%7B%20return%20d.x0%3B%20%7D%29%0A%20%20%20%20%20%20%20%20.attr%28%22width%22%2C%20function%28d%29%20%7B%20return%20d.x1%20-%20d.x0%3B%20%7D%29%0A%20%20%20%20%20%20%20%20.style%28%22fill%22%2C%20function%28d%29%20%7B%20return%20d.z%3B%20%7D%29%3B%0A%0A%20%20%20%20color_map_ca2ab997479e484eb87cb0786b20e513.g.call%28color_map_ca2ab997479e484eb87cb0786b20e513.xAxis%29.append%28%22text%22%29%0A%20%20%20%20%20%20%20%20.attr%28%22class%22%2C%20%22caption%22%29%0A%20%20%20%20%20%20%20%20.attr%28%22y%22%2C%2021%29%0A%20%20%20%20%20%20%20%20.text%28%27prop_drive%27%29%3B%0A%3C/script%3E onload=\"this.contentDocument.open();this.contentDocument.write(    decodeURIComponent(this.getAttribute('data-html')));this.contentDocument.close();\" allowfullscreen webkitallowfullscreen mozallowfullscreen></iframe></div></div>"
      ],
      "text/plain": [
       "<folium.folium.Map at 0x11d5b8f40>"
      ]
     },
     "execution_count": 12,
     "metadata": {},
     "output_type": "execute_result"
    }
   ],
   "source": [
    "m = folium.Map(\n",
    "    location=[38.04, -78.49],\n",
    "    tiles=\"cartodbpositron\",\n",
    "    zoom_start=13.75,\n",
    "    zoom_snap=0.25,\n",
    "    zoom_delta=0.25,\n",
    ")\n",
    "prop_drive = commute_mode_tract_wide[\"prop_drive\"]\n",
    "colormap = branca.colormap.linear.YlOrRd_09.scale(prop_drive.min(), prop_drive.max())\n",
    "folium.GeoJson(\n",
    "    gpd.GeoDataFrame(commute_mode_tract_wide)._to_geo(),\n",
    "    style_function=lambda feature: {\n",
    "        \"color\": \"black\",\n",
    "        \"fillOpacity\": 0.75,\n",
    "        \"fillColor\": colormap.rgb_hex_str(feature[\"properties\"][\"prop_drive\"]),\n",
    "    },\n",
    "    tooltip=folium.GeoJsonTooltip(fields=[\"prop_drive\"], labels=True),\n",
    ").add_to(m)\n",
    "legend = colormap.to_step(n=5, data=commute_mode_tract_wide[\"prop_drive\"])\n",
    "legend.caption = 'prop_drive'\n",
    "legend.add_to(m)\n",
    "m"
   ]
  },
  {
   "cell_type": "code",
   "execution_count": 13,
   "id": "689971a8",
   "metadata": {},
   "outputs": [
    {
     "name": "stderr",
     "output_type": "stream",
     "text": [
      "Retrieving variables...\n",
      "Retrieving ACS tables...\n",
      "Retrieving shapefiles...\n",
      "Merging ACS tables and variables...\n",
      "Merging annotations...\n",
      "Merging shapefiles...\n",
      "Finalizing data...\n"
     ]
    }
   ],
   "source": [
    "travel_time_county = autocensus.Query(\n",
    "    estimate=5,\n",
    "    years=[2019],\n",
    "    variables=TRAVEL_TIME_VARIABLES,\n",
    "    for_geo=[\"county:*\"],\n",
    "    in_geo=[\"state:51\"],  # Virginia\n",
    "    geometry=\"polygons\",\n",
    ").run()"
   ]
  },
  {
   "cell_type": "code",
   "execution_count": 14,
   "id": "5edc1b94",
   "metadata": {},
   "outputs": [],
   "source": [
    "travel_time_county_wide = calculate_travel_time(normalize_county(reshape_census(travel_time_county)))"
   ]
  },
  {
   "cell_type": "code",
   "execution_count": 15,
   "id": "2611307b",
   "metadata": {},
   "outputs": [
    {
     "data": {
      "text/html": [
       "\n",
       "<div id=\"altair-viz-0e6383eac7e64008b5622201780d29ff\"></div>\n",
       "<script type=\"text/javascript\">\n",
       "  var VEGA_DEBUG = (typeof VEGA_DEBUG == \"undefined\") ? {} : VEGA_DEBUG;\n",
       "  (function(spec, embedOpt){\n",
       "    let outputDiv = document.currentScript.previousElementSibling;\n",
       "    if (outputDiv.id !== \"altair-viz-0e6383eac7e64008b5622201780d29ff\") {\n",
       "      outputDiv = document.getElementById(\"altair-viz-0e6383eac7e64008b5622201780d29ff\");\n",
       "    }\n",
       "    const paths = {\n",
       "      \"vega\": \"https://cdn.jsdelivr.net/npm//vega@5?noext\",\n",
       "      \"vega-lib\": \"https://cdn.jsdelivr.net/npm//vega-lib?noext\",\n",
       "      \"vega-lite\": \"https://cdn.jsdelivr.net/npm//vega-lite@4.17.0?noext\",\n",
       "      \"vega-embed\": \"https://cdn.jsdelivr.net/npm//vega-embed@6?noext\",\n",
       "    };\n",
       "\n",
       "    function maybeLoadScript(lib, version) {\n",
       "      var key = `${lib.replace(\"-\", \"\")}_version`;\n",
       "      return (VEGA_DEBUG[key] == version) ?\n",
       "        Promise.resolve(paths[lib]) :\n",
       "        new Promise(function(resolve, reject) {\n",
       "          var s = document.createElement('script');\n",
       "          document.getElementsByTagName(\"head\")[0].appendChild(s);\n",
       "          s.async = true;\n",
       "          s.onload = () => {\n",
       "            VEGA_DEBUG[key] = version;\n",
       "            return resolve(paths[lib]);\n",
       "          };\n",
       "          s.onerror = () => reject(`Error loading script: ${paths[lib]}`);\n",
       "          s.src = paths[lib];\n",
       "        });\n",
       "    }\n",
       "\n",
       "    function showError(err) {\n",
       "      outputDiv.innerHTML = `<div class=\"error\" style=\"color:red;\">${err}</div>`;\n",
       "      throw err;\n",
       "    }\n",
       "\n",
       "    function displayChart(vegaEmbed) {\n",
       "      vegaEmbed(outputDiv, spec, embedOpt)\n",
       "        .catch(err => showError(`Javascript Error: ${err.message}<br>This usually means there's a typo in your chart specification. See the javascript console for the full traceback.`));\n",
       "    }\n",
       "\n",
       "    if(typeof define === \"function\" && define.amd) {\n",
       "      requirejs.config({paths});\n",
       "      require([\"vega-embed\"], displayChart, err => showError(`Error loading script: ${err.message}`));\n",
       "    } else {\n",
       "      maybeLoadScript(\"vega\", \"5\")\n",
       "        .then(() => maybeLoadScript(\"vega-lite\", \"4.17.0\"))\n",
       "        .then(() => maybeLoadScript(\"vega-embed\", \"6\"))\n",
       "        .catch(showError)\n",
       "        .then(() => displayChart(vegaEmbed));\n",
       "    }\n",
       "  })({\"config\": {\"view\": {\"continuousWidth\": 400, \"continuousHeight\": 300}}, \"data\": {\"name\": \"data-a55882a587eb47a5afd055d6cedb8295\"}, \"mark\": \"bar\", \"encoding\": {\"color\": {\"field\": \"county\", \"type\": \"nominal\"}, \"tooltip\": {\"field\": \"travel_time\", \"type\": \"quantitative\"}, \"x\": {\"field\": \"travel_time\", \"type\": \"quantitative\"}, \"y\": {\"field\": \"county\", \"sort\": \"-x\", \"type\": \"nominal\"}}, \"title\": \"Average travel time to work by county\", \"$schema\": \"https://vega.github.io/schema/vega-lite/v4.17.0.json\", \"datasets\": {\"data-a55882a587eb47a5afd055d6cedb8295\": [{\"name\": \"Albemarle County, Virginia\", \"B08006_001E\": 52397.0, \"B08006_017E\": 4435.0, \"B08013_001E\": 1057160.0, \"county\": \"Albemarle County\", \"travel_time\": 22.04161627955465}, {\"name\": \"Charlottesville city, Virginia\", \"B08006_001E\": 24745.0, \"B08006_017E\": 1737.0, \"B08013_001E\": 390130.0, \"county\": \"Charlottesville City\", \"travel_time\": 16.956276077885953}, {\"name\": \"Fluvanna County, Virginia\", \"B08006_001E\": 12476.0, \"B08006_017E\": 1041.0, \"B08013_001E\": 376310.0, \"county\": \"Fluvanna County\", \"travel_time\": 32.90861390467862}, {\"name\": \"Greene County, Virginia\", \"B08006_001E\": 9853.0, \"B08006_017E\": 685.0, \"B08013_001E\": 272945.0, \"county\": \"Greene County\", \"travel_time\": 29.771487783595113}, {\"name\": \"Nelson County, Virginia\", \"B08006_001E\": 6769.0, \"B08006_017E\": 795.0, \"B08013_001E\": 182720.0, \"county\": \"Nelson County\", \"travel_time\": 30.585872112487447}]}}, {\"mode\": \"vega-lite\"});\n",
       "</script>"
      ],
      "text/plain": [
       "alt.Chart(...)"
      ]
     },
     "execution_count": 15,
     "metadata": {},
     "output_type": "execute_result"
    }
   ],
   "source": [
    "travel_time_county_bar = travel_time_county_wide.drop(labels=\"geometry\", axis=1)\n",
    "alt.Chart(travel_time_county_bar[travel_time_county_bar[\"county\"].isin(CVILLE_MSA_COUNTIES.values())]).mark_bar().encode(\n",
    "    y=alt.X(\"county:N\", sort=\"-x\"),\n",
    "    x=alt.Y(\"travel_time:Q\"),\n",
    "    color=\"county:N\",\n",
    "    tooltip=\"travel_time:Q\",\n",
    ").properties(\n",
    "    title=\"Average travel time to work by county\",\n",
    ")"
   ]
  },
  {
   "cell_type": "markdown",
   "id": "df8006be",
   "metadata": {},
   "source": [
    "## City households produce lower GHG emissions than County households.\n",
    "\n",
    "We can use data from the Cool Climate survey to estimate per-households GHG emissions for the Charlottesville MSA. See https://coolclimate.org/ for source data; results are from 2014. Households in Charlottesville produce lower GHG emissions than the surrounding counties, and this difference is mostly explained by lower emissions from transportation and residential energy use."
   ]
  },
  {
   "cell_type": "code",
   "execution_count": 16,
   "id": "6955f035",
   "metadata": {},
   "outputs": [
    {
     "name": "stderr",
     "output_type": "stream",
     "text": [
      "Query complete after 0.02s: 100%|███████████████████████████████████████████████████████████████████████████████████████████████████████████████| 1/1 [00:00<00:00, 32.54query/s]\n",
      "Downloading: 100%|███████████████████████████████████████████████████████████████████████████████████████████████████████████████████████████████| 5/5 [00:01<00:00,  3.99rows/s]\n"
     ]
    }
   ],
   "source": [
    "%%bigquery emissions\n",
    "select\n",
    "    *\n",
    "from `cvilledata.cool_climate.county`\n",
    "where state = \"VA\" and county in (\"CHARLOTTESVILLE CITY\", \"ALBEMARLE\", \"FLUVANNA\", \"GREENE\", \"NELSON\")"
   ]
  },
  {
   "cell_type": "code",
   "execution_count": 17,
   "id": "2a492280",
   "metadata": {},
   "outputs": [
    {
     "data": {
      "text/html": [
       "\n",
       "<div id=\"altair-viz-46c69b663d71497a9e4f4775db393e2c\"></div>\n",
       "<script type=\"text/javascript\">\n",
       "  var VEGA_DEBUG = (typeof VEGA_DEBUG == \"undefined\") ? {} : VEGA_DEBUG;\n",
       "  (function(spec, embedOpt){\n",
       "    let outputDiv = document.currentScript.previousElementSibling;\n",
       "    if (outputDiv.id !== \"altair-viz-46c69b663d71497a9e4f4775db393e2c\") {\n",
       "      outputDiv = document.getElementById(\"altair-viz-46c69b663d71497a9e4f4775db393e2c\");\n",
       "    }\n",
       "    const paths = {\n",
       "      \"vega\": \"https://cdn.jsdelivr.net/npm//vega@5?noext\",\n",
       "      \"vega-lib\": \"https://cdn.jsdelivr.net/npm//vega-lib?noext\",\n",
       "      \"vega-lite\": \"https://cdn.jsdelivr.net/npm//vega-lite@4.17.0?noext\",\n",
       "      \"vega-embed\": \"https://cdn.jsdelivr.net/npm//vega-embed@6?noext\",\n",
       "    };\n",
       "\n",
       "    function maybeLoadScript(lib, version) {\n",
       "      var key = `${lib.replace(\"-\", \"\")}_version`;\n",
       "      return (VEGA_DEBUG[key] == version) ?\n",
       "        Promise.resolve(paths[lib]) :\n",
       "        new Promise(function(resolve, reject) {\n",
       "          var s = document.createElement('script');\n",
       "          document.getElementsByTagName(\"head\")[0].appendChild(s);\n",
       "          s.async = true;\n",
       "          s.onload = () => {\n",
       "            VEGA_DEBUG[key] = version;\n",
       "            return resolve(paths[lib]);\n",
       "          };\n",
       "          s.onerror = () => reject(`Error loading script: ${paths[lib]}`);\n",
       "          s.src = paths[lib];\n",
       "        });\n",
       "    }\n",
       "\n",
       "    function showError(err) {\n",
       "      outputDiv.innerHTML = `<div class=\"error\" style=\"color:red;\">${err}</div>`;\n",
       "      throw err;\n",
       "    }\n",
       "\n",
       "    function displayChart(vegaEmbed) {\n",
       "      vegaEmbed(outputDiv, spec, embedOpt)\n",
       "        .catch(err => showError(`Javascript Error: ${err.message}<br>This usually means there's a typo in your chart specification. See the javascript console for the full traceback.`));\n",
       "    }\n",
       "\n",
       "    if(typeof define === \"function\" && define.amd) {\n",
       "      requirejs.config({paths});\n",
       "      require([\"vega-embed\"], displayChart, err => showError(`Error loading script: ${err.message}`));\n",
       "    } else {\n",
       "      maybeLoadScript(\"vega\", \"5\")\n",
       "        .then(() => maybeLoadScript(\"vega-lite\", \"4.17.0\"))\n",
       "        .then(() => maybeLoadScript(\"vega-embed\", \"6\"))\n",
       "        .catch(showError)\n",
       "        .then(() => displayChart(vegaEmbed));\n",
       "    }\n",
       "  })({\"config\": {\"view\": {\"continuousWidth\": 400, \"continuousHeight\": 300}}, \"data\": {\"name\": \"data-fff3f1e6f57bf180b4cbfd8cf18d14f2\"}, \"mark\": \"bar\", \"encoding\": {\"color\": {\"field\": \"county\", \"type\": \"nominal\"}, \"tooltip\": {\"field\": \"total_household_carbon_footprint_tco_e_yr\", \"type\": \"quantitative\"}, \"x\": {\"field\": \"total_household_carbon_footprint_tco_e_yr\", \"type\": \"quantitative\"}, \"y\": {\"field\": \"county\", \"sort\": \"-x\", \"type\": \"nominal\"}}, \"title\": \"Average household emissions by county\", \"$schema\": \"https://vega.github.io/schema/vega-lite/v4.17.0.json\", \"datasets\": {\"data-fff3f1e6f57bf180b4cbfd8cf18d14f2\": [{\"population\": 56134, \"state\": \"VA\", \"county\": \"CHARLOTTESVILLE CITY\", \"electricity_kwh\": 10158.740593078897, \"nat_gas_cu_ft\": 37709.5488656296, \"fueloil_gallons\": 48.59009822335229, \"vehicle_miles_traveled\": 18877.214308618662, \"transport_tco_e_yr\": 13.01773779666675, \"housing_tco_e_yr\": 11.638465764432762, \"food_tco_e_yr\": 6.861300459614494, \"goods_tco_e_yr\": 4.577359548232757, \"services_tco_e_yr\": 5.066087139813958, \"total_household_carbon_footprint_tco_e_yr\": 41.16095070876072, \"households\": 40934.0, \"total_county_carbon_footprint_tco_e_yr\": 1684882.3563124114}, {\"population\": 68265, \"state\": \"VA\", \"county\": \"ALBEMARLE\", \"electricity_kwh\": 12127.411040924828, \"nat_gas_cu_ft\": 31658.10274493858, \"fueloil_gallons\": 109.52655580734138, \"vehicle_miles_traveled\": 27498.962059620597, \"transport_tco_e_yr\": 18.97342610699456, \"housing_tco_e_yr\": 13.964433768658782, \"food_tco_e_yr\": 7.413871676554603, \"goods_tco_e_yr\": 5.746582630337636, \"services_tco_e_yr\": 6.565841399307654, \"total_household_carbon_footprint_tco_e_yr\": 52.66415558185323, \"households\": 51380.0, \"total_county_carbon_footprint_tco_e_yr\": 2705884.3137956187}, {\"population\": 17027, \"state\": \"VA\", \"county\": \"NELSON\", \"electricity_kwh\": 11464.500968948343, \"nat_gas_cu_ft\": 23761.317594362325, \"fueloil_gallons\": 194.35814026624664, \"vehicle_miles_traveled\": 28175.512950020555, \"transport_tco_e_yr\": 18.884559045783956, \"housing_tco_e_yr\": 16.468397006550372, \"food_tco_e_yr\": 7.351118811299701, \"goods_tco_e_yr\": 4.9257812445439075, \"services_tco_e_yr\": 5.472003085841772, \"total_household_carbon_footprint_tco_e_yr\": 53.1018591940197, \"households\": 9811.0, \"total_county_carbon_footprint_tco_e_yr\": 520982.3405525273}, {\"population\": 14618, \"state\": \"VA\", \"county\": \"GREENE\", \"electricity_kwh\": 12485.172927071166, \"nat_gas_cu_ft\": 26009.803831707926, \"fueloil_gallons\": 109.5125739665603, \"vehicle_miles_traveled\": 32789.61622656998, \"transport_tco_e_yr\": 21.951205571593263, \"housing_tco_e_yr\": 13.144672529122008, \"food_tco_e_yr\": 8.067808181693803, \"goods_tco_e_yr\": 5.493350115918725, \"services_tco_e_yr\": 6.122452784851595, \"total_household_carbon_footprint_tco_e_yr\": 54.77948918317939, \"households\": 5814.0, \"total_county_carbon_footprint_tco_e_yr\": 318487.950111005}, {\"population\": 18178, \"state\": \"VA\", \"county\": \"FLUVANNA\", \"electricity_kwh\": 12283.38945141475, \"nat_gas_cu_ft\": 25951.74526119307, \"fueloil_gallons\": 82.91614874900007, \"vehicle_miles_traveled\": 31416.515678292442, \"transport_tco_e_yr\": 21.201427803637397, \"housing_tco_e_yr\": 15.753427359921815, \"food_tco_e_yr\": 7.76570249752448, \"goods_tco_e_yr\": 5.529530943556138, \"services_tco_e_yr\": 6.234217828144786, \"total_household_carbon_footprint_tco_e_yr\": 56.48430643278462, \"households\": 7222.0, \"total_county_carbon_footprint_tco_e_yr\": 407929.66105757054}]}}, {\"mode\": \"vega-lite\"});\n",
       "</script>"
      ],
      "text/plain": [
       "alt.Chart(...)"
      ]
     },
     "execution_count": 17,
     "metadata": {},
     "output_type": "execute_result"
    }
   ],
   "source": [
    "alt.Chart(emissions).mark_bar().encode(\n",
    "    y=alt.X(\"county:N\", sort=\"-x\"),\n",
    "    x=alt.Y(\"total_household_carbon_footprint_tco_e_yr:Q\"),\n",
    "    color=\"county:N\",\n",
    "    tooltip=\"total_household_carbon_footprint_tco_e_yr:Q\",\n",
    ").properties(\n",
    "    title=\"Average household emissions by county\",\n",
    ")"
   ]
  },
  {
   "cell_type": "code",
   "execution_count": 18,
   "id": "d3580646",
   "metadata": {},
   "outputs": [],
   "source": [
    "emissions_long = emissions.melt(\n",
    "    id_vars=[\"county\"],\n",
    "    value_vars=[\n",
    "        \"transport_tco_e_yr\",\n",
    "        \"housing_tco_e_yr\",\n",
    "        \"food_tco_e_yr\",\n",
    "        \"goods_tco_e_yr\",\n",
    "        \"services_tco_e_yr\",\n",
    "    ],\n",
    "    var_name=\"category\",\n",
    "    value_name=\"tco_e_yr\",\n",
    ")\n",
    "emissions_long[\"category\"] = emissions_long[\"category\"].str.replace(\"_tco_e_yr\", \"\")"
   ]
  },
  {
   "cell_type": "code",
   "execution_count": 19,
   "id": "3b641297",
   "metadata": {},
   "outputs": [
    {
     "data": {
      "text/html": [
       "\n",
       "<div id=\"altair-viz-9fffc0ba63694aaab3fb09602c4b5473\"></div>\n",
       "<script type=\"text/javascript\">\n",
       "  var VEGA_DEBUG = (typeof VEGA_DEBUG == \"undefined\") ? {} : VEGA_DEBUG;\n",
       "  (function(spec, embedOpt){\n",
       "    let outputDiv = document.currentScript.previousElementSibling;\n",
       "    if (outputDiv.id !== \"altair-viz-9fffc0ba63694aaab3fb09602c4b5473\") {\n",
       "      outputDiv = document.getElementById(\"altair-viz-9fffc0ba63694aaab3fb09602c4b5473\");\n",
       "    }\n",
       "    const paths = {\n",
       "      \"vega\": \"https://cdn.jsdelivr.net/npm//vega@5?noext\",\n",
       "      \"vega-lib\": \"https://cdn.jsdelivr.net/npm//vega-lib?noext\",\n",
       "      \"vega-lite\": \"https://cdn.jsdelivr.net/npm//vega-lite@4.17.0?noext\",\n",
       "      \"vega-embed\": \"https://cdn.jsdelivr.net/npm//vega-embed@6?noext\",\n",
       "    };\n",
       "\n",
       "    function maybeLoadScript(lib, version) {\n",
       "      var key = `${lib.replace(\"-\", \"\")}_version`;\n",
       "      return (VEGA_DEBUG[key] == version) ?\n",
       "        Promise.resolve(paths[lib]) :\n",
       "        new Promise(function(resolve, reject) {\n",
       "          var s = document.createElement('script');\n",
       "          document.getElementsByTagName(\"head\")[0].appendChild(s);\n",
       "          s.async = true;\n",
       "          s.onload = () => {\n",
       "            VEGA_DEBUG[key] = version;\n",
       "            return resolve(paths[lib]);\n",
       "          };\n",
       "          s.onerror = () => reject(`Error loading script: ${paths[lib]}`);\n",
       "          s.src = paths[lib];\n",
       "        });\n",
       "    }\n",
       "\n",
       "    function showError(err) {\n",
       "      outputDiv.innerHTML = `<div class=\"error\" style=\"color:red;\">${err}</div>`;\n",
       "      throw err;\n",
       "    }\n",
       "\n",
       "    function displayChart(vegaEmbed) {\n",
       "      vegaEmbed(outputDiv, spec, embedOpt)\n",
       "        .catch(err => showError(`Javascript Error: ${err.message}<br>This usually means there's a typo in your chart specification. See the javascript console for the full traceback.`));\n",
       "    }\n",
       "\n",
       "    if(typeof define === \"function\" && define.amd) {\n",
       "      requirejs.config({paths});\n",
       "      require([\"vega-embed\"], displayChart, err => showError(`Error loading script: ${err.message}`));\n",
       "    } else {\n",
       "      maybeLoadScript(\"vega\", \"5\")\n",
       "        .then(() => maybeLoadScript(\"vega-lite\", \"4.17.0\"))\n",
       "        .then(() => maybeLoadScript(\"vega-embed\", \"6\"))\n",
       "        .catch(showError)\n",
       "        .then(() => displayChart(vegaEmbed));\n",
       "    }\n",
       "  })({\"config\": {\"view\": {\"continuousWidth\": 400, \"continuousHeight\": 300}}, \"data\": {\"name\": \"data-2c109e874409a3cf0d971a99e5627872\"}, \"mark\": \"bar\", \"encoding\": {\"color\": {\"field\": \"category\", \"type\": \"nominal\"}, \"tooltip\": {\"field\": \"tco_e_yr\", \"type\": \"quantitative\"}, \"x\": {\"field\": \"tco_e_yr\", \"type\": \"quantitative\"}, \"y\": {\"field\": \"county\", \"sort\": \"-x\", \"type\": \"nominal\"}}, \"title\": \"Average household emissions by county and source\", \"$schema\": \"https://vega.github.io/schema/vega-lite/v4.17.0.json\", \"datasets\": {\"data-2c109e874409a3cf0d971a99e5627872\": [{\"county\": \"CHARLOTTESVILLE CITY\", \"category\": \"transport\", \"tco_e_yr\": 13.01773779666675}, {\"county\": \"ALBEMARLE\", \"category\": \"transport\", \"tco_e_yr\": 18.97342610699456}, {\"county\": \"NELSON\", \"category\": \"transport\", \"tco_e_yr\": 18.884559045783956}, {\"county\": \"GREENE\", \"category\": \"transport\", \"tco_e_yr\": 21.951205571593263}, {\"county\": \"FLUVANNA\", \"category\": \"transport\", \"tco_e_yr\": 21.201427803637397}, {\"county\": \"CHARLOTTESVILLE CITY\", \"category\": \"housing\", \"tco_e_yr\": 11.638465764432762}, {\"county\": \"ALBEMARLE\", \"category\": \"housing\", \"tco_e_yr\": 13.964433768658782}, {\"county\": \"NELSON\", \"category\": \"housing\", \"tco_e_yr\": 16.468397006550372}, {\"county\": \"GREENE\", \"category\": \"housing\", \"tco_e_yr\": 13.144672529122008}, {\"county\": \"FLUVANNA\", \"category\": \"housing\", \"tco_e_yr\": 15.753427359921815}, {\"county\": \"CHARLOTTESVILLE CITY\", \"category\": \"food\", \"tco_e_yr\": 6.861300459614494}, {\"county\": \"ALBEMARLE\", \"category\": \"food\", \"tco_e_yr\": 7.413871676554603}, {\"county\": \"NELSON\", \"category\": \"food\", \"tco_e_yr\": 7.351118811299701}, {\"county\": \"GREENE\", \"category\": \"food\", \"tco_e_yr\": 8.067808181693803}, {\"county\": \"FLUVANNA\", \"category\": \"food\", \"tco_e_yr\": 7.76570249752448}, {\"county\": \"CHARLOTTESVILLE CITY\", \"category\": \"goods\", \"tco_e_yr\": 4.577359548232757}, {\"county\": \"ALBEMARLE\", \"category\": \"goods\", \"tco_e_yr\": 5.746582630337636}, {\"county\": \"NELSON\", \"category\": \"goods\", \"tco_e_yr\": 4.9257812445439075}, {\"county\": \"GREENE\", \"category\": \"goods\", \"tco_e_yr\": 5.493350115918725}, {\"county\": \"FLUVANNA\", \"category\": \"goods\", \"tco_e_yr\": 5.529530943556138}, {\"county\": \"CHARLOTTESVILLE CITY\", \"category\": \"services\", \"tco_e_yr\": 5.066087139813958}, {\"county\": \"ALBEMARLE\", \"category\": \"services\", \"tco_e_yr\": 6.565841399307654}, {\"county\": \"NELSON\", \"category\": \"services\", \"tco_e_yr\": 5.472003085841772}, {\"county\": \"GREENE\", \"category\": \"services\", \"tco_e_yr\": 6.122452784851595}, {\"county\": \"FLUVANNA\", \"category\": \"services\", \"tco_e_yr\": 6.234217828144786}]}}, {\"mode\": \"vega-lite\"});\n",
       "</script>"
      ],
      "text/plain": [
       "alt.Chart(...)"
      ]
     },
     "execution_count": 19,
     "metadata": {},
     "output_type": "execute_result"
    }
   ],
   "source": [
    "alt.Chart(emissions_long).mark_bar().encode(\n",
    "    y=alt.X(\"county:N\", sort=\"-x\"),\n",
    "    x=alt.Y(\"tco_e_yr:Q\"),\n",
    "    color=\"category:N\",\n",
    "    tooltip=\"tco_e_yr:Q\",\n",
    ").properties(\n",
    "    title=\"Average household emissions by county and source\",\n",
    ")"
   ]
  }
 ],
 "metadata": {
  "kernelspec": {
   "display_name": "Python 3 (ipykernel)",
   "language": "python",
   "name": "python3"
  },
  "language_info": {
   "codemirror_mode": {
    "name": "ipython",
    "version": 3
   },
   "file_extension": ".py",
   "mimetype": "text/x-python",
   "name": "python",
   "nbconvert_exporter": "python",
   "pygments_lexer": "ipython3",
   "version": "3.9.6"
  }
 },
 "nbformat": 4,
 "nbformat_minor": 5
}
